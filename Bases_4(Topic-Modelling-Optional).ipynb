{
  "nbformat": 4,
  "nbformat_minor": 0,
  "metadata": {
    "colab": {
      "name": "Copiar_antes_de_usar_TopicModelling_copia_alumno.ipynb",
      "provenance": [],
      "collapsed_sections": [],
      "include_colab_link": true
    },
    "kernelspec": {
      "name": "python3",
      "display_name": "Python 3"
    }
  },
  "cells": [
    {
      "cell_type": "markdown",
      "metadata": {
        "id": "view-in-github",
        "colab_type": "text"
      },
      "source": [
        "<a href=\"https://colab.research.google.com/github/Spocklight/Data_Mining_Bases/blob/main/Bases_4(Topic-Modelling-Optional).ipynb\" target=\"_parent\"><img src=\"https://colab.research.google.com/assets/colab-badge.svg\" alt=\"Open In Colab\"/></a>"
      ]
    },
    {
      "cell_type": "code",
      "metadata": {
        "id": "xuJwVBciX2mm",
        "colab": {
          "base_uri": "https://localhost:8080/"
        },
        "outputId": "33910138-9873-48a5-a925-cc02dd5dc370"
      },
      "source": [
        "import nltk\n",
        "nltk.download('stopwords')\n",
        "nltk.download('punkt')\n",
        "nltk.download('wordnet')\n",
        "nltk.download('averaged_perceptron_tagger')\n",
        "import sys  \n",
        "!{sys.executable} -m pip install contractions\n",
        "!pip install pyLDAvis\n"
      ],
      "execution_count": 1,
      "outputs": [
        {
          "output_type": "stream",
          "name": "stdout",
          "text": [
            "[nltk_data] Downloading package stopwords to /root/nltk_data...\n",
            "[nltk_data]   Unzipping corpora/stopwords.zip.\n",
            "[nltk_data] Downloading package punkt to /root/nltk_data...\n",
            "[nltk_data]   Unzipping tokenizers/punkt.zip.\n",
            "[nltk_data] Downloading package wordnet to /root/nltk_data...\n",
            "[nltk_data]   Unzipping corpora/wordnet.zip.\n",
            "[nltk_data] Downloading package averaged_perceptron_tagger to\n",
            "[nltk_data]     /root/nltk_data...\n",
            "[nltk_data]   Unzipping taggers/averaged_perceptron_tagger.zip.\n",
            "Looking in indexes: https://pypi.org/simple, https://us-python.pkg.dev/colab-wheels/public/simple/\n",
            "Collecting contractions\n",
            "  Downloading contractions-0.1.72-py2.py3-none-any.whl (8.3 kB)\n",
            "Collecting textsearch>=0.0.21\n",
            "  Downloading textsearch-0.0.21-py2.py3-none-any.whl (7.5 kB)\n",
            "Collecting pyahocorasick\n",
            "  Downloading pyahocorasick-1.4.4-cp37-cp37m-manylinux_2_17_x86_64.manylinux2014_x86_64.whl (106 kB)\n",
            "\u001b[K     |████████████████████████████████| 106 kB 7.7 MB/s \n",
            "\u001b[?25hCollecting anyascii\n",
            "  Downloading anyascii-0.3.1-py3-none-any.whl (287 kB)\n",
            "\u001b[K     |████████████████████████████████| 287 kB 63.2 MB/s \n",
            "\u001b[?25hInstalling collected packages: pyahocorasick, anyascii, textsearch, contractions\n",
            "Successfully installed anyascii-0.3.1 contractions-0.1.72 pyahocorasick-1.4.4 textsearch-0.0.21\n",
            "Looking in indexes: https://pypi.org/simple, https://us-python.pkg.dev/colab-wheels/public/simple/\n",
            "Collecting pyLDAvis\n",
            "  Downloading pyLDAvis-3.3.1.tar.gz (1.7 MB)\n",
            "\u001b[K     |████████████████████████████████| 1.7 MB 7.7 MB/s \n",
            "\u001b[?25h  Installing build dependencies ... \u001b[?25l\u001b[?25hdone\n",
            "  Getting requirements to build wheel ... \u001b[?25l\u001b[?25hdone\n",
            "  Installing backend dependencies ... \u001b[?25l\u001b[?25hdone\n",
            "    Preparing wheel metadata ... \u001b[?25l\u001b[?25hdone\n",
            "Requirement already satisfied: pandas>=1.2.0 in /usr/local/lib/python3.7/dist-packages (from pyLDAvis) (1.3.5)\n",
            "Requirement already satisfied: setuptools in /usr/local/lib/python3.7/dist-packages (from pyLDAvis) (57.4.0)\n",
            "Requirement already satisfied: scikit-learn in /usr/local/lib/python3.7/dist-packages (from pyLDAvis) (1.0.2)\n",
            "Requirement already satisfied: joblib in /usr/local/lib/python3.7/dist-packages (from pyLDAvis) (1.1.0)\n",
            "Collecting funcy\n",
            "  Downloading funcy-1.17-py2.py3-none-any.whl (33 kB)\n",
            "Requirement already satisfied: jinja2 in /usr/local/lib/python3.7/dist-packages (from pyLDAvis) (2.11.3)\n",
            "Requirement already satisfied: numpy>=1.20.0 in /usr/local/lib/python3.7/dist-packages (from pyLDAvis) (1.21.6)\n",
            "Requirement already satisfied: numexpr in /usr/local/lib/python3.7/dist-packages (from pyLDAvis) (2.8.1)\n",
            "Requirement already satisfied: sklearn in /usr/local/lib/python3.7/dist-packages (from pyLDAvis) (0.0)\n",
            "Requirement already satisfied: future in /usr/local/lib/python3.7/dist-packages (from pyLDAvis) (0.16.0)\n",
            "Requirement already satisfied: scipy in /usr/local/lib/python3.7/dist-packages (from pyLDAvis) (1.4.1)\n",
            "Requirement already satisfied: gensim in /usr/local/lib/python3.7/dist-packages (from pyLDAvis) (3.6.0)\n",
            "Requirement already satisfied: pytz>=2017.3 in /usr/local/lib/python3.7/dist-packages (from pandas>=1.2.0->pyLDAvis) (2022.1)\n",
            "Requirement already satisfied: python-dateutil>=2.7.3 in /usr/local/lib/python3.7/dist-packages (from pandas>=1.2.0->pyLDAvis) (2.8.2)\n",
            "Requirement already satisfied: six>=1.5 in /usr/local/lib/python3.7/dist-packages (from python-dateutil>=2.7.3->pandas>=1.2.0->pyLDAvis) (1.15.0)\n",
            "Requirement already satisfied: smart-open>=1.2.1 in /usr/local/lib/python3.7/dist-packages (from gensim->pyLDAvis) (6.0.0)\n",
            "Requirement already satisfied: MarkupSafe>=0.23 in /usr/local/lib/python3.7/dist-packages (from jinja2->pyLDAvis) (2.0.1)\n",
            "Requirement already satisfied: packaging in /usr/local/lib/python3.7/dist-packages (from numexpr->pyLDAvis) (21.3)\n",
            "Requirement already satisfied: pyparsing!=3.0.5,>=2.0.2 in /usr/local/lib/python3.7/dist-packages (from packaging->numexpr->pyLDAvis) (3.0.9)\n",
            "Requirement already satisfied: threadpoolctl>=2.0.0 in /usr/local/lib/python3.7/dist-packages (from scikit-learn->pyLDAvis) (3.1.0)\n",
            "Building wheels for collected packages: pyLDAvis\n",
            "  Building wheel for pyLDAvis (PEP 517) ... \u001b[?25l\u001b[?25hdone\n",
            "  Created wheel for pyLDAvis: filename=pyLDAvis-3.3.1-py2.py3-none-any.whl size=136898 sha256=2dc41f608a4f8b2902b4e78a9ecf3e970f2db7f350be9fc5aea37ae5a7781eb7\n",
            "  Stored in directory: /root/.cache/pip/wheels/c9/21/f6/17bcf2667e8a68532ba2fbf6d5c72fdf4c7f7d9abfa4852d2f\n",
            "Successfully built pyLDAvis\n",
            "Installing collected packages: funcy, pyLDAvis\n",
            "Successfully installed funcy-1.17 pyLDAvis-3.3.1\n"
          ]
        }
      ]
    },
    {
      "cell_type": "markdown",
      "metadata": {
        "id": "3rt_fST3YeD_"
      },
      "source": [
        "# Imports\n"
      ]
    },
    {
      "cell_type": "code",
      "metadata": {
        "id": "IGy2ts0fYgVi",
        "colab": {
          "base_uri": "https://localhost:8080/"
        },
        "outputId": "4aa8acae-9700-43b4-ef2e-cd573d52f260"
      },
      "source": [
        "from sklearn.feature_extraction.text import CountVectorizer\n",
        "from gensim.corpora import Dictionary\n",
        "from gensim.models.ldamodel import LdaModel\n",
        "from gensim.models import CoherenceModel\n",
        "from nltk.corpus import stopwords\n",
        "import nltk\n",
        "nltk.download('stopwords')\n",
        "import pandas as pd\n",
        "import re\n",
        "import numpy as np\n",
        "from nltk import word_tokenize, pos_tag"
      ],
      "execution_count": 2,
      "outputs": [
        {
          "output_type": "stream",
          "name": "stdout",
          "text": [
            "[nltk_data] Downloading package stopwords to /root/nltk_data...\n",
            "[nltk_data]   Package stopwords is already up-to-date!\n"
          ]
        }
      ]
    },
    {
      "cell_type": "markdown",
      "metadata": {
        "id": "lRPb5Sc6Yd5j"
      },
      "source": [
        "# Cargar y preparar los datos\n"
      ]
    },
    {
      "cell_type": "markdown",
      "metadata": {
        "id": "TkYB-1EUjOej"
      },
      "source": [
        "En primer lugar, cargamos los datos. Esta vez vamos a descargarlos de un usuario de github que ha compartido el típico dataset de \"20newsGroups\" en su cuenta"
      ]
    },
    {
      "cell_type": "code",
      "metadata": {
        "id": "KjdWPOVxYdPH"
      },
      "source": [
        "dataset =pd.read_json(\"https://raw.githubusercontent.com/selva86/datasets/master/newsgroups.json\")"
      ],
      "execution_count": 3,
      "outputs": []
    },
    {
      "cell_type": "code",
      "metadata": {
        "id": "FnYOtIdYa82S",
        "colab": {
          "base_uri": "https://localhost:8080/",
          "height": 424
        },
        "outputId": "6b1bed6e-ecab-4918-d054-86df8a9c827d"
      },
      "source": [
        "# mostrar el head del corspus\n",
        "dataset"
      ],
      "execution_count": 5,
      "outputs": [
        {
          "output_type": "execute_result",
          "data": {
            "text/plain": [
              "                                                 content  target  \\\n",
              "0      From: lerxst@wam.umd.edu (where's my thing)\\nS...       7   \n",
              "1      From: guykuo@carson.u.washington.edu (Guy Kuo)...       4   \n",
              "2      From: twillis@ec.ecn.purdue.edu (Thomas E Will...       4   \n",
              "3      From: jgreen@amber (Joe Green)\\nSubject: Re: W...       1   \n",
              "4      From: jcm@head-cfa.harvard.edu (Jonathan McDow...      14   \n",
              "...                                                  ...     ...   \n",
              "11309  From: jim.zisfein@factory.com (Jim Zisfein) \\n...      13   \n",
              "11310  From: ebodin@pearl.tufts.edu\\nSubject: Screen ...       4   \n",
              "11311  From: westes@netcom.com (Will Estes)\\nSubject:...       3   \n",
              "11312  From: steve@hcrlgw (Steven Collins)\\nSubject: ...       1   \n",
              "11313  From: gunning@cco.caltech.edu (Kevin J. Gunnin...       8   \n",
              "\n",
              "                   target_names  \n",
              "0                     rec.autos  \n",
              "1         comp.sys.mac.hardware  \n",
              "2         comp.sys.mac.hardware  \n",
              "3                 comp.graphics  \n",
              "4                     sci.space  \n",
              "...                         ...  \n",
              "11309                   sci.med  \n",
              "11310     comp.sys.mac.hardware  \n",
              "11311  comp.sys.ibm.pc.hardware  \n",
              "11312             comp.graphics  \n",
              "11313           rec.motorcycles  \n",
              "\n",
              "[11314 rows x 3 columns]"
            ],
            "text/html": [
              "\n",
              "  <div id=\"df-6ef0af32-bb57-4afa-8942-cf64641cb0f3\">\n",
              "    <div class=\"colab-df-container\">\n",
              "      <div>\n",
              "<style scoped>\n",
              "    .dataframe tbody tr th:only-of-type {\n",
              "        vertical-align: middle;\n",
              "    }\n",
              "\n",
              "    .dataframe tbody tr th {\n",
              "        vertical-align: top;\n",
              "    }\n",
              "\n",
              "    .dataframe thead th {\n",
              "        text-align: right;\n",
              "    }\n",
              "</style>\n",
              "<table border=\"1\" class=\"dataframe\">\n",
              "  <thead>\n",
              "    <tr style=\"text-align: right;\">\n",
              "      <th></th>\n",
              "      <th>content</th>\n",
              "      <th>target</th>\n",
              "      <th>target_names</th>\n",
              "    </tr>\n",
              "  </thead>\n",
              "  <tbody>\n",
              "    <tr>\n",
              "      <th>0</th>\n",
              "      <td>From: lerxst@wam.umd.edu (where's my thing)\\nS...</td>\n",
              "      <td>7</td>\n",
              "      <td>rec.autos</td>\n",
              "    </tr>\n",
              "    <tr>\n",
              "      <th>1</th>\n",
              "      <td>From: guykuo@carson.u.washington.edu (Guy Kuo)...</td>\n",
              "      <td>4</td>\n",
              "      <td>comp.sys.mac.hardware</td>\n",
              "    </tr>\n",
              "    <tr>\n",
              "      <th>2</th>\n",
              "      <td>From: twillis@ec.ecn.purdue.edu (Thomas E Will...</td>\n",
              "      <td>4</td>\n",
              "      <td>comp.sys.mac.hardware</td>\n",
              "    </tr>\n",
              "    <tr>\n",
              "      <th>3</th>\n",
              "      <td>From: jgreen@amber (Joe Green)\\nSubject: Re: W...</td>\n",
              "      <td>1</td>\n",
              "      <td>comp.graphics</td>\n",
              "    </tr>\n",
              "    <tr>\n",
              "      <th>4</th>\n",
              "      <td>From: jcm@head-cfa.harvard.edu (Jonathan McDow...</td>\n",
              "      <td>14</td>\n",
              "      <td>sci.space</td>\n",
              "    </tr>\n",
              "    <tr>\n",
              "      <th>...</th>\n",
              "      <td>...</td>\n",
              "      <td>...</td>\n",
              "      <td>...</td>\n",
              "    </tr>\n",
              "    <tr>\n",
              "      <th>11309</th>\n",
              "      <td>From: jim.zisfein@factory.com (Jim Zisfein) \\n...</td>\n",
              "      <td>13</td>\n",
              "      <td>sci.med</td>\n",
              "    </tr>\n",
              "    <tr>\n",
              "      <th>11310</th>\n",
              "      <td>From: ebodin@pearl.tufts.edu\\nSubject: Screen ...</td>\n",
              "      <td>4</td>\n",
              "      <td>comp.sys.mac.hardware</td>\n",
              "    </tr>\n",
              "    <tr>\n",
              "      <th>11311</th>\n",
              "      <td>From: westes@netcom.com (Will Estes)\\nSubject:...</td>\n",
              "      <td>3</td>\n",
              "      <td>comp.sys.ibm.pc.hardware</td>\n",
              "    </tr>\n",
              "    <tr>\n",
              "      <th>11312</th>\n",
              "      <td>From: steve@hcrlgw (Steven Collins)\\nSubject: ...</td>\n",
              "      <td>1</td>\n",
              "      <td>comp.graphics</td>\n",
              "    </tr>\n",
              "    <tr>\n",
              "      <th>11313</th>\n",
              "      <td>From: gunning@cco.caltech.edu (Kevin J. Gunnin...</td>\n",
              "      <td>8</td>\n",
              "      <td>rec.motorcycles</td>\n",
              "    </tr>\n",
              "  </tbody>\n",
              "</table>\n",
              "<p>11314 rows × 3 columns</p>\n",
              "</div>\n",
              "      <button class=\"colab-df-convert\" onclick=\"convertToInteractive('df-6ef0af32-bb57-4afa-8942-cf64641cb0f3')\"\n",
              "              title=\"Convert this dataframe to an interactive table.\"\n",
              "              style=\"display:none;\">\n",
              "        \n",
              "  <svg xmlns=\"http://www.w3.org/2000/svg\" height=\"24px\"viewBox=\"0 0 24 24\"\n",
              "       width=\"24px\">\n",
              "    <path d=\"M0 0h24v24H0V0z\" fill=\"none\"/>\n",
              "    <path d=\"M18.56 5.44l.94 2.06.94-2.06 2.06-.94-2.06-.94-.94-2.06-.94 2.06-2.06.94zm-11 1L8.5 8.5l.94-2.06 2.06-.94-2.06-.94L8.5 2.5l-.94 2.06-2.06.94zm10 10l.94 2.06.94-2.06 2.06-.94-2.06-.94-.94-2.06-.94 2.06-2.06.94z\"/><path d=\"M17.41 7.96l-1.37-1.37c-.4-.4-.92-.59-1.43-.59-.52 0-1.04.2-1.43.59L10.3 9.45l-7.72 7.72c-.78.78-.78 2.05 0 2.83L4 21.41c.39.39.9.59 1.41.59.51 0 1.02-.2 1.41-.59l7.78-7.78 2.81-2.81c.8-.78.8-2.07 0-2.86zM5.41 20L4 18.59l7.72-7.72 1.47 1.35L5.41 20z\"/>\n",
              "  </svg>\n",
              "      </button>\n",
              "      \n",
              "  <style>\n",
              "    .colab-df-container {\n",
              "      display:flex;\n",
              "      flex-wrap:wrap;\n",
              "      gap: 12px;\n",
              "    }\n",
              "\n",
              "    .colab-df-convert {\n",
              "      background-color: #E8F0FE;\n",
              "      border: none;\n",
              "      border-radius: 50%;\n",
              "      cursor: pointer;\n",
              "      display: none;\n",
              "      fill: #1967D2;\n",
              "      height: 32px;\n",
              "      padding: 0 0 0 0;\n",
              "      width: 32px;\n",
              "    }\n",
              "\n",
              "    .colab-df-convert:hover {\n",
              "      background-color: #E2EBFA;\n",
              "      box-shadow: 0px 1px 2px rgba(60, 64, 67, 0.3), 0px 1px 3px 1px rgba(60, 64, 67, 0.15);\n",
              "      fill: #174EA6;\n",
              "    }\n",
              "\n",
              "    [theme=dark] .colab-df-convert {\n",
              "      background-color: #3B4455;\n",
              "      fill: #D2E3FC;\n",
              "    }\n",
              "\n",
              "    [theme=dark] .colab-df-convert:hover {\n",
              "      background-color: #434B5C;\n",
              "      box-shadow: 0px 1px 3px 1px rgba(0, 0, 0, 0.15);\n",
              "      filter: drop-shadow(0px 1px 2px rgba(0, 0, 0, 0.3));\n",
              "      fill: #FFFFFF;\n",
              "    }\n",
              "  </style>\n",
              "\n",
              "      <script>\n",
              "        const buttonEl =\n",
              "          document.querySelector('#df-6ef0af32-bb57-4afa-8942-cf64641cb0f3 button.colab-df-convert');\n",
              "        buttonEl.style.display =\n",
              "          google.colab.kernel.accessAllowed ? 'block' : 'none';\n",
              "\n",
              "        async function convertToInteractive(key) {\n",
              "          const element = document.querySelector('#df-6ef0af32-bb57-4afa-8942-cf64641cb0f3');\n",
              "          const dataTable =\n",
              "            await google.colab.kernel.invokeFunction('convertToInteractive',\n",
              "                                                     [key], {});\n",
              "          if (!dataTable) return;\n",
              "\n",
              "          const docLinkHtml = 'Like what you see? Visit the ' +\n",
              "            '<a target=\"_blank\" href=https://colab.research.google.com/notebooks/data_table.ipynb>data table notebook</a>'\n",
              "            + ' to learn more about interactive tables.';\n",
              "          element.innerHTML = '';\n",
              "          dataTable['output_type'] = 'display_data';\n",
              "          await google.colab.output.renderOutput(dataTable, element);\n",
              "          const docLink = document.createElement('div');\n",
              "          docLink.innerHTML = docLinkHtml;\n",
              "          element.appendChild(docLink);\n",
              "        }\n",
              "      </script>\n",
              "    </div>\n",
              "  </div>\n",
              "  "
            ]
          },
          "metadata": {},
          "execution_count": 5
        }
      ]
    },
    {
      "cell_type": "markdown",
      "metadata": {
        "id": "wnB3nPl6etIC"
      },
      "source": [
        "Se observa un  texto muy \"sucio\" que vamos a tener que \"limpiar\""
      ]
    },
    {
      "cell_type": "markdown",
      "metadata": {
        "id": "4x31KMIzXzkW"
      },
      "source": [
        "Vamos a comprobar el tamaño del dataset:"
      ]
    },
    {
      "cell_type": "code",
      "metadata": {
        "colab": {
          "base_uri": "https://localhost:8080/"
        },
        "id": "8cMr_JLnXyLv",
        "outputId": "82278bd9-33fa-464d-b25d-fdff3dd2c0f3"
      },
      "source": [
        "print(\"Tenemos un conjunto de {} documentos\".format(len(dataset)))"
      ],
      "execution_count": 6,
      "outputs": [
        {
          "output_type": "stream",
          "name": "stdout",
          "text": [
            "Tenemos un conjunto de 11314 documentos\n"
          ]
        }
      ]
    },
    {
      "cell_type": "markdown",
      "metadata": {
        "id": "yUMrCNQLWnER"
      },
      "source": [
        "Despues, quitaremos las filsa con algún valor vacío (NA) y quitaremos los duplicados."
      ]
    },
    {
      "cell_type": "code",
      "metadata": {
        "colab": {
          "base_uri": "https://localhost:8080/"
        },
        "id": "RlTJyjagXNIK",
        "outputId": "df2abc2a-87ba-43a9-d6d3-5cf418b71ac2"
      },
      "source": [
        "print(\"Existen {} noticias duplicadas\".format(np.sum(dataset.duplicated(subset=[\"content\"]))))\n",
        "# Quitaremos esos duplicados\n",
        "dataset = dataset.drop_duplicates()\n",
        "print(\"Despues de quitar duplicados tenemos un conjunto de {} noticias\".format(dataset.shape[0]))"
      ],
      "execution_count": 7,
      "outputs": [
        {
          "output_type": "stream",
          "name": "stdout",
          "text": [
            "Existen 0 noticias duplicadas\n",
            "Despues de quitar duplicados tenemos un conjunto de 11314 noticias\n"
          ]
        }
      ]
    },
    {
      "cell_type": "markdown",
      "metadata": {
        "id": "QKOhOBg4jZeV"
      },
      "source": [
        "Observamos que el corpus está sin preprocesar. Hay correos electrónicos, símbolos de retorno de carro (\"\\n\")... "
      ]
    },
    {
      "cell_type": "markdown",
      "metadata": {
        "id": "-DAA3nekdHhe"
      },
      "source": [
        "# Preprocesado"
      ]
    },
    {
      "cell_type": "markdown",
      "metadata": {
        "id": "H_P9MrV2oXex"
      },
      "source": [
        "## Normalización"
      ]
    },
    {
      "cell_type": "markdown",
      "metadata": {
        "id": "myTVF0NGk-UG"
      },
      "source": [
        "Vamos a transformar los datos. Comenzaremos trabajando con los componentes que \"ensucian\" el corpus: los correos electrónicos, presencia de \"\\n\", comillas... Lo hacemos esta vez empleando la librería re"
      ]
    },
    {
      "cell_type": "code",
      "metadata": {
        "id": "aEvobTAsXmMy",
        "colab": {
          "base_uri": "https://localhost:8080/",
          "height": 81
        },
        "outputId": "acdb1e94-7c5b-447d-ae41-26e77786f12d"
      },
      "source": [
        "# Load the regular expression library\n",
        "import re\n",
        "import string\n",
        "# Quita los emails presententes en un string (toma todos los string desde un espacio hasta la @ y todo lo que hay desde la @ hasta un espacio y lo sustituye por un \"\")\n",
        "dataset['text_processed'] = dataset['content'].apply(lambda x: re.sub('\\S*@\\S*\\s?', '', x))\n",
        "dataset.head(1)\n"
      ],
      "execution_count": 8,
      "outputs": [
        {
          "output_type": "execute_result",
          "data": {
            "text/plain": [
              "                                             content  target target_names  \\\n",
              "0  From: lerxst@wam.umd.edu (where's my thing)\\nS...       7    rec.autos   \n",
              "\n",
              "                                      text_processed  \n",
              "0  From: (where's my thing)\\nSubject: WHAT car is...  "
            ],
            "text/html": [
              "\n",
              "  <div id=\"df-1252a09b-c92c-441d-a7b8-509d45c44796\">\n",
              "    <div class=\"colab-df-container\">\n",
              "      <div>\n",
              "<style scoped>\n",
              "    .dataframe tbody tr th:only-of-type {\n",
              "        vertical-align: middle;\n",
              "    }\n",
              "\n",
              "    .dataframe tbody tr th {\n",
              "        vertical-align: top;\n",
              "    }\n",
              "\n",
              "    .dataframe thead th {\n",
              "        text-align: right;\n",
              "    }\n",
              "</style>\n",
              "<table border=\"1\" class=\"dataframe\">\n",
              "  <thead>\n",
              "    <tr style=\"text-align: right;\">\n",
              "      <th></th>\n",
              "      <th>content</th>\n",
              "      <th>target</th>\n",
              "      <th>target_names</th>\n",
              "      <th>text_processed</th>\n",
              "    </tr>\n",
              "  </thead>\n",
              "  <tbody>\n",
              "    <tr>\n",
              "      <th>0</th>\n",
              "      <td>From: lerxst@wam.umd.edu (where's my thing)\\nS...</td>\n",
              "      <td>7</td>\n",
              "      <td>rec.autos</td>\n",
              "      <td>From: (where's my thing)\\nSubject: WHAT car is...</td>\n",
              "    </tr>\n",
              "  </tbody>\n",
              "</table>\n",
              "</div>\n",
              "      <button class=\"colab-df-convert\" onclick=\"convertToInteractive('df-1252a09b-c92c-441d-a7b8-509d45c44796')\"\n",
              "              title=\"Convert this dataframe to an interactive table.\"\n",
              "              style=\"display:none;\">\n",
              "        \n",
              "  <svg xmlns=\"http://www.w3.org/2000/svg\" height=\"24px\"viewBox=\"0 0 24 24\"\n",
              "       width=\"24px\">\n",
              "    <path d=\"M0 0h24v24H0V0z\" fill=\"none\"/>\n",
              "    <path d=\"M18.56 5.44l.94 2.06.94-2.06 2.06-.94-2.06-.94-.94-2.06-.94 2.06-2.06.94zm-11 1L8.5 8.5l.94-2.06 2.06-.94-2.06-.94L8.5 2.5l-.94 2.06-2.06.94zm10 10l.94 2.06.94-2.06 2.06-.94-2.06-.94-.94-2.06-.94 2.06-2.06.94z\"/><path d=\"M17.41 7.96l-1.37-1.37c-.4-.4-.92-.59-1.43-.59-.52 0-1.04.2-1.43.59L10.3 9.45l-7.72 7.72c-.78.78-.78 2.05 0 2.83L4 21.41c.39.39.9.59 1.41.59.51 0 1.02-.2 1.41-.59l7.78-7.78 2.81-2.81c.8-.78.8-2.07 0-2.86zM5.41 20L4 18.59l7.72-7.72 1.47 1.35L5.41 20z\"/>\n",
              "  </svg>\n",
              "      </button>\n",
              "      \n",
              "  <style>\n",
              "    .colab-df-container {\n",
              "      display:flex;\n",
              "      flex-wrap:wrap;\n",
              "      gap: 12px;\n",
              "    }\n",
              "\n",
              "    .colab-df-convert {\n",
              "      background-color: #E8F0FE;\n",
              "      border: none;\n",
              "      border-radius: 50%;\n",
              "      cursor: pointer;\n",
              "      display: none;\n",
              "      fill: #1967D2;\n",
              "      height: 32px;\n",
              "      padding: 0 0 0 0;\n",
              "      width: 32px;\n",
              "    }\n",
              "\n",
              "    .colab-df-convert:hover {\n",
              "      background-color: #E2EBFA;\n",
              "      box-shadow: 0px 1px 2px rgba(60, 64, 67, 0.3), 0px 1px 3px 1px rgba(60, 64, 67, 0.15);\n",
              "      fill: #174EA6;\n",
              "    }\n",
              "\n",
              "    [theme=dark] .colab-df-convert {\n",
              "      background-color: #3B4455;\n",
              "      fill: #D2E3FC;\n",
              "    }\n",
              "\n",
              "    [theme=dark] .colab-df-convert:hover {\n",
              "      background-color: #434B5C;\n",
              "      box-shadow: 0px 1px 3px 1px rgba(0, 0, 0, 0.15);\n",
              "      filter: drop-shadow(0px 1px 2px rgba(0, 0, 0, 0.3));\n",
              "      fill: #FFFFFF;\n",
              "    }\n",
              "  </style>\n",
              "\n",
              "      <script>\n",
              "        const buttonEl =\n",
              "          document.querySelector('#df-1252a09b-c92c-441d-a7b8-509d45c44796 button.colab-df-convert');\n",
              "        buttonEl.style.display =\n",
              "          google.colab.kernel.accessAllowed ? 'block' : 'none';\n",
              "\n",
              "        async function convertToInteractive(key) {\n",
              "          const element = document.querySelector('#df-1252a09b-c92c-441d-a7b8-509d45c44796');\n",
              "          const dataTable =\n",
              "            await google.colab.kernel.invokeFunction('convertToInteractive',\n",
              "                                                     [key], {});\n",
              "          if (!dataTable) return;\n",
              "\n",
              "          const docLinkHtml = 'Like what you see? Visit the ' +\n",
              "            '<a target=\"_blank\" href=https://colab.research.google.com/notebooks/data_table.ipynb>data table notebook</a>'\n",
              "            + ' to learn more about interactive tables.';\n",
              "          element.innerHTML = '';\n",
              "          dataTable['output_type'] = 'display_data';\n",
              "          await google.colab.output.renderOutput(dataTable, element);\n",
              "          const docLink = document.createElement('div');\n",
              "          docLink.innerHTML = docLinkHtml;\n",
              "          element.appendChild(docLink);\n",
              "        }\n",
              "      </script>\n",
              "    </div>\n",
              "  </div>\n",
              "  "
            ]
          },
          "metadata": {},
          "execution_count": 8
        }
      ]
    },
    {
      "cell_type": "code",
      "source": [
        "# sustituir el \\n\n",
        "dataset['text_processed'] = dataset['text_processed'].apply(lambda x: re.sub('\\n', ' ', x))\n",
        "dataset.head(1)"
      ],
      "metadata": {
        "id": "U1vVka_T4Xza",
        "colab": {
          "base_uri": "https://localhost:8080/",
          "height": 81
        },
        "outputId": "75812939-e403-44e1-90a2-2fad307662ce"
      },
      "execution_count": 9,
      "outputs": [
        {
          "output_type": "execute_result",
          "data": {
            "text/plain": [
              "                                             content  target target_names  \\\n",
              "0  From: lerxst@wam.umd.edu (where's my thing)\\nS...       7    rec.autos   \n",
              "\n",
              "                                      text_processed  \n",
              "0  From: (where's my thing) Subject: WHAT car is ...  "
            ],
            "text/html": [
              "\n",
              "  <div id=\"df-6524d9a9-fe83-490d-8547-364e2133191f\">\n",
              "    <div class=\"colab-df-container\">\n",
              "      <div>\n",
              "<style scoped>\n",
              "    .dataframe tbody tr th:only-of-type {\n",
              "        vertical-align: middle;\n",
              "    }\n",
              "\n",
              "    .dataframe tbody tr th {\n",
              "        vertical-align: top;\n",
              "    }\n",
              "\n",
              "    .dataframe thead th {\n",
              "        text-align: right;\n",
              "    }\n",
              "</style>\n",
              "<table border=\"1\" class=\"dataframe\">\n",
              "  <thead>\n",
              "    <tr style=\"text-align: right;\">\n",
              "      <th></th>\n",
              "      <th>content</th>\n",
              "      <th>target</th>\n",
              "      <th>target_names</th>\n",
              "      <th>text_processed</th>\n",
              "    </tr>\n",
              "  </thead>\n",
              "  <tbody>\n",
              "    <tr>\n",
              "      <th>0</th>\n",
              "      <td>From: lerxst@wam.umd.edu (where's my thing)\\nS...</td>\n",
              "      <td>7</td>\n",
              "      <td>rec.autos</td>\n",
              "      <td>From: (where's my thing) Subject: WHAT car is ...</td>\n",
              "    </tr>\n",
              "  </tbody>\n",
              "</table>\n",
              "</div>\n",
              "      <button class=\"colab-df-convert\" onclick=\"convertToInteractive('df-6524d9a9-fe83-490d-8547-364e2133191f')\"\n",
              "              title=\"Convert this dataframe to an interactive table.\"\n",
              "              style=\"display:none;\">\n",
              "        \n",
              "  <svg xmlns=\"http://www.w3.org/2000/svg\" height=\"24px\"viewBox=\"0 0 24 24\"\n",
              "       width=\"24px\">\n",
              "    <path d=\"M0 0h24v24H0V0z\" fill=\"none\"/>\n",
              "    <path d=\"M18.56 5.44l.94 2.06.94-2.06 2.06-.94-2.06-.94-.94-2.06-.94 2.06-2.06.94zm-11 1L8.5 8.5l.94-2.06 2.06-.94-2.06-.94L8.5 2.5l-.94 2.06-2.06.94zm10 10l.94 2.06.94-2.06 2.06-.94-2.06-.94-.94-2.06-.94 2.06-2.06.94z\"/><path d=\"M17.41 7.96l-1.37-1.37c-.4-.4-.92-.59-1.43-.59-.52 0-1.04.2-1.43.59L10.3 9.45l-7.72 7.72c-.78.78-.78 2.05 0 2.83L4 21.41c.39.39.9.59 1.41.59.51 0 1.02-.2 1.41-.59l7.78-7.78 2.81-2.81c.8-.78.8-2.07 0-2.86zM5.41 20L4 18.59l7.72-7.72 1.47 1.35L5.41 20z\"/>\n",
              "  </svg>\n",
              "      </button>\n",
              "      \n",
              "  <style>\n",
              "    .colab-df-container {\n",
              "      display:flex;\n",
              "      flex-wrap:wrap;\n",
              "      gap: 12px;\n",
              "    }\n",
              "\n",
              "    .colab-df-convert {\n",
              "      background-color: #E8F0FE;\n",
              "      border: none;\n",
              "      border-radius: 50%;\n",
              "      cursor: pointer;\n",
              "      display: none;\n",
              "      fill: #1967D2;\n",
              "      height: 32px;\n",
              "      padding: 0 0 0 0;\n",
              "      width: 32px;\n",
              "    }\n",
              "\n",
              "    .colab-df-convert:hover {\n",
              "      background-color: #E2EBFA;\n",
              "      box-shadow: 0px 1px 2px rgba(60, 64, 67, 0.3), 0px 1px 3px 1px rgba(60, 64, 67, 0.15);\n",
              "      fill: #174EA6;\n",
              "    }\n",
              "\n",
              "    [theme=dark] .colab-df-convert {\n",
              "      background-color: #3B4455;\n",
              "      fill: #D2E3FC;\n",
              "    }\n",
              "\n",
              "    [theme=dark] .colab-df-convert:hover {\n",
              "      background-color: #434B5C;\n",
              "      box-shadow: 0px 1px 3px 1px rgba(0, 0, 0, 0.15);\n",
              "      filter: drop-shadow(0px 1px 2px rgba(0, 0, 0, 0.3));\n",
              "      fill: #FFFFFF;\n",
              "    }\n",
              "  </style>\n",
              "\n",
              "      <script>\n",
              "        const buttonEl =\n",
              "          document.querySelector('#df-6524d9a9-fe83-490d-8547-364e2133191f button.colab-df-convert');\n",
              "        buttonEl.style.display =\n",
              "          google.colab.kernel.accessAllowed ? 'block' : 'none';\n",
              "\n",
              "        async function convertToInteractive(key) {\n",
              "          const element = document.querySelector('#df-6524d9a9-fe83-490d-8547-364e2133191f');\n",
              "          const dataTable =\n",
              "            await google.colab.kernel.invokeFunction('convertToInteractive',\n",
              "                                                     [key], {});\n",
              "          if (!dataTable) return;\n",
              "\n",
              "          const docLinkHtml = 'Like what you see? Visit the ' +\n",
              "            '<a target=\"_blank\" href=https://colab.research.google.com/notebooks/data_table.ipynb>data table notebook</a>'\n",
              "            + ' to learn more about interactive tables.';\n",
              "          element.innerHTML = '';\n",
              "          dataTable['output_type'] = 'display_data';\n",
              "          await google.colab.output.renderOutput(dataTable, element);\n",
              "          const docLink = document.createElement('div');\n",
              "          docLink.innerHTML = docLinkHtml;\n",
              "          element.appendChild(docLink);\n",
              "        }\n",
              "      </script>\n",
              "    </div>\n",
              "  </div>\n",
              "  "
            ]
          },
          "metadata": {},
          "execution_count": 9
        }
      ]
    },
    {
      "cell_type": "code",
      "source": [
        "# Quitar/eliminar las comillas\n",
        "dataset['text_processed'] = dataset['text_processed'].apply(lambda x: re.sub('\\'', ' ', x))\n",
        "# Convertir a lowercase\n",
        "dataset['text_processed'] = dataset['text_processed'].apply(lambda x: x.lower())\n",
        "# Eliminar puntuación\n",
        "dataset['text_processed'] = dataset['text_processed'].apply(lambda x: x.translate(str.maketrans('', '', string.punctuation)))\n",
        "dataset['text_processed']"
      ],
      "metadata": {
        "id": "rIG2HaEd4YwE",
        "colab": {
          "base_uri": "https://localhost:8080/"
        },
        "outputId": "d2abc621-aadc-4535-ae1e-29693222ff20"
      },
      "execution_count": 10,
      "outputs": [
        {
          "output_type": "execute_result",
          "data": {
            "text/plain": [
              "0        from where s my thing subject what car is this...\n",
              "1        from guy kuo subject si clock poll  final call...\n",
              "2        from thomas e willis subject pb questions orga...\n",
              "3        from joe green subject re weitek p9000  organi...\n",
              "4        from jonathan mcdowell subject re shuttle laun...\n",
              "                               ...                        \n",
              "11309    from jim zisfein  subject re migraines and sca...\n",
              "11310    from subject screen death mac plus512 lines 22...\n",
              "11311    from will estes subject mounting cpu cooler in...\n",
              "11312    from steven collins subject re sphere from 4 p...\n",
              "11313    from kevin j gunning subject stolen cbr900rr o...\n",
              "Name: text_processed, Length: 11314, dtype: object"
            ]
          },
          "metadata": {},
          "execution_count": 10
        }
      ]
    },
    {
      "cell_type": "markdown",
      "metadata": {
        "id": "vQv1Vm3BlNF8"
      },
      "source": [
        "El dataset es muy grande como para hacer las operaciones que queremos hacer durante la clase de forma rápida. Vamos a quedarnos con sólo una muestra."
      ]
    },
    {
      "cell_type": "code",
      "metadata": {
        "id": "SU7eOuSxhwbj"
      },
      "source": [
        "dataset2 = dataset.sample(500)"
      ],
      "execution_count": 11,
      "outputs": []
    },
    {
      "cell_type": "markdown",
      "metadata": {
        "id": "FJqVysIGlX-n"
      },
      "source": [
        "¿De qué ira el dataset? Una opción es hacer una wordcloud a partir de los datos anteriores. Esto se hace con la librería WordCloud.\n",
        "\n",
        "Toma como entrada una frase que agrupa todos las frases del corpus, y genera el gráfico."
      ]
    },
    {
      "cell_type": "code",
      "metadata": {
        "id": "kh7dlO0MdwdY",
        "colab": {
          "base_uri": "https://localhost:8080/",
          "height": 217
        },
        "outputId": "b276d788-0913-4089-db8b-aaeb50da36fc"
      },
      "source": [
        "from wordcloud import WordCloud\n",
        "# Une las frases\n",
        "long_string = ','.join(list(dataset2['text_processed'].values))\n",
        "# Genera un objecto WordCloud \n",
        "wordcloud = WordCloud(background_color=\"white\", max_words=5000, contour_width=0, contour_color='steelblue')\n",
        "# Genera el wordcloud\n",
        "wordcloud.generate(long_string)\n",
        "# Visualizalo en una imagen\n",
        "wordcloud.to_image()"
      ],
      "execution_count": 12,
      "outputs": [
        {
          "output_type": "execute_result",
          "data": {
            "text/plain": [
              "<PIL.Image.Image image mode=RGB size=400x200 at 0x7F459D6F8110>"
            ],
            "image/png": "[encoded data removed]"
          },
          "metadata": {},
          "execution_count": 12
        }
      ]
    },
    {
      "cell_type": "markdown",
      "metadata": {
        "id": "Q9duhBVFl1n3"
      },
      "source": [
        "Se observan muchas stopwords como \"re\" o el auxiliar \"will\". También las palabras well, even... Que no proporcionan información. Vemos muchas frases a las que se les podría aplicar lematización... Es el momento de usar spacy!"
      ]
    },
    {
      "cell_type": "code",
      "metadata": {
        "id": "EaK6IRNhmUpg"
      },
      "source": [
        "#!python -m spacy download en_core_web_sm\n",
        "#!python -m spacy link en_core_web_sm en\n",
        "#import nltk\n",
        "#nltk.download('stopwords')\n",
        "\n",
        "from nltk.corpus import stopwords\n",
        "import string\n",
        "import spacy\n",
        "punctuations = string.punctuation\n",
        "nlp = spacy.load(\"en\")\n",
        "stop_words = stopwords.words('english')\n",
        "\n",
        "def spacy_tokenizer(sentence):\n",
        "    mytokens = nlp(sentence)\n",
        "\n",
        "    mytokens = [ word.lemma_.lower().strip() if word.lemma_ != \"-PRON-\" else word.lower_ for word in mytokens ]\n",
        "\n",
        "    mytokens = [ word for word in mytokens if word not in stop_words and word not in punctuations ]\n",
        "\n",
        "    return mytokens"
      ],
      "execution_count": 13,
      "outputs": []
    },
    {
      "cell_type": "markdown",
      "metadata": {
        "id": "ahuPAobZoOZG"
      },
      "source": [
        "Procesemos las frases con esa función:"
      ]
    },
    {
      "cell_type": "code",
      "metadata": {
        "id": "4-cGEHJPd5sN"
      },
      "source": [
        "data_words = list()\n",
        "for i in dataset2[\"text_processed\"].to_list(): # iteramos sobre la lista de \"text_procesed\" del dataset2 \n",
        "  data_words.append(spacy_tokenizer(i)) # Procesamos con spacy_tokenizer y guardamos en datawords"
      ],
      "execution_count": 14,
      "outputs": []
    },
    {
      "cell_type": "code",
      "metadata": {
        "id": "wC_LJviyLr0h"
      },
      "source": [
        "data_words[1]"
      ],
      "execution_count": null,
      "outputs": []
    },
    {
      "cell_type": "code",
      "source": [
        "from wordcloud import WordCloud\n",
        "long_string2 = ','.join([str(item) for item in data_words])\n",
        "wordcloud_new = WordCloud(background_color=\"white\", max_words=5000, contour_width=0, contour_color='steelblue')\n",
        "wordcloud_new.generate(long_string2)\n",
        "wordcloud_new.to_image()\n"
      ],
      "metadata": {
        "colab": {
          "base_uri": "https://localhost:8080/",
          "height": 217
        },
        "id": "eoO7VXDRYQZP",
        "outputId": "81530de5-cc4a-4870-ce9c-3bdbf31fa011"
      },
      "execution_count": 29,
      "outputs": [
        {
          "output_type": "execute_result",
          "data": {
            "text/plain": [
              "<PIL.Image.Image image mode=RGB size=400x200 at 0x7F459CA3B510>"
            ],
            "image/png": "[encoded data removed]"
          },
          "metadata": {},
          "execution_count": 29
        }
      ]
    },
    {
      "cell_type": "markdown",
      "metadata": {
        "id": "RujyzqAuoauM"
      },
      "source": [
        "## Transformación"
      ]
    },
    {
      "cell_type": "markdown",
      "metadata": {
        "id": "bKcbeJo3oSZB"
      },
      "source": [
        "Para preprocesar datos de gensim utilizamos las funciones específicas con las que cuenta. \n",
        "Podemos utilizar el método `Phrases` "
      ]
    },
    {
      "cell_type": "code",
      "metadata": {
        "id": "loclNtmmeFMS"
      },
      "source": [
        "import gensim\n",
        "# Construimos los modelos de bigramas y trigramas con gensim\n",
        "# No devuelve trigramas o bigtamas en si mismos, si no que asocia palabras\n",
        "# que aparecen juntas en mltitud de ocasiones\n",
        "bigram = gensim.models.Phrases(data_words, min_count=10, threshold=100) # higher threshold fewer phrases.\n",
        "\n",
        "# Con esto todo va más rápido, pero ya no pueden modificarse lo anterior\n",
        "# https://www.kite.com/python/docs/gensim.models.phrases.Phraser\n",
        "# The goal of this class is to cut down memory consumption of `Phrases`, by discarding model state\n",
        "# not strictly needed for the bigram detection task.\n",
        "# Use this instead of `Phrases` if you do not need to update the bigram statistics with new documents any more.\n",
        "bigram_mod = gensim.models.phrases.Phraser(bigram)"
      ],
      "execution_count": 30,
      "outputs": []
    },
    {
      "cell_type": "markdown",
      "metadata": {
        "id": "4XZpyBc5qOcw"
      },
      "source": [
        "*Si* miramos los resultados de acontinuación, lo que hacen estas librerías es generar bigramas a partir de la similitud que tienen las palabras en un espacio vectorial (utiliza word2vec por detrás). \n",
        "\n",
        "Por ejemplo, los tokens \"New\" \"York\" son unidos en el proceso anterior a \"New_York\".  Algo similar ocurre con \"computer_science\". Basicamente la idea de los brigramas en gensim es la de agrupar palabras que generalmente se usen juntas, y no incorporar más variables al sistema."
      ]
    },
    {
      "cell_type": "code",
      "metadata": {
        "id": "2LYW86vUZYMF"
      },
      "source": [
        "[bigram_mod[i] for i in data_words]"
      ],
      "execution_count": null,
      "outputs": []
    },
    {
      "cell_type": "code",
      "metadata": {
        "id": "Fh2tXSOuAfeE",
        "colab": {
          "base_uri": "https://localhost:8080/"
        },
        "outputId": "d66d110a-74cc-4dd8-ad7e-92a9f979d04c"
      },
      "source": [
        "type(bigram_mod)"
      ],
      "execution_count": 33,
      "outputs": [
        {
          "output_type": "execute_result",
          "data": {
            "text/plain": [
              "gensim.models.phrases.Phraser"
            ]
          },
          "metadata": {},
          "execution_count": 33
        }
      ]
    },
    {
      "cell_type": "markdown",
      "metadata": {
        "id": "pinzbCMIsEUp"
      },
      "source": [
        "Ahora hay que aplicar los modelos a los datos. Para eso utilizamos las funciones que aparecen más abajo. \n",
        "\n",
        "ADemás, se ha incorporado la función filtra_tags, que permite coger tokens de una categoría específica. Muy util apra el topic_modeling"
      ]
    },
    {
      "cell_type": "code",
      "metadata": {
        "id": "-jIWq825eSPG"
      },
      "source": [
        "# NLTK Stop words\n",
        "# import nltk\n",
        "# nltk.download('stopwords')\n",
        "from nltk.corpus import stopwords\n",
        "stop_words = stopwords.words('english')\n",
        "#stop_words.extend(['day', 'hotel', 'room', 'great', 'night','staff','service'])\n",
        "# Define functions for stopwords, bigrams and lemmatization\n",
        "# Antes \"entrenamos\" el generador de bigrams, ahora se generan realmente en nuestros textos\n",
        "def make_bigrams(textos):\n",
        "    return [bigram_mod[doc] for doc in textos]\n",
        "\n",
        "# Función para eliminar cierto tipo de tags\n",
        "def filtra_tags(textos, tags_permitidas=['NOUN', 'ADJ', 'VERB', 'ADV']):\n",
        "    textos_out = []\n",
        "    for sent in textos:\n",
        "        # Juntal los \"bigrams\"\n",
        "        doc = nlp(\" \".join(sent)) \n",
        "        # Filtra por etiqueta y coge lemma (es algo redundante)\n",
        "        textos_out.append([token.text for token in doc if token.pos_ in tags_permitidas])\n",
        "    return textos_out"
      ],
      "execution_count": 40,
      "outputs": []
    },
    {
      "cell_type": "markdown",
      "metadata": {
        "id": "p824vh1xsjQa"
      },
      "source": [
        "Vamos a aplicar esas funciones:"
      ]
    },
    {
      "cell_type": "code",
      "metadata": {
        "id": "Zpsx0Z9EfQ2M"
      },
      "source": [
        "import spacy\n",
        "# Remove Stop Words\n",
        "#data_words_nostops = remove_stopwords(data_words)\n",
        "# Crear Bigrams\n",
        "data_words_bigrams = make_bigrams(data_words)\n",
        "\n",
        "\n",
        "# Desabilitamos el \"NER\" y el \"Parser\" que no lo vamos a usar\n",
        "nlp = spacy.load(\"en_core_web_sm\", disable=['parser', 'ner'])\n",
        "#  Filtrar por categoría gramatical \n",
        "data_pos = filtra_tags(data_words_bigrams, tags_permitidas = [\"NOUM\", \"ADJ\", \"ADV\"])"
      ],
      "execution_count": 49,
      "outputs": []
    },
    {
      "cell_type": "code",
      "metadata": {
        "colab": {
          "base_uri": "https://localhost:8080/"
        },
        "id": "YHSJMTg8gA-m",
        "outputId": "e423bdd8-04b8-4606-98d1-8e9d79ec933c"
      },
      "source": [
        "print(\"Numero tokens antes de filtrar: {} tokens\".format(len(data_words_bigrams[2])))\n",
        "print(\"Numero tokens despues de filtrar: {} tokens\".format(len(data_pos[2])))"
      ],
      "execution_count": 50,
      "outputs": [
        {
          "output_type": "stream",
          "name": "stdout",
          "text": [
            "Numero tokens antes de filtrar: 116 tokens\n",
            "Numero tokens despues de filtrar: 14 tokens\n"
          ]
        }
      ]
    },
    {
      "cell_type": "code",
      "metadata": {
        "id": "phPldrKZsmGI",
        "colab": {
          "base_uri": "https://localhost:8080/"
        },
        "outputId": "2d14252d-6265-41c1-e20f-da59e3f186f6"
      },
      "source": [
        "len(data_pos)"
      ],
      "execution_count": 51,
      "outputs": [
        {
          "output_type": "execute_result",
          "data": {
            "text/plain": [
              "500"
            ]
          },
          "metadata": {},
          "execution_count": 51
        }
      ]
    },
    {
      "cell_type": "markdown",
      "metadata": {
        "id": "bgo02dAZslPQ"
      },
      "source": [
        "Despues de ese procesado tenemos un conjunto de 1000 documentos procesados y preparados para introudcir a un modelo de topic modeling"
      ]
    },
    {
      "cell_type": "markdown",
      "metadata": {
        "id": "10zetyxfs_3a"
      },
      "source": [
        "# Entramiento y validación"
      ]
    },
    {
      "cell_type": "markdown",
      "metadata": {
        "id": "OL97cSvHtob9"
      },
      "source": [
        "En primer lugar generamos un diccionario utilizando los objetos de Gensim. Ese diccionario contiene un método \"doc2bow\" que transforma el texto a vectores comprensibes por el modelo LDA."
      ]
    },
    {
      "cell_type": "code",
      "metadata": {
        "id": "Vi18NsljfZCf",
        "colab": {
          "base_uri": "https://localhost:8080/"
        },
        "outputId": "53f52904-aa4a-4d16-a962-193d2d485aa4"
      },
      "source": [
        "import gensim.corpora as corpora\n",
        "# Creamos diccionario de términos \n",
        "id2word = corpora.Dictionary(data_pos)\n",
        "print(id2word)"
      ],
      "execution_count": 52,
      "outputs": [
        {
          "output_type": "stream",
          "name": "stdout",
          "text": [
            "Dictionary(2230 unique tokens: ['ago', 'last', 'probably', 'quite', 'disastrous']...)\n"
          ]
        }
      ]
    },
    {
      "cell_type": "code",
      "metadata": {
        "id": "ihL7Vm3Tgc9V"
      },
      "source": [
        "# Asignamos a la variable texts nuestro corpus\n",
        "texts = data_pos\n",
        "# Transformamos nuestro corpus limpio a Bag of Words. \n",
        "corpus = [id2word.doc2bow(text) for text in texts]"
      ],
      "execution_count": null,
      "outputs": []
    },
    {
      "cell_type": "code",
      "source": [
        "# View\n",
        "print(corpus[0:2])"
      ],
      "metadata": {
        "id": "psEJTio8mwmK",
        "outputId": "b409355a-762e-4430-9a8f-6ab084c4059d",
        "colab": {
          "base_uri": "https://localhost:8080/"
        }
      },
      "execution_count": 76,
      "outputs": [
        {
          "output_type": "stream",
          "name": "stdout",
          "text": [
            "[[(0, 1), (1, 1), (2, 1), (3, 1)], [(4, 1), (5, 1), (6, 1), (7, 2), (8, 1), (9, 1), (10, 1), (11, 1), (12, 1), (13, 1)]]\n"
          ]
        }
      ]
    },
    {
      "cell_type": "markdown",
      "metadata": {
        "id": "3PNIDHnRfa2A"
      },
      "source": [
        "Los modelos LDA necesitaban además de los vectores de entrada, un número de \"topics\" para ser entrenados. \n",
        "Como no sabemos a priori cuantos hay, creamos la función \"calculo_valor_coherencia\" que a partir dle corpus, el diccionario y otros valores calcula un modelo lda, calcula la coherencia entre sus topics y la devuelve"
      ]
    },
    {
      "cell_type": "code",
      "metadata": {
        "id": "d7rIF_oVfjJM"
      },
      "source": [
        "# supporting function\n",
        "def calculo_valor_coherencia(corpus, dictionary, k, a, b):\n",
        "    lda_model = gensim.models.LdaMulticore(corpus=corpus,\n",
        "                                           id2word=dictionary,\n",
        "                                           num_topics=k, \n",
        "                                           random_state=100,\n",
        "                                           chunksize=100,\n",
        "                                           passes=10,\n",
        "                                           alpha=a,\n",
        "                                           eta=b)\n",
        "    \n",
        "    coherence_model_lda = CoherenceModel(model=lda_model, texts=data_pos, dictionary=dictionary, coherence='c_v')\n",
        "    \n",
        "    return coherence_model_lda.get_coherence()"
      ],
      "execution_count": 56,
      "outputs": []
    },
    {
      "cell_type": "code",
      "metadata": {
        "id": "QLDJPc85g9kv",
        "colab": {
          "base_uri": "https://localhost:8080/"
        },
        "outputId": "cc1453b5-8bba-4cf2-c41f-a24074438e8b"
      },
      "source": [
        "from tqdm.autonotebook import tqdm\n",
        "tqdm.pandas()"
      ],
      "execution_count": 57,
      "outputs": [
        {
          "output_type": "stream",
          "name": "stderr",
          "text": [
            "/usr/local/lib/python3.7/dist-packages/ipykernel_launcher.py:1: TqdmExperimentalWarning: Using `tqdm.autonotebook.tqdm` in notebook mode. Use `tqdm.tqdm` instead to force console mode (e.g. in jupyter console)\n",
            "  \"\"\"Entry point for launching an IPython kernel.\n"
          ]
        }
      ]
    },
    {
      "cell_type": "markdown",
      "metadata": {
        "id": "VDqqBPxzuYzg"
      },
      "source": [
        "Vamos a calcular la coherencia suponiendo distintos números de topics. Por ejemplo de 1 a 22 en saltos de 2."
      ]
    },
    {
      "cell_type": "markdown",
      "source": [
        "Hacemos ahora un Grid-Search en gensim"
      ],
      "metadata": {
        "id": "pZEbFYDahKQt"
      }
    },
    {
      "cell_type": "code",
      "metadata": {
        "colab": {
          "base_uri": "https://localhost:8080/"
        },
        "id": "xuWaebwGfnCl",
        "outputId": "9d406c9a-b74a-4b20-e33d-41de1297b26f"
      },
      "source": [
        "import numpy as np\n",
        "import tqdm\n",
        "grid = {}\n",
        "# Topics range\n",
        "min_topics = 2\n",
        "max_topics = 22\n",
        "step_size = 2\n",
        "topics_range = range(min_topics, max_topics, step_size)\n",
        "# Alpha\n",
        "alpha = 0.01\n",
        "# Beta\n",
        "beta = 0.9\n",
        "# Validation sets\n",
        "num_of_docs = len(corpus)\n",
        "corpus_sets = corpus\n",
        "corpus_title = '100% Corpus'\n",
        "model_results = {'Topics': [],\n",
        "                 'Alpha': [],\n",
        "                 'Beta': [],\n",
        "                 'Coherence': []}\n",
        "\n",
        "# Vamos a esperar mucho....\n",
        "if 1 == 1:\n",
        "    pbar = tqdm.tqdm()\n",
        "    # Itera a lo largo del range de los topics\n",
        "    for k in topics_range:\n",
        "      # Calculamos coherencia para esos topics\n",
        "      cv = calculo_valor_coherencia(corpus=corpus, dictionary=id2word,\n",
        "                                    k=k, a=alpha, b=beta)\n",
        "      # Guardamos los datos\n",
        "      #model_results['Validation_Set'].append(corpus_title[i])\n",
        "      model_results['Topics'].append(k)\n",
        "      model_results['Alpha'].append(alpha)\n",
        "      model_results['Beta'].append(beta)\n",
        "      model_results['Coherence'].append(cv)\n",
        "\n",
        "      pbar.update(1)\n",
        "    pbar.close()"
      ],
      "execution_count": 59,
      "outputs": [
        {
          "output_type": "stream",
          "name": "stderr",
          "text": [
            "10it [00:40,  4.06s/it]\n"
          ]
        }
      ]
    },
    {
      "cell_type": "code",
      "metadata": {
        "id": "mdIEr1QZju3w",
        "colab": {
          "base_uri": "https://localhost:8080/"
        },
        "outputId": "3f81b2c2-1f77-4299-99da-513998c2263b"
      },
      "source": [
        "model_results\n"
      ],
      "execution_count": 60,
      "outputs": [
        {
          "output_type": "execute_result",
          "data": {
            "text/plain": [
              "{'Alpha': [0.01, 0.01, 0.01, 0.01, 0.01, 0.01, 0.01, 0.01, 0.01, 0.01],\n",
              " 'Beta': [0.9, 0.9, 0.9, 0.9, 0.9, 0.9, 0.9, 0.9, 0.9, 0.9],\n",
              " 'Coherence': [0.5147258132019801,\n",
              "  0.44562815734063344,\n",
              "  0.467439349400945,\n",
              "  0.4695395937298618,\n",
              "  0.4356150292756499,\n",
              "  0.47131313366075894,\n",
              "  0.42506116399353633,\n",
              "  0.45864766142722013,\n",
              "  0.45756891380529335,\n",
              "  0.4584802722938946],\n",
              " 'Topics': [2, 4, 6, 8, 10, 12, 14, 16, 18, 20]}"
            ]
          },
          "metadata": {},
          "execution_count": 60
        }
      ]
    },
    {
      "cell_type": "markdown",
      "metadata": {
        "id": "uE5lTmGR8VZg"
      },
      "source": [
        "Ploteamos el resultado y observamos que el máximo de cogerencia está en torno a 13 topics."
      ]
    },
    {
      "cell_type": "code",
      "metadata": {
        "colab": {
          "base_uri": "https://localhost:8080/",
          "height": 279
        },
        "id": "6YcaCsLnuzRy",
        "outputId": "7fe11778-ca72-4f76-d438-a46114e2acc9"
      },
      "source": [
        "# Show graph\n",
        "import matplotlib.pyplot as plt\n",
        "plt.plot(topics_range, model_results[\"Coherence\"])\n",
        "plt.xlabel(\"Num Topics\")\n",
        "plt.ylabel(\"Coherence score\")\n",
        "plt.legend((\"coherence_values\"), loc='best')\n",
        "plt.show()"
      ],
      "execution_count": 61,
      "outputs": [
        {
          "output_type": "display_data",
          "data": {
            "text/plain": [
              "<Figure size 432x288 with 1 Axes>"
            ],
            "image/png": "[encoded data removed]"
          },
          "metadata": {
            "needs_background": "light"
          }
        }
      ]
    },
    {
      "cell_type": "markdown",
      "metadata": {
        "id": "Y1zD5lP-8dGn"
      },
      "source": [
        "Entrenamos el modelo con el número de topics anteriormente calculado:"
      ]
    },
    {
      "cell_type": "code",
      "metadata": {
        "id": "tc3pv0jlvcO4"
      },
      "source": [
        "lda_model = gensim.models.LdaMulticore(corpus=corpus,\n",
        "                                      id2word=id2word,\n",
        "                                      num_topics=7, \n",
        "                                      random_state=100,\n",
        "                                      chunksize=100,\n",
        "                                      passes=10,\n",
        "                                      alpha=0.01,\n",
        "                                      eta=0.9)"
      ],
      "execution_count": 62,
      "outputs": []
    },
    {
      "cell_type": "code",
      "metadata": {
        "colab": {
          "base_uri": "https://localhost:8080/"
        },
        "id": "ztKJDzJhvpSu",
        "outputId": "a7d0ab7a-4f5f-4347-96d9-c3cb8484d731"
      },
      "source": [
        "model_topics = lda_model.show_topics(formatted=False)\n",
        "print(lda_model.print_topics(num_words=3))"
      ],
      "execution_count": 63,
      "outputs": [
        {
          "output_type": "stream",
          "name": "stdout",
          "text": [
            "[(0, '0.004*\"quick\" + 0.003*\"higher\" + 0.003*\"bh00100010b\"'), (1, '0.004*\"sexual\" + 0.003*\"spiritual\" + 0.003*\"jewish\"'), (2, '0.004*\"external\" + 0.003*\"drieux\" + 0.003*\"armenian\"'), (3, '0.016*\"also\" + 0.016*\"good\" + 0.014*\"right\"'), (4, '0.004*\"iranian\" + 0.003*\"fast\" + 0.003*\"reliable\"'), (5, '0.005*\"heavy\" + 0.004*\"great\" + 0.004*\"nuclear\"'), (6, '0.011*\"key\" + 0.007*\"original\" + 0.005*\"legal\"')]\n"
          ]
        }
      ]
    },
    {
      "cell_type": "code",
      "metadata": {
        "colab": {
          "base_uri": "https://localhost:8080/",
          "height": 1000
        },
        "id": "6VOZnjaNy5MU",
        "outputId": "6a0fa71d-7d65-4e53-bbb9-a88b20e42a83"
      },
      "source": [
        "!pip install pyLDAvis\n",
        "import pyLDAvis\n",
        "import pyLDAvis.gensim_models as gensimvis\n",
        "# Visualize the topics\n",
        "pyLDAvis.enable_notebook()\n",
        "vis = gensimvis.prepare(lda_model, corpus, id2word)\n",
        "vis"
      ],
      "execution_count": 67,
      "outputs": [
        {
          "output_type": "stream",
          "name": "stdout",
          "text": [
            "Looking in indexes: https://pypi.org/simple, https://us-python.pkg.dev/colab-wheels/public/simple/\n",
            "Requirement already satisfied: pyLDAvis in /usr/local/lib/python3.7/dist-packages (3.3.1)\n",
            "Requirement already satisfied: joblib in /usr/local/lib/python3.7/dist-packages (from pyLDAvis) (1.1.0)\n",
            "Requirement already satisfied: sklearn in /usr/local/lib/python3.7/dist-packages (from pyLDAvis) (0.0)\n",
            "Requirement already satisfied: setuptools in /usr/local/lib/python3.7/dist-packages (from pyLDAvis) (57.4.0)\n",
            "Requirement already satisfied: scipy in /usr/local/lib/python3.7/dist-packages (from pyLDAvis) (1.4.1)\n",
            "Requirement already satisfied: pandas>=1.2.0 in /usr/local/lib/python3.7/dist-packages (from pyLDAvis) (1.3.5)\n",
            "Requirement already satisfied: future in /usr/local/lib/python3.7/dist-packages (from pyLDAvis) (0.16.0)\n",
            "Requirement already satisfied: numpy>=1.20.0 in /usr/local/lib/python3.7/dist-packages (from pyLDAvis) (1.21.6)\n",
            "Requirement already satisfied: scikit-learn in /usr/local/lib/python3.7/dist-packages (from pyLDAvis) (1.0.2)\n",
            "Requirement already satisfied: gensim in /usr/local/lib/python3.7/dist-packages (from pyLDAvis) (3.6.0)\n",
            "Requirement already satisfied: jinja2 in /usr/local/lib/python3.7/dist-packages (from pyLDAvis) (2.11.3)\n",
            "Requirement already satisfied: numexpr in /usr/local/lib/python3.7/dist-packages (from pyLDAvis) (2.8.1)\n",
            "Requirement already satisfied: funcy in /usr/local/lib/python3.7/dist-packages (from pyLDAvis) (1.17)\n",
            "Requirement already satisfied: pytz>=2017.3 in /usr/local/lib/python3.7/dist-packages (from pandas>=1.2.0->pyLDAvis) (2022.1)\n",
            "Requirement already satisfied: python-dateutil>=2.7.3 in /usr/local/lib/python3.7/dist-packages (from pandas>=1.2.0->pyLDAvis) (2.8.2)\n",
            "Requirement already satisfied: six>=1.5 in /usr/local/lib/python3.7/dist-packages (from python-dateutil>=2.7.3->pandas>=1.2.0->pyLDAvis) (1.15.0)\n",
            "Requirement already satisfied: smart-open>=1.2.1 in /usr/local/lib/python3.7/dist-packages (from gensim->pyLDAvis) (6.0.0)\n",
            "Requirement already satisfied: MarkupSafe>=0.23 in /usr/local/lib/python3.7/dist-packages (from jinja2->pyLDAvis) (2.0.1)\n",
            "Requirement already satisfied: packaging in /usr/local/lib/python3.7/dist-packages (from numexpr->pyLDAvis) (21.3)\n",
            "Requirement already satisfied: pyparsing!=3.0.5,>=2.0.2 in /usr/local/lib/python3.7/dist-packages (from packaging->numexpr->pyLDAvis) (3.0.9)\n",
            "Requirement already satisfied: threadpoolctl>=2.0.0 in /usr/local/lib/python3.7/dist-packages (from scikit-learn->pyLDAvis) (3.1.0)\n"
          ]
        },
        {
          "output_type": "stream",
          "name": "stderr",
          "text": [
            "/usr/local/lib/python3.7/dist-packages/pyLDAvis/_prepare.py:247: FutureWarning: In a future version of pandas all arguments of DataFrame.drop except for the argument 'labels' will be keyword-only\n",
            "  by='saliency', ascending=False).head(R).drop('saliency', 1)\n"
          ]
        },
        {
          "output_type": "execute_result",
          "data": {
            "text/plain": [
              "PreparedData(topic_coordinates=              x         y  topics  cluster       Freq\n",
              "topic                                                \n",
              "3      0.148378  0.002289       1        1  79.080019\n",
              "6     -0.013468 -0.039197       2        1   6.887435\n",
              "5     -0.020600  0.022341       3        1   5.510804\n",
              "1     -0.025273  0.005275       4        1   2.847797\n",
              "2     -0.031685  0.003563       5        1   2.256872\n",
              "4     -0.027144  0.003895       6        1   1.953085\n",
              "0     -0.030207  0.001833       7        1   1.463987, topic_info=         Term       Freq      Total Category  logprob  loglift\n",
              "176       key  17.000000  17.000000  Default  30.0000  30.0000\n",
              "267      fast  30.000000  30.000000  Default  29.0000  29.0000\n",
              "237  original  26.000000  26.000000  Default  28.0000  28.0000\n",
              "101     great  43.000000  43.000000  Default  27.0000  27.0000\n",
              "681      hard  30.000000  30.000000  Default  26.0000  26.0000\n",
              "..        ...        ...        ...      ...      ...      ...\n",
              "150   nuclear   0.184742   4.974255   Topic7  -6.7144   0.9309\n",
              "625     twice   0.149140   8.352442   Topic7  -6.9285   0.1986\n",
              "10     longer   0.153402  11.892522   Topic7  -6.9003  -0.1266\n",
              "101     great   0.153398  43.688208   Topic7  -6.9004  -1.4278\n",
              "24    finally   0.137490   9.036660   Topic7  -7.0099   0.0385\n",
              "\n",
              "[349 rows x 6 columns], token_table=      Topic      Freq         Term\n",
              "term                              \n",
              "883       1  0.585188         25th\n",
              "907       1  0.422004           3d\n",
              "14        1  0.933916         able\n",
              "1579      1  0.759969     absolute\n",
              "1375      1  0.568897  accordingly\n",
              "...     ...       ...          ...\n",
              "763       3  0.146020      western\n",
              "763       4  0.146020      western\n",
              "320       1  0.849291      willing\n",
              "320       2  0.070774      willing\n",
              "2161      1  0.536972  wsclipsible\n",
              "\n",
              "[445 rows x 3 columns], R=30, lambda_step=0.01, plot_opts={'xlab': 'PC1', 'ylab': 'PC2'}, topic_order=[4, 7, 6, 2, 3, 5, 1])"
            ],
            "text/html": [
              "\n",
              "<link rel=\"stylesheet\" type=\"text/css\" href=\"https://cdn.jsdelivr.net/gh/bmabey/pyLDAvis@3.3.1/pyLDAvis/js/ldavis.v1.0.0.css\">\n",
              "\n",
              "\n",
              "<div id=\"ldavis_el601399367658231848299340761\"></div>\n",
              "<script type=\"text/javascript\">\n",
              "\n",
              "var ldavis_el601399367658231848299340761_data = {\"mdsDat\": {\"x\": [0.14837802105391326, -0.01346838803591066, -0.02060043552077174, -0.025272946158053238, -0.03168516350033699, -0.027144480022848038, -0.030206607815992655], \"y\": [0.0022890010702047675, -0.039196624681303166, 0.022341379293741435, 0.0052753907456693965, 0.0035630215793341496, 0.0038951038956805506, 0.0018327280966728657], \"topics\": [1, 2, 3, 4, 5, 6, 7], \"cluster\": [1, 1, 1, 1, 1, 1, 1], \"Freq\": [79.08001917529168, 6.887435240220366, 5.5108043493793275, 2.8477969629578452, 2.256871985549883, 1.953084952063275, 1.463987334537624]}, \"tinfo\": {\"Term\": [\"key\", \"fast\", \"original\", \"great\", \"hard\", \"human\", \"low\", \"jewish\", \"subject\", \"new\", \"less\", \"single\", \"therefore\", \"legal\", \"current\", \"quick\", \"correct\", \"soon\", \"usually\", \"still\", \"close\", \"interested\", \"israeli\", \"similar\", \"graphic\", \"political\", \"often\", \"effective\", \"public\", \"strong\", \"good\", \"even\", \"many\", \"really\", \"well\", \"much\", \"also\", \"bad\", \"back\", \"last\", \"enough\", \"long\", \"true\", \"possible\", \"else\", \"high\", \"old\", \"never\", \"sure\", \"right\", \"real\", \"actually\", \"probably\", \"small\", \"different\", \"little\", \"open\", \"always\", \"quite\", \"big\", \"first\", \"maybe\", \"however\", \"still\", \"rather\", \"new\", \"subject\", \"available\", \"human\", \"great\", \"telepathy\", \"multiple\", \"illegal\", \"inflatable\", \"corporate\", \"underground\", \"bold\", \"lebanese\", \"lastdrive\", \"netware\", \"unused\", \"italic\", \"key\", \"antibiotic\", \"alternate\", \"stiff\", \"forgive\", \"electromagnetic\", \"teel\", \"lubricate\", \"secret\", \"compatible\", \"breakable\", \"swiss\", \"dual\", \"substantially\", \"dissident\", \"canadian\", \"secure\", \"doublemajor\", \"legal\", \"manual\", \"original\", \"particular\", \"hard\", \"single\", \"total\", \"current\", \"national\", \"political\", \"legally\", \"criminal\", \"subject\", \"strong\", \"economic\", \"public\", \"right\", \"first\", \"willing\", \"still\", \"mixed\", \"nuclear\", \"heavy\", \"entitle\", \"comfortable\", \"affirmative\", \"ethnical\", \"fundamental\", \"israeliarab\", \"rainy\", \"unconventional\", \"iraqi\", \"imagine\", \"fundamentalist\", \"nfid\", \"middle\", \"modern\", \"sensitive\", \"financial\", \"southern\", \"green\", \"rational\", \"helment\", \"hot\", \"agricultural\", \"fertile\", \"pastoral\", \"inject\", \"dominant\", \"iranian\", \"smooth\", \"electronic\", \"correct\", \"fancy\", \"close\", \"great\", \"jewish\", \"less\", \"human\", \"new\", \"cheap\", \"interested\", \"manual\", \"spiritual\", \"sexual\", \"annother\", \"dull\", \"martial\", \"female\", \"domestic\", \"exempt\", \"solar\", \"accordingly\", \"promiscuous\", \"legitimately\", \"levite\", \"levitical\", \"rebuild\", \"scriptural\", \"preprocess\", \"furnish\", \"hannibal\", \"interstellar\", \"nontechnical\", \"planetary\", \"starsaile\", \"audio\", \"font\", \"answerable\", \"poisonous\", \"spritual\", \"unclear\", \"financial\", \"netter\", \"male\", \"western\", \"effective\", \"jewish\", \"scientific\", \"unlawful\", \"ready\", \"aware\", \"deeply\", \"israeli\", \"sincerely\", \"similar\", \"still\", \"usually\", \"currently\", \"hot\", \"last\", \"however\", \"able\", \"available\", \"subject\", \"drieux\", \"armenian\", \"kurdish\", \"lunar\", \"knowable\", \"lean\", \"soviet\", \"modular\", \"permanent\", \"implicit\", \"external\", \"thermal\", \"insert\", \"fantastic\", \"miss\", \"turkish\", \"awst\", \"aforementioned\", \"brainwash\", \"op\", \"usn\", \"cultural\", \"elderly\", \"painfully\", \"ordinary\", \"advisory\", \"graceful\", \"newssoftware\", \"nonsexist\", \"onsite\", \"muslim\", \"objectively\", \"deep\", \"absolute\", \"solar\", \"useful\", \"biblical\", \"interestingly\", \"historical\", \"therefore\", \"regular\", \"single\", \"accurate\", \"human\", \"currently\", \"reliable\", \"iranian\", \"evangelical\", \"atomic\", \"3d\", \"shameful\", \"cruel\", \"candidacy\", \"gritz\", \"insitutelibertarian\", \"lobbylarouchechristic\", \"populist\", \"want\", \"appoximately\", \"longterm\", \"shrink\", \"succesfully\", \"ahold\", \"bornagain\", \"enval\", \"intrusive\", \"overbearingly\", \"selfrighteous\", \"strident\", \"theonlytruechristian\", \"shy\", \"shalabh\", \"therapeutic\", \"nationwide\", \"routine\", \"protestant\", \"static\", \"dark\", \"fast\", \"unusual\", \"international\", \"homosexual\", \"peaceful\", \"suspect\", \"disable\", \"external\", \"soon\", \"subject\", \"graphic\", \"never\", \"turkish\", \"standard\", \"lead\", \"still\", \"previously\", \"usually\", \"bh0\", \"bh00100010b\", \"higher\", \"scratchy\", \"occasionally\", \"convertible\", \"motherboard\", \"tall\", \"paronoid\", \"25th\", \"instant\", \"navigate\", \"probobly\", \"sibling\", \"wsclipsible\", \"ache\", \"flush\", \"itchy\", \"watery\", \"simaxbyte\", \"scanfirstline\", \"astray\", \"highpitched\", \"intermittent\", \"irregular\", \"unplugged\", \"peripheral\", \"amazed\", \"quick\", \"lower\", \"liberal\", \"special\", \"low\", \"nuclear\", \"twice\", \"longer\", \"great\", \"finally\"], \"Freq\": [17.0, 30.0, 26.0, 43.0, 30.0, 43.0, 27.0, 15.0, 61.0, 62.0, 31.0, 16.0, 20.0, 11.0, 21.0, 7.0, 12.0, 20.0, 21.0, 61.0, 13.0, 17.0, 36.0, 20.0, 21.0, 15.0, 15.0, 8.0, 28.0, 18.0, 130.8692015258713, 95.22260497989939, 82.66729888468015, 73.67073031775475, 72.54209453563604, 96.2102694900475, 132.32591743662272, 59.71718653219506, 61.08197581417493, 67.97707813046647, 47.29819045703127, 44.43844154994289, 48.78835477614328, 42.85303755119113, 36.50705905336461, 39.16613283075601, 44.777138761820275, 63.71541079097482, 55.598455314495254, 114.55704895079033, 35.717794583646764, 32.39065654656407, 50.72683807464531, 26.808887810646997, 42.82088755236156, 30.770511475095653, 26.52151416135196, 37.24296616857986, 43.99212189142361, 32.940684272549184, 72.11898921389376, 41.15795816329419, 51.0418498454026, 59.24224441224459, 40.32106236340664, 59.11599610852524, 57.45375614044777, 38.11506840035226, 40.20194190669965, 40.22662700825512, 2.7826814652883316, 3.1565421205106077, 2.142064865900094, 1.6696216887262476, 1.5521610876743472, 1.4810927522204151, 1.3153779135953863, 1.159517674441346, 1.0875697663434394, 1.0875697663434394, 1.0875697663434394, 1.0875633448877093, 7.774278653239965, 1.5344113500808887, 0.9968639521024386, 1.1362912690653484, 0.9484370023888276, 0.8875400860204148, 0.8875400860204148, 0.8639443218466393, 2.9865420026298075, 0.8286579222362227, 1.0546699799808903, 1.0546699799808903, 1.0008626009251638, 0.7463405306715092, 0.795508116077842, 2.4916417438346485, 2.0412583519821346, 0.6590188652980685, 3.738204252191042, 1.6350652501808456, 4.86212279378836, 1.9493259563011436, 3.4745239351332415, 2.253440929158843, 1.5908968097582088, 2.4175196309011437, 1.5267282867885716, 1.8947327411759973, 1.3148712857569351, 1.41196786617344, 2.2574507529824492, 1.6930153021378165, 1.4599633274201957, 1.7862288199347391, 2.196558673554716, 1.7931231283141227, 1.4240713928739777, 1.5282150622789266, 1.6023220146038668, 2.5468419933316366, 2.885949140681054, 1.086993018565058, 1.4819834520347799, 0.8847387804528665, 0.8847387804528665, 0.8847387804528665, 0.8847387804528665, 0.7745414221286456, 0.8847387804528665, 0.7603525708128063, 0.7997642154104616, 0.88331269550066, 0.7296874738258198, 1.2277202186732838, 0.8841166198645092, 0.9793210690554618, 0.8847387804528665, 0.7737724626026665, 0.6539252093870839, 0.9936723333777429, 0.58824756487544, 1.8145050655889017, 0.5782167934677394, 0.5782167934677394, 0.5782167934677394, 0.7280018883879719, 0.7273763247333334, 0.8976680968839105, 1.6747548791373392, 1.3673539001498065, 2.220682378826886, 1.06849848768198, 1.614229944063012, 2.557177439261692, 1.5083841733374315, 1.9068415973530422, 2.093328428482431, 2.162493548664441, 1.2939298758802273, 1.2888679816038666, 0.936432891980972, 1.0131393912999311, 1.257316349728824, 0.5188066154848834, 0.5188066154848834, 0.45247321152466385, 0.7480510814318425, 0.422078994613879, 0.40273120151459946, 0.9553921446552154, 0.3490393308676097, 0.34265665152134855, 0.32921951169839553, 0.32921951169839553, 0.32921951169839553, 0.32921951169839553, 0.32921951169839553, 0.32921947721625144, 0.32685745034865543, 0.32685745034865543, 0.32685745034865543, 0.32685745034865543, 0.32685745034865543, 0.32685745034865543, 0.30684949660149086, 0.5898218325538306, 0.30981875402585135, 0.30981875402585135, 0.30981875402585135, 0.30981875402585135, 0.4315920664436579, 0.4874492433264242, 0.48590778804084545, 0.6576426237977546, 0.7498516010656877, 0.9793139941630586, 0.5597735749943245, 0.4315918250686495, 0.3856342993326347, 0.5088463792110317, 0.3490393308676097, 0.4874492433264242, 0.34904108945695633, 0.3903178710307091, 0.41703277420680446, 0.38764684967025864, 0.36950255236269935, 0.34946877148963945, 0.38122879164419965, 0.3631148041412625, 0.3599101026373116, 0.3584395081577607, 0.34983279948440166, 0.7643817006413381, 0.7274391314414208, 0.6004229012810447, 0.5492667327572627, 0.4684298208408137, 0.4374070751618036, 0.38175574961808595, 0.341500627217162, 0.341500627217162, 0.34140432682299654, 0.9164946224008302, 0.3312259435615761, 0.332685288042172, 0.2531531863472367, 0.2531531863472367, 0.7156259916023137, 0.25236641431306567, 0.25227577061061196, 0.25227577061061196, 0.25227577061061196, 0.25227577061061196, 0.21847539801203386, 0.21847539801203386, 0.21847539801203386, 0.4516797281609781, 0.2151386877314466, 0.2151386877314466, 0.2151386877314466, 0.2151386877314466, 0.2151386877314466, 0.5889118888987745, 0.22127101976972843, 0.4463386634505223, 0.43851452969470683, 0.45666964075309485, 0.4129508740957328, 0.4579711444060234, 0.2531531863472367, 0.2989630433740477, 0.46732706655416373, 0.3448045450820289, 0.36409277073862134, 0.3050869450287881, 0.28249614053097066, 0.2549089742659448, 0.5503401979839466, 0.7337631085707621, 0.5270189861475307, 0.2920256040883071, 0.3396607271866417, 0.2892778200244623, 0.41116079190654026, 0.23252209802356036, 0.23252209802356036, 0.23252209802356036, 0.23252209802356036, 0.23252209802356036, 0.23252209802356036, 0.2325220743749093, 0.2325220743749093, 0.2325220743749093, 0.2325220743749093, 0.2294361618982232, 0.2294361618982232, 0.2294361618982232, 0.2294361618982232, 0.2294361618982232, 0.2294361618982232, 0.2294361618982232, 0.2294361618982232, 0.24652049134220363, 0.22759726644052808, 0.22759726644052808, 0.2041661593226411, 0.3837279782997082, 0.3620129828432181, 0.2935800299224138, 0.3255478507482219, 0.6539776680063972, 0.29619916532449775, 0.2714396661793258, 0.31133801484046025, 0.2672389089944173, 0.2650114898484743, 0.2556871578170338, 0.2645569627751207, 0.28373966067621537, 0.2977778073772888, 0.2760559065146895, 0.28118764014583675, 0.24371098429909488, 0.24596838993458073, 0.2333818447328095, 0.23256345951426252, 0.23252375342913448, 0.23252283113174319, 0.3833926821880973, 0.3833926821880973, 0.48544205482216185, 0.30487670369319647, 0.2576181680569592, 0.24218816935628118, 0.18806227043209303, 0.184741728060731, 0.15339742543930898, 0.1532841709445613, 0.1532841709445613, 0.1532841709445613, 0.16403127621121663, 0.16403127621121663, 0.16403127621121663, 0.14271394051725367, 0.14271394051725367, 0.14271394051725367, 0.14271394051725367, 0.13344955799060823, 0.13344954912736712, 0.12731409456279036, 0.12731409456279036, 0.12731409456279036, 0.12731409456279036, 0.12731409456279036, 0.12408270753363111, 0.1561084958998219, 0.5451468322229494, 0.16569191078978265, 0.14209357568309533, 0.2803280784657263, 0.3525451287772426, 0.18474171033424883, 0.1491404284665178, 0.15340212295709083, 0.15339754952468435, 0.1374895119153965], \"Total\": [17.0, 30.0, 26.0, 43.0, 30.0, 43.0, 27.0, 15.0, 61.0, 62.0, 31.0, 16.0, 20.0, 11.0, 21.0, 7.0, 12.0, 20.0, 21.0, 61.0, 13.0, 17.0, 36.0, 20.0, 21.0, 15.0, 15.0, 8.0, 28.0, 18.0, 131.9400885175096, 96.1221245428958, 83.58740151797662, 74.52823114561606, 73.55187687306022, 97.55593743843137, 134.1997376112591, 60.57269819951571, 61.998138782609885, 69.11680782716086, 48.22211357826403, 45.34447239502371, 49.810197752241265, 43.77679886863648, 37.34067990622333, 40.12986177227929, 45.88223860340459, 65.31426961323446, 57.00122579440715, 117.52034051201196, 36.66827431401467, 33.27630775838314, 52.13952826759729, 27.597524405555834, 44.096831527405186, 31.69049409220525, 27.34219427262967, 38.40116008785773, 45.362254525053984, 33.98476970535515, 74.64595620190634, 42.506143661877324, 53.10363740885327, 61.955295756408795, 41.77704922618875, 62.45787752062707, 61.35885274975925, 39.551676017507084, 43.0753745658855, 43.68820810507928, 4.137854415814012, 5.059644073339684, 3.7013308153676077, 3.1492554199368303, 3.0055516926892576, 2.9223157221224394, 2.6291734761472454, 2.5213971493517473, 2.3809835885742885, 2.3809835885742885, 2.3809835885742885, 2.380982566076372, 17.484277273811404, 3.522454597981224, 2.316990472363427, 2.786379077508018, 2.33022788691018, 2.199041038695764, 2.199041038695764, 2.1573581548470235, 7.656931249563656, 2.133106479459821, 2.7557178407578347, 2.7557178407578347, 2.75096770185501, 2.152903194822989, 2.3103035741360696, 7.241514335767773, 5.959933565183039, 1.9524326816167554, 11.247728157860271, 5.550795463979757, 26.17261203727443, 8.543926689119505, 30.25821452335004, 16.080593549919055, 7.7066844805016546, 21.1693903915603, 7.417718453706511, 15.711750076334145, 5.507160663214799, 7.57016230759971, 61.35885274975925, 18.553539762201563, 10.300383543978583, 28.693564624712643, 117.52034051201196, 74.64595620190634, 14.129440662506331, 61.955295756408795, 3.066435916222087, 4.9742545374039215, 5.919272419443683, 2.515831845427301, 3.5889256335408954, 2.3333599202266893, 2.3333599202266893, 2.3333599202266893, 2.3333599202266893, 2.145926276924844, 2.491589651854717, 2.153479441622638, 2.266913469533396, 2.5180872351803867, 2.145069536429536, 3.6159185557581655, 2.640151743288875, 2.9255424521896485, 2.6498194007238185, 2.325698030794309, 1.9987041591475903, 3.0565212460699733, 1.9180925907432673, 6.047546644880619, 1.9466020086565274, 1.9466020086565274, 1.9466020086565274, 2.4692602065884444, 2.4710325599618024, 3.1412329270402632, 6.192945717478653, 5.958288074302533, 12.253339214078922, 5.100810244286024, 13.082828027002707, 43.68820810507928, 15.700593824290202, 31.820991265792877, 43.0753745658855, 62.45787752062707, 12.323256703822205, 17.79726156169194, 5.550795463979757, 2.565944106913304, 4.070826295377016, 2.0862024595542845, 2.0862024595542845, 1.9487673162763628, 3.3279414496390824, 1.8924295582894821, 1.8776190769256336, 4.477665006892282, 1.7577885132641193, 1.7927362033440857, 1.737968694094905, 1.737968694094905, 1.737968694094905, 1.737968694094905, 1.737968694094905, 1.7379686596127608, 1.7509017845106833, 1.7509017845106833, 1.7509017845106833, 1.7509017845106833, 1.7509017845106833, 1.7509017845106833, 1.7155986789980004, 3.4507135245221345, 1.844196120324225, 1.844196120324225, 1.844196120324225, 1.844196120324225, 2.6498194007238185, 3.4806018543697936, 3.9098990123350994, 6.848385813604613, 8.7796727345017, 15.700593824290202, 5.976773008925663, 3.487128441054179, 2.8674954841906377, 9.079614469530975, 2.296106284510407, 36.59528486502943, 3.7038779008067326, 20.06068388638496, 61.955295756408795, 21.904810178346096, 10.282710117804795, 6.047546644880619, 69.11680782716086, 53.10363740885327, 22.485958982338836, 39.551676017507084, 61.35885274975925, 2.3446123272681008, 2.3800158402676588, 2.0512252011636725, 2.109887807344067, 1.9551573229662973, 1.9313338958554525, 1.978759071000608, 1.8234665467793585, 1.8234665467793585, 1.8241440704805651, 5.395659666168973, 2.2776598171546416, 2.314030826164462, 1.7820616733905201, 1.7820616733905201, 5.062569374776183, 1.7875968678956144, 1.7882343098542317, 1.7882343098542317, 1.7882343098542317, 1.7882343098542317, 1.6643123661963726, 1.6643123661963726, 1.6643123661963726, 3.4723770842121224, 1.6877853351242769, 1.6877853351242769, 1.6877853351242769, 1.6877853351242769, 1.6877853351242769, 4.671454638208957, 1.7396376494524206, 3.958430566425408, 3.947531958081764, 4.477665006892282, 4.796714344699195, 6.680998163465206, 2.210612595284773, 3.4398299987865952, 20.344581120696663, 7.292068972372653, 16.080593549919055, 7.585012286574109, 43.0753745658855, 10.282710117804795, 2.2732996140502877, 3.1412329270402632, 2.7993765601184073, 1.851950035809084, 2.369648268307305, 2.0554158287224005, 2.9280263915963842, 1.675087687295952, 1.675087687295952, 1.675087687295952, 1.675087687295952, 1.675087687295952, 1.675087687295952, 1.6750876636473009, 1.6750876636473009, 1.6750876636473009, 1.6750876636473009, 1.7002944703316074, 1.7002944703316074, 1.7002944703316074, 1.7002944703316074, 1.7002944703316074, 1.7002944703316074, 1.7002944703316074, 1.7002944703316074, 1.8535011721576569, 1.7153152625975447, 1.7153152625975447, 1.6915432751013124, 3.2646856453781044, 3.5880739367002867, 2.810205597420328, 4.335077691895792, 30.76049586580466, 3.9620611489123685, 3.393683557462224, 7.659572137898741, 3.7530440816049615, 4.052045009881977, 4.024231231963193, 5.395659666168973, 20.6700490712323, 61.35885274975925, 21.51289761684104, 65.31426961323446, 5.062569374776183, 12.703525007182588, 3.741554117942116, 61.955295756408795, 13.220988248666515, 21.904810178346096, 1.8883671846255703, 1.8883672444711423, 2.6140609225691582, 1.7641517675537157, 1.761596421256666, 1.7014632165351027, 1.7984193158762483, 1.835880387836746, 1.6126724726181303, 1.7088533488878894, 1.7088533488878894, 1.7088533488878894, 1.8622954859912333, 1.8622954859912333, 1.8622954859912333, 1.7252712026537114, 1.7252712026537114, 1.7252712026537114, 1.7252712026537114, 1.6259417702396335, 1.6259418212219643, 1.6202970405025514, 1.6202970405025514, 1.6202970405025514, 1.6202970405025514, 1.6202970405025514, 1.654354471882976, 2.092907527529852, 7.375955150596917, 2.2502600478826573, 1.9850318479354199, 6.628246161337674, 27.738085013580136, 4.9742545374039215, 8.352442180809227, 11.89252227198216, 43.68820810507928, 9.03665956233587], \"Category\": [\"Default\", \"Default\", \"Default\", \"Default\", \"Default\", \"Default\", \"Default\", \"Default\", \"Default\", \"Default\", \"Default\", \"Default\", \"Default\", \"Default\", \"Default\", \"Default\", \"Default\", \"Default\", \"Default\", \"Default\", \"Default\", \"Default\", \"Default\", \"Default\", \"Default\", \"Default\", \"Default\", \"Default\", \"Default\", \"Default\", \"Topic1\", \"Topic1\", \"Topic1\", \"Topic1\", \"Topic1\", \"Topic1\", \"Topic1\", \"Topic1\", \"Topic1\", \"Topic1\", \"Topic1\", \"Topic1\", \"Topic1\", \"Topic1\", \"Topic1\", \"Topic1\", \"Topic1\", \"Topic1\", \"Topic1\", \"Topic1\", \"Topic1\", \"Topic1\", \"Topic1\", \"Topic1\", \"Topic1\", \"Topic1\", \"Topic1\", \"Topic1\", \"Topic1\", \"Topic1\", \"Topic1\", \"Topic1\", \"Topic1\", \"Topic1\", \"Topic1\", \"Topic1\", \"Topic1\", \"Topic1\", \"Topic1\", \"Topic1\", \"Topic2\", \"Topic2\", \"Topic2\", \"Topic2\", \"Topic2\", \"Topic2\", \"Topic2\", \"Topic2\", \"Topic2\", \"Topic2\", \"Topic2\", \"Topic2\", \"Topic2\", \"Topic2\", \"Topic2\", \"Topic2\", \"Topic2\", \"Topic2\", \"Topic2\", \"Topic2\", \"Topic2\", \"Topic2\", \"Topic2\", \"Topic2\", \"Topic2\", \"Topic2\", \"Topic2\", \"Topic2\", \"Topic2\", \"Topic2\", \"Topic2\", \"Topic2\", \"Topic2\", \"Topic2\", \"Topic2\", \"Topic2\", \"Topic2\", \"Topic2\", \"Topic2\", \"Topic2\", \"Topic2\", \"Topic2\", \"Topic2\", \"Topic2\", \"Topic2\", \"Topic2\", \"Topic2\", \"Topic2\", \"Topic2\", \"Topic2\", \"Topic3\", \"Topic3\", \"Topic3\", \"Topic3\", \"Topic3\", \"Topic3\", \"Topic3\", \"Topic3\", \"Topic3\", \"Topic3\", \"Topic3\", \"Topic3\", \"Topic3\", \"Topic3\", \"Topic3\", \"Topic3\", \"Topic3\", \"Topic3\", \"Topic3\", \"Topic3\", \"Topic3\", \"Topic3\", \"Topic3\", \"Topic3\", \"Topic3\", \"Topic3\", \"Topic3\", \"Topic3\", \"Topic3\", \"Topic3\", \"Topic3\", \"Topic3\", \"Topic3\", \"Topic3\", \"Topic3\", \"Topic3\", \"Topic3\", \"Topic3\", \"Topic3\", \"Topic3\", \"Topic3\", \"Topic3\", \"Topic3\", \"Topic4\", \"Topic4\", \"Topic4\", \"Topic4\", \"Topic4\", \"Topic4\", \"Topic4\", \"Topic4\", \"Topic4\", \"Topic4\", \"Topic4\", \"Topic4\", \"Topic4\", \"Topic4\", \"Topic4\", \"Topic4\", \"Topic4\", \"Topic4\", \"Topic4\", \"Topic4\", \"Topic4\", \"Topic4\", \"Topic4\", \"Topic4\", \"Topic4\", \"Topic4\", \"Topic4\", \"Topic4\", \"Topic4\", \"Topic4\", \"Topic4\", \"Topic4\", \"Topic4\", \"Topic4\", \"Topic4\", \"Topic4\", \"Topic4\", \"Topic4\", \"Topic4\", \"Topic4\", \"Topic4\", \"Topic4\", \"Topic4\", \"Topic4\", \"Topic4\", \"Topic4\", \"Topic4\", \"Topic4\", \"Topic4\", \"Topic4\", \"Topic4\", \"Topic4\", \"Topic5\", \"Topic5\", \"Topic5\", \"Topic5\", \"Topic5\", \"Topic5\", \"Topic5\", \"Topic5\", \"Topic5\", \"Topic5\", \"Topic5\", \"Topic5\", \"Topic5\", \"Topic5\", \"Topic5\", \"Topic5\", \"Topic5\", \"Topic5\", \"Topic5\", \"Topic5\", \"Topic5\", \"Topic5\", \"Topic5\", \"Topic5\", \"Topic5\", \"Topic5\", \"Topic5\", \"Topic5\", \"Topic5\", \"Topic5\", \"Topic5\", \"Topic5\", \"Topic5\", \"Topic5\", \"Topic5\", \"Topic5\", \"Topic5\", \"Topic5\", \"Topic5\", \"Topic5\", \"Topic5\", \"Topic5\", \"Topic5\", \"Topic5\", \"Topic5\", \"Topic6\", \"Topic6\", \"Topic6\", \"Topic6\", \"Topic6\", \"Topic6\", \"Topic6\", \"Topic6\", \"Topic6\", \"Topic6\", \"Topic6\", \"Topic6\", \"Topic6\", \"Topic6\", \"Topic6\", \"Topic6\", \"Topic6\", \"Topic6\", \"Topic6\", \"Topic6\", \"Topic6\", \"Topic6\", \"Topic6\", \"Topic6\", \"Topic6\", \"Topic6\", \"Topic6\", \"Topic6\", \"Topic6\", \"Topic6\", \"Topic6\", \"Topic6\", \"Topic6\", \"Topic6\", \"Topic6\", \"Topic6\", \"Topic6\", \"Topic6\", \"Topic6\", \"Topic6\", \"Topic6\", \"Topic6\", \"Topic6\", \"Topic6\", \"Topic6\", \"Topic6\", \"Topic6\", \"Topic6\", \"Topic6\", \"Topic6\", \"Topic6\", \"Topic7\", \"Topic7\", \"Topic7\", \"Topic7\", \"Topic7\", \"Topic7\", \"Topic7\", \"Topic7\", \"Topic7\", \"Topic7\", \"Topic7\", \"Topic7\", \"Topic7\", \"Topic7\", \"Topic7\", \"Topic7\", \"Topic7\", \"Topic7\", \"Topic7\", \"Topic7\", \"Topic7\", \"Topic7\", \"Topic7\", \"Topic7\", \"Topic7\", \"Topic7\", \"Topic7\", \"Topic7\", \"Topic7\", \"Topic7\", \"Topic7\", \"Topic7\", \"Topic7\", \"Topic7\", \"Topic7\", \"Topic7\", \"Topic7\", \"Topic7\"], \"logprob\": [30.0, 29.0, 28.0, 27.0, 26.0, 25.0, 24.0, 23.0, 22.0, 21.0, 20.0, 19.0, 18.0, 17.0, 16.0, 15.0, 14.0, 13.0, 12.0, 11.0, 10.0, 9.0, 8.0, 7.0, 6.0, 5.0, 4.0, 3.0, 2.0, 1.0, -4.1407, -4.4587, -4.6001, -4.7153, -4.7308, -4.4484, -4.1297, -4.9253, -4.9027, -4.7958, -5.1585, -5.2208, -5.1275, -5.2572, -5.4174, -5.3471, -5.2132, -4.8605, -4.9968, -4.2739, -5.4393, -5.5371, -5.0885, -5.7262, -5.2579, -5.5884, -5.737, -5.3975, -5.2309, -5.5202, -4.7366, -5.2975, -5.0823, -4.9333, -5.3181, -4.9354, -4.964, -5.3743, -5.321, -5.3204, -5.5508, -5.4247, -5.8124, -6.0616, -6.1345, -6.1814, -6.3001, -6.4262, -6.4902, -6.4902, -6.4902, -6.4902, -4.5234, -6.146, -6.5773, -6.4464, -6.6271, -6.6935, -6.6935, -6.7204, -5.4801, -6.7621, -6.521, -6.521, -6.5733, -6.8668, -6.803, -5.6612, -5.8606, -6.9912, -5.2556, -6.0825, -4.9927, -5.9067, -5.3287, -5.7617, -6.1099, -5.6914, -6.1511, -5.9351, -6.3004, -6.2292, -5.7599, -6.0477, -6.1958, -5.9941, -5.7873, -5.9902, -6.2207, -6.1501, -5.8797, -5.4163, -5.2913, -6.2678, -5.9578, -6.4737, -6.4737, -6.4737, -6.4737, -6.6067, -6.4737, -6.6252, -6.5746, -6.4753, -6.6663, -6.146, -6.4744, -6.3721, -6.4737, -6.6077, -6.776, -6.3575, -6.8818, -5.7554, -6.899, -6.899, -6.899, -6.6686, -6.6695, -6.4592, -5.8355, -6.0383, -5.5534, -6.2849, -5.8723, -5.4123, -5.9402, -5.7057, -5.6124, -5.5799, -6.0935, -6.0974, -6.4169, -5.678, -5.4621, -6.3473, -6.3473, -6.4841, -5.9813, -6.5536, -6.6005, -5.7367, -6.7436, -6.7621, -6.8021, -6.8021, -6.8021, -6.8021, -6.8021, -6.8021, -6.8093, -6.8093, -6.8093, -6.8093, -6.8093, -6.8093, -6.8724, -6.219, -6.8628, -6.8628, -6.8628, -6.8628, -6.5313, -6.4096, -6.4128, -6.1101, -5.9789, -5.7119, -6.2713, -6.5313, -6.6439, -6.3666, -6.7436, -6.4096, -6.7436, -6.6318, -6.5656, -6.6387, -6.6866, -6.7424, -6.6554, -6.7041, -6.7129, -6.717, -6.7413, -5.7272, -5.7767, -5.9686, -6.0576, -6.2168, -6.2854, -6.4214, -6.5329, -6.5329, -6.5332, -5.5457, -6.5634, -6.559, -6.8322, -6.8322, -5.7931, -6.8353, -6.8357, -6.8357, -6.8357, -6.8357, -6.9795, -6.9795, -6.9795, -6.2532, -6.9949, -6.9949, -6.9949, -6.9949, -6.9949, -5.9879, -6.9668, -6.2651, -6.2828, -6.2423, -6.3429, -6.2394, -6.8322, -6.6659, -6.2192, -6.5232, -6.4688, -6.6456, -6.7226, -6.8253, -5.9111, -5.6235, -5.9544, -6.5448, -6.3937, -6.5543, -6.2027, -6.7727, -6.7727, -6.7727, -6.7727, -6.7727, -6.7727, -6.7727, -6.7727, -6.7727, -6.7727, -6.786, -6.786, -6.786, -6.786, -6.786, -6.786, -6.786, -6.786, -6.7142, -6.7941, -6.7941, -6.9027, -6.2717, -6.33, -6.5395, -6.4361, -5.7386, -6.5306, -6.6179, -6.4808, -6.6335, -6.6419, -6.6777, -6.6436, -6.5736, -6.5253, -6.601, -6.5826, -6.7257, -6.7164, -6.769, -6.7725, -6.7727, -6.7727, -5.9843, -5.9843, -5.7483, -6.2135, -6.3819, -6.4437, -6.6966, -6.7144, -6.9004, -6.9011, -6.9011, -6.9011, -6.8333, -6.8333, -6.8333, -6.9726, -6.9726, -6.9726, -6.9726, -7.0397, -7.0397, -7.0867, -7.0867, -7.0867, -7.0867, -7.0867, -7.1125, -6.8829, -5.6324, -6.8233, -6.9769, -6.2974, -6.0682, -6.7144, -6.9285, -6.9003, -6.9004, -7.0099], \"loglift\": [30.0, 29.0, 28.0, 27.0, 26.0, 25.0, 24.0, 23.0, 22.0, 21.0, 20.0, 19.0, 18.0, 17.0, 16.0, 15.0, 14.0, 13.0, 12.0, 11.0, 10.0, 9.0, 8.0, 7.0, 6.0, 5.0, 4.0, 3.0, 2.0, 1.0, 0.2266, 0.2253, 0.2236, 0.2231, 0.2209, 0.2208, 0.2206, 0.2205, 0.2198, 0.2181, 0.2154, 0.2145, 0.214, 0.2134, 0.2121, 0.2104, 0.2103, 0.2099, 0.2098, 0.2092, 0.2084, 0.2077, 0.2072, 0.2057, 0.2053, 0.2052, 0.2042, 0.2041, 0.204, 0.2035, 0.2003, 0.2025, 0.1951, 0.1899, 0.1992, 0.1797, 0.169, 0.1977, 0.1657, 0.1522, 2.2787, 2.2037, 2.1285, 2.0409, 2.0147, 1.9959, 1.9829, 1.8987, 1.8919, 1.8919, 1.8919, 1.8919, 1.865, 1.8445, 1.8321, 1.7785, 1.7766, 1.7681, 1.7681, 1.7603, 1.734, 1.7299, 1.715, 1.715, 1.6644, 1.6161, 1.6093, 1.6086, 1.604, 1.5894, 1.5739, 1.4532, 0.9922, 1.1977, 0.5112, 0.7103, 1.0977, 0.5057, 1.0947, 0.5601, 1.2432, 0.9962, -0.627, 0.2813, 0.7217, -0.1011, -1.3042, -1.0533, 0.3807, -1.0268, 2.2494, 2.229, 2.1801, 2.0593, 2.014, 1.9287, 1.9287, 1.9287, 1.9287, 1.8794, 1.8631, 1.8574, 1.8566, 1.8509, 1.8201, 1.8183, 1.8045, 1.8041, 1.8015, 1.798, 1.7812, 1.7748, 1.7165, 1.6946, 1.6846, 1.6846, 1.6846, 1.6771, 1.6755, 1.6459, 1.5907, 1.4266, 1.1905, 1.3353, 0.806, 0.0603, 0.5558, 0.0838, -0.1257, -0.4648, 0.6447, 0.2732, 1.1188, 2.6294, 2.3838, 2.1671, 2.1671, 2.0984, 2.066, 2.0582, 2.0191, 2.0139, 1.942, 1.9039, 1.8949, 1.8949, 1.8949, 1.8949, 1.8949, 1.8949, 1.8803, 1.8803, 1.8803, 1.8803, 1.8803, 1.8803, 1.8375, 1.7921, 1.7748, 1.7748, 1.7748, 1.7748, 1.7439, 1.5929, 1.4734, 1.2155, 1.0983, 0.784, 1.1905, 1.4693, 1.5523, 0.677, 1.6748, -0.7599, 1.1967, -0.3809, -1.4424, -0.4757, 0.2326, 0.7076, -1.6415, -1.4267, -0.5762, -1.145, -1.6084, 2.6704, 2.6059, 2.5626, 2.4454, 2.3624, 2.3061, 2.1457, 2.116, 2.116, 2.1154, 2.0184, 1.8631, 1.8516, 1.8397, 1.8397, 1.8347, 1.8334, 1.8327, 1.8327, 1.8327, 1.8327, 1.7607, 1.7607, 1.7607, 1.7516, 1.7313, 1.7313, 1.7313, 1.7313, 1.7313, 1.7202, 1.7291, 1.6087, 1.5937, 1.5083, 1.3388, 1.111, 1.6242, 1.3483, 0.0176, 0.7396, 0.0032, 0.5779, -1.2359, 0.0939, 2.5173, 2.4816, 2.2658, 2.0886, 1.9932, 1.9749, 1.9727, 1.9611, 1.9611, 1.9611, 1.9611, 1.9611, 1.9611, 1.9611, 1.9611, 1.9611, 1.9611, 1.9328, 1.9328, 1.9328, 1.9328, 1.9328, 1.9328, 1.9328, 1.9328, 1.9184, 1.916, 1.916, 1.8213, 1.7948, 1.6421, 1.6769, 1.3468, 0.0848, 1.3423, 1.4098, 0.7329, 1.2936, 1.2086, 1.1796, 0.9205, -0.3526, -1.3924, -0.42, -1.5122, 0.9021, -0.0087, 1.1612, -1.6492, -0.1048, -0.6097, 2.6296, 2.6296, 2.5404, 2.4685, 2.3015, 2.2745, 1.9661, 1.9277, 1.8714, 1.8127, 1.8127, 1.8127, 1.7945, 1.7945, 1.7945, 1.7317, 1.7317, 1.7317, 1.7317, 1.7239, 1.7239, 1.6803, 1.6803, 1.6803, 1.6803, 1.6803, 1.6338, 1.6282, 1.6191, 1.6153, 1.5871, 1.0609, -0.1414, 0.9309, 0.1986, -0.1266, -1.4278, 0.0385]}, \"token.table\": {\"Topic\": [1, 1, 1, 1, 1, 1, 1, 1, 1, 1, 3, 1, 1, 3, 1, 1, 2, 1, 2, 1, 3, 1, 1, 4, 1, 1, 2, 1, 1, 5, 1, 1, 1, 1, 2, 1, 4, 1, 1, 1, 1, 1, 1, 1, 1, 2, 1, 1, 1, 2, 1, 2, 3, 1, 1, 2, 3, 1, 3, 1, 3, 1, 2, 1, 1, 2, 1, 3, 1, 2, 1, 1, 1, 2, 1, 1, 1, 1, 2, 1, 1, 1, 2, 1, 1, 3, 1, 2, 1, 5, 1, 2, 1, 4, 1, 2, 1, 4, 1, 1, 2, 1, 3, 1, 1, 1, 3, 1, 1, 3, 1, 6, 1, 1, 1, 5, 1, 3, 1, 1, 6, 1, 4, 1, 3, 1, 1, 3, 1, 2, 1, 1, 2, 4, 1, 2, 1, 3, 1, 3, 1, 1, 1, 1, 1, 3, 1, 3, 1, 1, 1, 2, 1, 3, 1, 3, 1, 1, 1, 1, 1, 2, 1, 3, 1, 2, 1, 3, 1, 2, 1, 3, 1, 1, 2, 1, 3, 1, 2, 1, 1, 1, 2, 3, 1, 2, 1, 1, 2, 1, 1, 1, 3, 6, 1, 3, 1, 1, 3, 1, 3, 1, 2, 1, 1, 3, 4, 1, 2, 1, 1, 5, 1, 1, 2, 1, 1, 1, 2, 1, 2, 1, 2, 1, 1, 3, 1, 1, 1, 1, 1, 1, 1, 1, 1, 3, 1, 1, 2, 1, 5, 1, 1, 2, 3, 1, 1, 1, 2, 1, 3, 1, 1, 3, 1, 3, 1, 1, 1, 2, 1, 2, 1, 5, 1, 2, 1, 1, 1, 1, 2, 1, 2, 1, 2, 3, 1, 1, 3, 1, 1, 1, 3, 1, 1, 1, 1, 1, 1, 1, 1, 1, 2, 3, 1, 1, 1, 1, 2, 1, 3, 1, 3, 1, 1, 1, 1, 1, 2, 1, 1, 1, 1, 2, 1, 2, 1, 1, 1, 1, 2, 1, 7, 1, 2, 1, 3, 1, 2, 1, 3, 1, 1, 1, 1, 1, 2, 1, 6, 1, 2, 1, 1, 1, 4, 1, 1, 1, 2, 1, 2, 1, 1, 3, 1, 4, 1, 1, 1, 1, 1, 1, 1, 1, 1, 2, 1, 1, 3, 1, 4, 1, 3, 1, 3, 1, 1, 2, 1, 4, 1, 1, 2, 1, 1, 2, 1, 2, 1, 2, 1, 1, 2, 3, 1, 2, 3, 1, 2, 1, 1, 3, 1, 1, 2, 1, 1, 2, 1, 2, 1, 1, 1, 1, 1, 2, 1, 1, 5, 1, 2, 1, 1, 3, 1, 2, 1, 2, 1, 1, 2, 1, 1, 1, 1, 1, 1, 1, 1, 2, 3, 4, 1, 2, 1], \"Freq\": [0.5851877228966391, 0.422003557816757, 0.9339161392446746, 0.7599685149750628, 0.5688966519317238, 0.7910336560192963, 0.5796190178459238, 0.9616451510290649, 0.5924924095435199, 0.4285665453201273, 0.4285665453201273, 0.5592108341112834, 0.5137156930656631, 0.5137156930656631, 0.5881334189159426, 0.9836084805349533, 0.0074515793979920706, 0.43159435134834984, 0.43159435134834984, 0.9635125583536531, 0.02604087995550414, 0.4778041967196931, 0.4793398624473145, 0.4793398624473145, 0.5422416786259109, 0.28389294231730233, 0.5677858846346047, 0.5969836813332031, 0.42016527078556715, 0.42016527078556715, 0.6171707872093872, 0.5399713710759577, 0.5828869025383329, 0.9607683877461918, 0.025283378624899783, 0.8810946793882158, 0.11013683492352698, 0.5594102439758775, 0.9839005040762634, 0.9905452750737742, 0.5295580267130527, 0.5295580099304575, 0.7483911651618642, 0.9710232049858507, 0.3803476678402318, 0.3803476678402318, 0.5881334189159426, 0.5592108341112834, 0.3628818543066062, 0.3628818543066062, 0.5523706526745286, 0.2761853263372643, 0.13809266316863214, 0.5969836729050719, 0.8114738043960718, 0.08114738043960718, 0.08114738043960718, 0.8407968045820223, 0.15287214628764043, 0.557269836217466, 0.278634918108733, 0.4687998511228731, 0.4687998511228731, 0.5877294262266933, 0.332717618010834, 0.665435236021668, 0.7344936627282073, 0.1632208139396016, 0.7925853840645637, 0.13209756401076062, 0.6830539525668631, 0.6008487470927136, 0.8502842862766679, 0.09447603180851866, 0.8752556375596209, 0.6920291199413445, 0.7578761202597266, 0.4355199089632854, 0.4355199089632854, 0.9751267497138988, 0.7454840010613583, 0.43284354973737454, 0.43284354973737454, 0.5284212538425335, 0.4046891231637426, 0.4046891231637426, 0.5121815514642624, 0.5121815514642624, 0.4265097425147387, 0.4265097425147387, 0.3635084480729048, 0.3635084480729048, 0.4793398624473145, 0.4793398624473145, 0.7766701080443412, 0.09708376350554265, 0.7972962332060425, 0.1138994618865775, 0.6008487470927136, 0.454743673448265, 0.454743673448265, 0.6713337707271284, 0.1678334426817821, 0.990876440732228, 0.9746565737671256, 0.3974828452138284, 0.3974828452138284, 0.5881334189159426, 0.4285665453201273, 0.4285665453201273, 0.7144447904912816, 0.3572223952456408, 0.9883260534634246, 0.5325893906219652, 0.5560024511572021, 0.18533415038573406, 0.588141855180876, 0.196047285060292, 0.5611478070214131, 0.9427676369885265, 0.03250922886167333, 0.600972111518639, 0.3004860557593195, 0.5137156930656631, 0.5137156930656631, 0.8852828796764026, 0.3773842095528632, 0.3773842095528632, 0.9645532546364679, 0.026793145962124107, 0.5796190178459238, 0.5795902748191669, 0.28979513740958346, 0.28979513740958346, 0.4291425768343943, 0.4291425768343943, 0.4285665453201273, 0.4285665453201273, 0.39712682945567757, 0.39712682945567757, 0.5711342628390007, 0.9928748833802333, 0.5924924095435199, 0.9761585990889704, 0.9155788652121329, 0.06866841489090997, 0.5003241702496287, 0.5003241702496287, 0.5969836729050719, 0.5711342628390007, 0.8592707933885521, 0.0991466300063714, 0.3378793639283066, 0.5068190458924599, 0.5213512657449433, 0.5213512657449433, 0.9718448625940752, 0.38254655481295263, 0.6171707872093872, 0.5814240822091506, 0.7833335716381132, 0.13055559527301888, 0.49606893111598666, 0.3307126207439911, 0.9603861898826811, 0.018831101762405513, 0.9286048096649377, 0.046430240483246885, 0.27017309445783283, 0.5403461889156657, 0.4411284389279456, 0.4411284389279456, 0.5482023137221574, 0.31753537476488924, 0.6350707495297785, 0.4049795956423768, 0.4049795956423768, 0.4321463606677677, 0.4321463606677677, 0.5969836729050719, 0.5851877228966391, 0.8428262936971742, 0.05618841957981161, 0.05618841957981161, 0.45236329609855463, 0.45236329609855463, 0.6171707872093872, 0.5893301382217226, 0.2946650691108613, 0.5711342628390007, 0.5881334189159426, 0.318346338277506, 0.318346338277506, 0.318346338277506, 0.4643647766827549, 0.4643647766827549, 0.6171707872093872, 0.9564073658419889, 0.02732592473834254, 0.4285665453201273, 0.4285665453201273, 0.4199946754116318, 0.4199946754116318, 0.5796190178459238, 0.8279941603156343, 0.12738371697163606, 0.06369185848581803, 0.5147481854157353, 0.45755394259176474, 0.5114677925164787, 0.4875135111604001, 0.4875135111604001, 0.9838417331142718, 0.41999449504765, 0.41999449504765, 0.8018058553834372, 0.5177768598925079, 0.39660550907543485, 0.39660550907543485, 0.6223479001053361, 0.3556273714887635, 0.7263270938721813, 0.18158177346804533, 0.5753843572658698, 0.911348102193617, 0.0628515932547322, 0.5753843572658698, 0.5753843572658698, 0.5037702548904059, 0.9782113181891006, 0.5969836729050719, 0.9703498061834047, 0.924950969056844, 0.5969836813332031, 0.9373394013058509, 0.03605151543484042, 0.4443930828976555, 0.4635298954664805, 0.4635298954664805, 0.473958850569786, 0.473958850569786, 0.7672832445378985, 0.5404630776737517, 0.3603087184491678, 0.1801543592245839, 0.9929726070279827, 0.513144895056412, 0.9645664477620409, 0.023526010921025388, 0.5531098029890917, 0.27655490149454587, 0.5611478070214131, 0.32611149468664613, 0.6522229893732923, 0.37876610787313525, 0.37876610787313525, 0.5484060027129202, 0.5560438498252936, 0.9840508176202669, 0.010250529350211113, 0.19764236090621626, 0.5929270827186488, 0.6421982513674167, 0.21406608378913888, 0.6740617119946879, 0.26962468479787516, 0.5911761258015149, 0.5851877228966391, 0.5746132662341309, 0.41999449504765, 0.41999449504765, 0.9798777568666533, 0.015310589951041459, 0.9446366470028527, 0.016010790627166992, 0.032021581254333985, 0.5924924095435199, 0.46618535344289963, 0.46618535344289963, 0.5924924095435199, 0.5711342628390007, 0.4020702971593018, 0.6031054457389526, 0.574832351044349, 0.567666911633842, 0.8946566094458593, 0.9807716748297647, 0.5924924095435199, 0.5592108341112834, 0.9874847545439243, 0.5759743113999375, 0.7641575847117003, 0.19103939617792506, 0.03820787923558501, 0.5881334189159426, 0.6008487470927136, 0.6200887142176656, 0.7022532166200423, 0.23408440554001406, 0.5137156930656631, 0.5137156930656631, 0.5329007484358443, 0.26645037421792217, 0.6044653772790339, 0.5484060027129202, 0.5711342628390007, 0.5422416786259109, 0.827406236532573, 0.12729326715885736, 0.5969836729050719, 0.9822554666235997, 0.5753843686817756, 0.9076477320982669, 0.0756373110081889, 0.9781446379463034, 0.019179306626398104, 0.5369717144901609, 0.5578065518700671, 0.8361031720430211, 0.9061265248866018, 0.06970204037589245, 0.8134539700277916, 0.13557566167129861, 0.9699694263586128, 0.022044759689968472, 0.4659992334093696, 0.4659992334093696, 0.9574635054628327, 0.023936587636570816, 0.32716932731476484, 0.32716932731476484, 0.6974727636108233, 0.9817751359583549, 0.9929123348629597, 0.5753843572658698, 0.8228117455734587, 0.13713529092890978, 0.43988922261695285, 0.43988922261695285, 0.9785540060466865, 0.017018330539942374, 0.6126164100459256, 0.6150281559573009, 0.6692574728915475, 0.16731436822288687, 0.5668446549735702, 0.5753843572658698, 0.5224024964606998, 0.3918018723455249, 0.5033613155565209, 0.33557421037101387, 0.5881334189159426, 0.3418169506484314, 0.3418169506484314, 0.49130074704275045, 0.24565037352137523, 0.5829832111944687, 0.48651955775857636, 0.5969836813332031, 0.5395194861602931, 0.5369717144901609, 0.6150281752418592, 0.9471262349582787, 0.8099619048853034, 0.8084278705039117, 0.12437351853906335, 0.9783486229860696, 0.6458961829280377, 0.32294809146401887, 0.4466613730418608, 0.2233306865209304, 0.9192043973636908, 0.0483791788086153, 0.42997843518767753, 0.42997843518767753, 0.5053672347762507, 0.7543473610206005, 0.15086947220412011, 0.3897201023614452, 0.3897201023614452, 0.5422416786259109, 0.8659013930212746, 0.07871830845647951, 0.5711342628390007, 0.7116917003638207, 0.35584585018191034, 0.35888871262066185, 0.35888871262066185, 0.9522995456590474, 0.03228134053081516, 0.5881334189159426, 0.8623691330640962, 0.10779614163301203, 0.053898070816506015, 0.9289613062431915, 0.032595133552392686, 0.016297566776196343, 0.46448906871644996, 0.46448906871644996, 0.5969836813332031, 0.9824350129237854, 0.017543482373639025, 0.7403668993517376, 0.3628818543066062, 0.3628818543066062, 0.5446977954693005, 0.454743673448265, 0.454743673448265, 0.2416711414926078, 0.7250134244778235, 0.5881334189159426, 0.5829832111944687, 0.9339096188454422, 0.43904712743681207, 0.6487874276740252, 0.2595149710696101, 0.983734299625325, 0.5925844720167672, 0.1975281573389224, 0.8380782349003707, 0.1197254621286244, 0.5422416786259109, 0.4013501979571993, 0.4013501979571993, 0.3421943742867431, 0.3421943742867431, 0.5735378073413862, 0.2867689036706931, 0.6171707872093872, 0.41999449504765, 0.41999449504765, 0.7571816504708754, 0.6254281127487344, 0.5592108341112834, 0.9586935394107846, 0.5969836729050719, 0.5796190178459238, 0.9924967669552106, 0.584079242739775, 0.14601981068494374, 0.14601981068494374, 0.14601981068494374, 0.8492905194642997, 0.0707742099553583, 0.5369717144901609], \"Term\": [\"25th\", \"3d\", \"able\", \"absolute\", \"accordingly\", \"accurate\", \"ache\", \"actually\", \"advisory\", \"affirmative\", \"affirmative\", \"aforementioned\", \"agricultural\", \"agricultural\", \"ahold\", \"also\", \"also\", \"alternate\", \"alternate\", \"always\", \"always\", \"amazed\", \"annother\", \"annother\", \"answerable\", \"antibiotic\", \"antibiotic\", \"appoximately\", \"armenian\", \"armenian\", \"astray\", \"atomic\", \"audio\", \"available\", \"available\", \"aware\", \"aware\", \"awst\", \"back\", \"bad\", \"bh0\", \"bh00100010b\", \"biblical\", \"big\", \"bold\", \"bold\", \"bornagain\", \"brainwash\", \"breakable\", \"breakable\", \"canadian\", \"canadian\", \"canadian\", \"candidacy\", \"cheap\", \"cheap\", \"cheap\", \"close\", \"close\", \"comfortable\", \"comfortable\", \"compatible\", \"compatible\", \"convertible\", \"corporate\", \"corporate\", \"correct\", \"correct\", \"criminal\", \"criminal\", \"cruel\", \"cultural\", \"current\", \"current\", \"currently\", \"dark\", \"deep\", \"deeply\", \"deeply\", \"different\", \"disable\", \"dissident\", \"dissident\", \"domestic\", \"dominant\", \"dominant\", \"doublemajor\", \"doublemajor\", \"drieux\", \"drieux\", \"dual\", \"dual\", \"dull\", \"dull\", \"economic\", \"economic\", \"effective\", \"effective\", \"elderly\", \"electromagnetic\", \"electromagnetic\", \"electronic\", \"electronic\", \"else\", \"enough\", \"entitle\", \"entitle\", \"enval\", \"ethnical\", \"ethnical\", \"evangelical\", \"evangelical\", \"even\", \"exempt\", \"external\", \"external\", \"fancy\", \"fancy\", \"fantastic\", \"fast\", \"fast\", \"female\", \"female\", \"fertile\", \"fertile\", \"finally\", \"financial\", \"financial\", \"first\", \"first\", \"flush\", \"font\", \"font\", \"font\", \"forgive\", \"forgive\", \"fundamental\", \"fundamental\", \"fundamentalist\", \"fundamentalist\", \"furnish\", \"good\", \"graceful\", \"graphic\", \"great\", \"great\", \"green\", \"green\", \"gritz\", \"hannibal\", \"hard\", \"hard\", \"heavy\", \"heavy\", \"helment\", \"helment\", \"high\", \"higher\", \"highpitched\", \"historical\", \"homosexual\", \"homosexual\", \"hot\", \"hot\", \"however\", \"however\", \"human\", \"human\", \"illegal\", \"illegal\", \"imagine\", \"imagine\", \"implicit\", \"inflatable\", \"inflatable\", \"inject\", \"inject\", \"insert\", \"insert\", \"insitutelibertarian\", \"instant\", \"interested\", \"interested\", \"interested\", \"interestingly\", \"interestingly\", \"intermittent\", \"international\", \"international\", \"interstellar\", \"intrusive\", \"iranian\", \"iranian\", \"iranian\", \"iraqi\", \"iraqi\", \"irregular\", \"israeli\", \"israeli\", \"israeliarab\", \"israeliarab\", \"italic\", \"italic\", \"itchy\", \"jewish\", \"jewish\", \"jewish\", \"key\", \"key\", \"knowable\", \"kurdish\", \"kurdish\", \"last\", \"lastdrive\", \"lastdrive\", \"lead\", \"lean\", \"lebanese\", \"lebanese\", \"legal\", \"legal\", \"legally\", \"legally\", \"legitimately\", \"less\", \"less\", \"levite\", \"levitical\", \"liberal\", \"little\", \"lobbylarouchechristic\", \"long\", \"longer\", \"longterm\", \"low\", \"low\", \"lower\", \"lubricate\", \"lubricate\", \"lunar\", \"lunar\", \"male\", \"manual\", \"manual\", \"manual\", \"many\", \"martial\", \"maybe\", \"maybe\", \"middle\", \"middle\", \"miss\", \"mixed\", \"mixed\", \"modern\", \"modern\", \"modular\", \"motherboard\", \"much\", \"much\", \"multiple\", \"multiple\", \"muslim\", \"muslim\", \"national\", \"national\", \"nationwide\", \"navigate\", \"netter\", \"netware\", \"netware\", \"never\", \"never\", \"new\", \"new\", \"new\", \"newssoftware\", \"nfid\", \"nfid\", \"nonsexist\", \"nontechnical\", \"nuclear\", \"nuclear\", \"objectively\", \"occasionally\", \"often\", \"old\", \"onsite\", \"op\", \"open\", \"ordinary\", \"original\", \"original\", \"original\", \"overbearingly\", \"painfully\", \"paronoid\", \"particular\", \"particular\", \"pastoral\", \"pastoral\", \"peaceful\", \"peaceful\", \"peripheral\", \"permanent\", \"planetary\", \"poisonous\", \"political\", \"political\", \"populist\", \"possible\", \"preprocess\", \"previously\", \"previously\", \"probably\", \"probably\", \"probobly\", \"promiscuous\", \"protestant\", \"public\", \"public\", \"quick\", \"quick\", \"quite\", \"quite\", \"rainy\", \"rainy\", \"rather\", \"rather\", \"rational\", \"rational\", \"ready\", \"real\", \"really\", \"rebuild\", \"regular\", \"regular\", \"reliable\", \"reliable\", \"right\", \"right\", \"routine\", \"scanfirstline\", \"scientific\", \"scientific\", \"scratchy\", \"scriptural\", \"secret\", \"secret\", \"secure\", \"secure\", \"selfrighteous\", \"sensitive\", \"sensitive\", \"sexual\", \"sexual\", \"shalabh\", \"shameful\", \"shrink\", \"shy\", \"sibling\", \"simaxbyte\", \"similar\", \"sincerely\", \"single\", \"single\", \"small\", \"smooth\", \"smooth\", \"solar\", \"solar\", \"soon\", \"soon\", \"southern\", \"southern\", \"soviet\", \"special\", \"special\", \"spiritual\", \"spiritual\", \"spritual\", \"standard\", \"standard\", \"starsaile\", \"static\", \"static\", \"stiff\", \"stiff\", \"still\", \"still\", \"strident\", \"strong\", \"strong\", \"strong\", \"subject\", \"subject\", \"subject\", \"substantially\", \"substantially\", \"succesfully\", \"sure\", \"sure\", \"suspect\", \"swiss\", \"swiss\", \"tall\", \"teel\", \"teel\", \"telepathy\", \"telepathy\", \"theonlytruechristian\", \"therapeutic\", \"therefore\", \"thermal\", \"total\", \"total\", \"true\", \"turkish\", \"turkish\", \"twice\", \"twice\", \"unclear\", \"unconventional\", \"unconventional\", \"underground\", \"underground\", \"unlawful\", \"unlawful\", \"unplugged\", \"unused\", \"unused\", \"unusual\", \"useful\", \"usn\", \"usually\", \"want\", \"watery\", \"well\", \"western\", \"western\", \"western\", \"western\", \"willing\", \"willing\", \"wsclipsible\"]}, \"R\": 30, \"lambda.step\": 0.01, \"plot.opts\": {\"xlab\": \"PC1\", \"ylab\": \"PC2\"}, \"topic.order\": [4, 7, 6, 2, 3, 5, 1]};\n",
              "\n",
              "function LDAvis_load_lib(url, callback){\n",
              "  var s = document.createElement('script');\n",
              "  s.src = url;\n",
              "  s.async = true;\n",
              "  s.onreadystatechange = s.onload = callback;\n",
              "  s.onerror = function(){console.warn(\"failed to load library \" + url);};\n",
              "  document.getElementsByTagName(\"head\")[0].appendChild(s);\n",
              "}\n",
              "\n",
              "if(typeof(LDAvis) !== \"undefined\"){\n",
              "   // already loaded: just create the visualization\n",
              "   !function(LDAvis){\n",
              "       new LDAvis(\"#\" + \"ldavis_el601399367658231848299340761\", ldavis_el601399367658231848299340761_data);\n",
              "   }(LDAvis);\n",
              "}else if(typeof define === \"function\" && define.amd){\n",
              "   // require.js is available: use it to load d3/LDAvis\n",
              "   require.config({paths: {d3: \"https://d3js.org/d3.v5\"}});\n",
              "   require([\"d3\"], function(d3){\n",
              "      window.d3 = d3;\n",
              "      LDAvis_load_lib(\"https://cdn.jsdelivr.net/gh/bmabey/pyLDAvis@3.3.1/pyLDAvis/js/ldavis.v3.0.0.js\", function(){\n",
              "        new LDAvis(\"#\" + \"ldavis_el601399367658231848299340761\", ldavis_el601399367658231848299340761_data);\n",
              "      });\n",
              "    });\n",
              "}else{\n",
              "    // require.js not available: dynamically load d3 & LDAvis\n",
              "    LDAvis_load_lib(\"https://d3js.org/d3.v5.js\", function(){\n",
              "         LDAvis_load_lib(\"https://cdn.jsdelivr.net/gh/bmabey/pyLDAvis@3.3.1/pyLDAvis/js/ldavis.v3.0.0.js\", function(){\n",
              "                 new LDAvis(\"#\" + \"ldavis_el601399367658231848299340761\", ldavis_el601399367658231848299340761_data);\n",
              "            })\n",
              "         });\n",
              "}\n",
              "</script>"
            ]
          },
          "metadata": {},
          "execution_count": 67
        }
      ]
    },
    {
      "cell_type": "markdown",
      "metadata": {
        "id": "LxGZAx8y85h4"
      },
      "source": [
        "Una vez lo hemos validado, podemos asociar topics a cada uno de los documentos."
      ]
    },
    {
      "cell_type": "markdown",
      "metadata": {
        "id": "aaNF7VOAn9xc"
      },
      "source": [
        "Utilizando el método get_document_topics() sobre el texto del corpus que queramos podemos detectar la composición de temas que tiene cada documento:"
      ]
    },
    {
      "cell_type": "code",
      "metadata": {
        "colab": {
          "base_uri": "https://localhost:8080/"
        },
        "id": "eMhhVq7IlmAy",
        "outputId": "8eec4292-40f8-496b-e794-81e0f67b72f7"
      },
      "source": [
        "lda_model.get_document_topics(corpus[0])"
      ],
      "execution_count": 68,
      "outputs": [
        {
          "output_type": "execute_result",
          "data": {
            "text/plain": [
              "[(3, 0.985258)]"
            ]
          },
          "metadata": {},
          "execution_count": 68
        }
      ]
    },
    {
      "cell_type": "markdown",
      "metadata": {
        "id": "i65S5Be_oK2e"
      },
      "source": [
        "Podríamos ver la contribución de una palabra específica a cada uno de los topics con get_term_topics:"
      ]
    },
    {
      "cell_type": "code",
      "metadata": {
        "colab": {
          "base_uri": "https://localhost:8080/"
        },
        "id": "DKN5m-dpoKIn",
        "outputId": "e1231cd4-75b9-41ba-a878-53852f92213c"
      },
      "source": [
        "lda_model.get_term_topics(\"correct\", minimum_probability=0.001) #Get the most relevant topics to the given word.\n",
        "\n"
      ],
      "execution_count": 74,
      "outputs": [
        {
          "output_type": "execute_result",
          "data": {
            "text/plain": [
              "[(3, 0.0010637881), (5, 0.0036885743)]"
            ]
          },
          "metadata": {},
          "execution_count": 74
        }
      ]
    }
  ]
}