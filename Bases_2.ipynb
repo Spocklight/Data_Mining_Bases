{
  "nbformat": 4,
  "nbformat_minor": 0,
  "metadata": {
    "colab": {
      "name": "Copiar_antes_de_usar_TextRepresentation_copia_alumno.ipynb",
      "provenance": [],
      "collapsed_sections": [
        "fdk6YyUjvbHW"
      ],
      "include_colab_link": true
    },
    "kernelspec": {
      "name": "python3",
      "display_name": "Python 3"
    }
  },
  "cells": [
    {
      "cell_type": "markdown",
      "metadata": {
        "id": "view-in-github",
        "colab_type": "text"
      },
      "source": [
        "<a href=\"https://colab.research.google.com/github/Spocklight/Data_Mining_Bases/blob/main/Bases_2.ipynb\" target=\"_parent\"><img src=\"https://colab.research.google.com/assets/colab-badge.svg\" alt=\"Open In Colab\"/></a>"
      ]
    },
    {
      "cell_type": "markdown",
      "metadata": {
        "id": "A48-kUHmOmQZ"
      },
      "source": [
        "\n",
        "# Representación numérica de textos\n",
        "En la mayoría de técnicas comúnmente utilizadas en Text Mining y NLP es necesario representar los textos en forma de vectores numéricos para que puedan ser procesados por modelos estadísticos o modelos de aprendizaje automático. Existen diferentes formas de representar el texto de esta manera, todas de ellas consisten en mapear la información a un espacio vectorial, numérico, aunque difieren en la manera de modelar los datos.\n",
        "\n",
        "Por una parte, nos encontramos estrategias para representar documentos completos en el espacio vectorial. Estas estrategias se basan en construir una matriz de términos y documentos, que representan el contenido del texto en vectores de manera que puedan ser utilizados como fuente de datos de entrada para tareas de clasificación, topic modelling o búsqueda de información. \n",
        "\n",
        "\n",
        "Por otra parte, existen estrategias para representar los documentos a nivel de palabra. Es decir, que cada token del vocabulario tenga asociada un vector específico. Estas estrategias, comúnmente denominadas como embeddings, permiten capturar la semántica de los términos y realizar de forma muy competente tareas más complejas como la extracción y linkeo de entidades, aunque también pueden ser utilizadas para otro tipo de tareas. \n",
        "\n",
        "\n",
        "\n"
      ]
    },
    {
      "cell_type": "markdown",
      "source": [
        "\n",
        "## 1. Representación numérica de documentos\n",
        "\n",
        "En este notebook vamos a aprender a representar numéricamente documentos a través de los métodos de representación Bag Of Words (BoW) y TF-IDF.\n",
        "\n",
        "\n",
        "Para este ejercicio trabajaremos con un corpus muy sencillo, para visualizar bien los resultados:"
      ],
      "metadata": {
        "id": "OW1pFXcKTOMB"
      }
    },
    {
      "cell_type": "code",
      "source": [
        "corpus = [\"yo quiero agua\",\n",
        "          \"yo quiero cocacola\",\n",
        "          \"yo quiero agua y un agua\",\n",
        "          \"yo no quiero vino\",\n",
        "          \"yo quiero un entrecot\"]"
      ],
      "metadata": {
        "id": "9EkfSTy3pxsb"
      },
      "execution_count": 1,
      "outputs": []
    },
    {
      "cell_type": "markdown",
      "source": [
        "Vamos a tokenizar cada una de las frases, para trabajar comodamente más adelante:"
      ],
      "metadata": {
        "id": "V7yGud8qqP8N"
      }
    },
    {
      "cell_type": "code",
      "source": [
        "corpus_tok = [i.split() for i in corpus]  #Corpus conocido y sencillo, podemos dividir palabras con split()\n",
        "corpus_tok"
      ],
      "metadata": {
        "id": "fp3fAT8ppwl6",
        "colab": {
          "base_uri": "https://localhost:8080/"
        },
        "outputId": "521e72a2-2750-400a-844e-63d9156d96ed"
      },
      "execution_count": 2,
      "outputs": [
        {
          "output_type": "execute_result",
          "data": {
            "text/plain": [
              "[['yo', 'quiero', 'agua'],\n",
              " ['yo', 'quiero', 'cocacola'],\n",
              " ['yo', 'quiero', 'agua', 'y', 'un', 'agua'],\n",
              " ['yo', 'no', 'quiero', 'vino'],\n",
              " ['yo', 'quiero', 'un', 'entrecot']]"
            ]
          },
          "metadata": {},
          "execution_count": 2
        }
      ]
    },
    {
      "cell_type": "markdown",
      "source": [
        "### Bag of Words\n",
        "Como hemos visto anterioremente, Bag Of Words es uno de los modelos de representación de texto más intuitivos. Para implementarlo, se construye un vocabulario de tamaño N con los tokens únicos del corpus de trabajo, para despues representar cada documento con un vector del mismo tamaño en el que cada elemento será el nº de veces que aparece el token en cuestión en el documento.\n",
        "\n"
      ],
      "metadata": {
        "id": "FhnCPAKiqFLH"
      }
    },
    {
      "cell_type": "markdown",
      "source": [
        "En primer lugar, construimos el vocabulario que se utilizará para representar nuestro corpus:"
      ],
      "metadata": {
        "id": "2eQnwDb5qjA9"
      }
    },
    {
      "cell_type": "code",
      "source": [
        "# El vocabulario de nuestro corpus son los tokens únicos utilizados en nuestro conjunto de documentos\n",
        "import itertools\n",
        "import numpy as np\n",
        "\n",
        "all_tokens = itertools.chain(*corpus_tok) #Nos pone en una misma lista todos los tokens de la lista de listas \"corpus_tok\"\n",
        "vocab = sorted(set(all_tokens)) #Set se queda con los valores únicos y sorted los ordena por orden alfabético\n",
        "\n",
        "print(\"Nuestro vocabulario contiene {} tokens, que son: {}\".format(len(vocab),vocab))"
      ],
      "metadata": {
        "colab": {
          "base_uri": "https://localhost:8080/"
        },
        "id": "CAsGf7eOqI-C",
        "outputId": "9987cc2b-ea3e-4c86-a9c1-ed3776c03395"
      },
      "execution_count": 4,
      "outputs": [
        {
          "output_type": "stream",
          "name": "stdout",
          "text": [
            "Nuestro vocabulario contiene 9 tokens, que son: ['agua', 'cocacola', 'entrecot', 'no', 'quiero', 'un', 'vino', 'y', 'yo']\n"
          ]
        }
      ]
    },
    {
      "cell_type": "markdown",
      "source": [
        "Cada uno de los documentos del corpus estará representado por un vector de 9 elementos. El elemento 0 representará la presencia del token agua en el documento, el elemento 1 representará la presencia de \"cocacola\" en el documento... etc\n",
        "\n",
        "A continuación, vamos a construir esos vectores:"
      ],
      "metadata": {
        "id": "ox-OKbnNraUS"
      }
    },
    {
      "cell_type": "code",
      "source": [
        "import collections\n",
        "# Creamos un vector de salida\n",
        "doc_vectors = list()\n",
        "# Iteramos en cada uno de los documentos del corpus\n",
        "for doc in corpus_tok:\n",
        "  # Contamos las ocurrencias de cada uno de los tokens. Counter devuelve un diccionario\n",
        "  counter_doc = collections.Counter(doc)    # {\"yo\": 1, \"quiero\": 1, \"agua:\" 1} ---> Ejemplo de salida de pasarle una iteración del corpus_tok a counter\n",
        "  # Creamos el vector que representará al documento\n",
        "  doc_vec = list()\n",
        "  # Iteramos por los términos del voabulario\n",
        "  for word in vocab:\n",
        "    # Si el término está en el diccionario de conteo, introducimos el valor en\n",
        "    # esa posición del vector. Si no está, introducimos un 0\n",
        "    if word in counter_doc:\n",
        "      doc_vec.append(counter_doc[word]) #counter_doc[word]\n",
        "    else:\n",
        "      doc_vec.append(0)\n",
        "  # Añadimos al vector de salida el vector del documento\n",
        "  doc_vectors.append(doc_vec)"
      ],
      "metadata": {
        "id": "0J0ven0arZpl"
      },
      "execution_count": 5,
      "outputs": []
    },
    {
      "cell_type": "code",
      "source": [
        "for frase, vector in zip(corpus, doc_vectors):\n",
        "  print(\"La frase '{}' está representada por el vector {}\".format(frase, vector))"
      ],
      "metadata": {
        "id": "Lg7a8t2As-61",
        "colab": {
          "base_uri": "https://localhost:8080/"
        },
        "outputId": "477fc59c-ee42-4a45-97f9-afa194dc506d"
      },
      "execution_count": 6,
      "outputs": [
        {
          "output_type": "stream",
          "name": "stdout",
          "text": [
            "La frase 'yo quiero agua' está representada por el vector [1, 0, 0, 0, 1, 0, 0, 0, 1]\n",
            "La frase 'yo quiero cocacola' está representada por el vector [0, 1, 0, 0, 1, 0, 0, 0, 1]\n",
            "La frase 'yo quiero agua y un agua' está representada por el vector [2, 0, 0, 0, 1, 1, 0, 1, 1]\n",
            "La frase 'yo no quiero vino' está representada por el vector [0, 0, 0, 1, 1, 0, 1, 0, 1]\n",
            "La frase 'yo quiero un entrecot' está representada por el vector [0, 0, 1, 0, 1, 1, 0, 0, 1]\n"
          ]
        }
      ]
    },
    {
      "cell_type": "markdown",
      "source": [
        "En Bag Of Words: \n",
        "\n",
        "- Los términos que aparecen varias veces en el documento tienen un número mayor, lo que se puede traducir en que esos términos (caracteristicas) tienen un mayor peso en el documento.\n",
        "- Si un término ocurre muchas veces en todos los documentos, tendrá gran importancia en cada uno de ellos, a pesar de que no será útil para clasificar o agrupar textos.\n",
        "\n",
        "\n",
        "El método de representación TF-IDF intenta precisamente  compensar este efecto mediante la aplicación de una penalización a palabras comunes en muchos documentos."
      ],
      "metadata": {
        "id": "Xi8aGcOouXTU"
      }
    },
    {
      "cell_type": "markdown",
      "source": [
        "### TF-IDF  (intuición)\n"
      ],
      "metadata": {
        "id": "fdk6YyUjvbHW"
      }
    },
    {
      "cell_type": "markdown",
      "source": [
        "Para realizar los cáculos de forma más eficiente generaremos un diccionario que asocie a cada una de las palabras de nuestro corpus un índice numérico.\n"
      ],
      "metadata": {
        "id": "ct4pM7F6RfZ-"
      }
    },
    {
      "cell_type": "markdown",
      "source": [
        "Para calcular TF-IDF realizaremos los siguientes pasos:\n",
        "\n",
        "1. Calcular el Term Frequency (TF). Que se calcula como:\n",
        "  $$TF(w) = n_{w-in-d} / N_d$$\n",
        "\n",
        "Anteriormente hemos calculado para cada documento el número de veces que aparecía cada token del vocabulario. Para calcular el TF bastaría con dividir cada uno de los elementos del vector con la suma total de tokens de cada documento.\n"
      ],
      "metadata": {
        "id": "PR2pB-QDzfzs"
      }
    },
    {
      "cell_type": "markdown",
      "source": [
        "2. Calcular el componente Inverse-Document Frequency (IDF). Que se calcula como:\n",
        "$$ IDF(w) = ln(N/n_w)$$\n",
        "\n",
        "donde n_w  es el número de documentos que contiene el token w y N es el número total de documentos. \n",
        "En el código incluimos una versión simplificada, para simplificar el código, en el que n_w es el número de veces que el token aparece \n"
      ],
      "metadata": {
        "id": "q832rwMH0klF"
      }
    },
    {
      "cell_type": "markdown",
      "source": [
        "En primer lugar generamos una función que permita calcular el número de vees que un token aparece en un documento d enuestro corpus."
      ],
      "metadata": {
        "id": "7xZDRIuTUZAu"
      }
    },
    {
      "cell_type": "markdown",
      "source": [
        "Depsues, unimos ambas expresiones para calcular el TF-IDF de una frase:"
      ],
      "metadata": {
        "id": "HVrOHtSZUtJt"
      }
    },
    {
      "cell_type": "code",
      "source": [
        "def tf_idf_calc(doc, N_corpus):\n",
        "  # Generamos vector salida\n",
        "  tf_idf_vec = np.zeros((len(vocab),))\n",
        "  for word in doc:\n",
        "    # Calculamoes el valor tf para el token en cuestion\n",
        "    tf = TF_calc(doc, word)\n",
        "    # Calculamos el valor idf para el token en cuestion\n",
        "    idf = idf_calc(doc, N_corpus)\n",
        "\n",
        "    tf_idf = tf * idf\n",
        "    tf_idf_vec[index_dict[word]] = tf_idf \n",
        "  return tf_idf_vec"
      ],
      "metadata": {
        "id": "FfKEr-y3TBv5"
      },
      "execution_count": null,
      "outputs": []
    },
    {
      "cell_type": "markdown",
      "source": [
        "Por ultimo lo calculamos para todo el corpus"
      ],
      "metadata": {
        "id": "PKV7tHzHU_5S"
      }
    },
    {
      "cell_type": "code",
      "source": [
        "#TF-IDF Encoded text corpus\n",
        "tf_idf_result = []\n",
        "for sent in corpus_tok:\n",
        "    vec = tf_idf_calc(sent,len(corpus_tok))\n",
        "    tf_idf_result.append(vec)"
      ],
      "metadata": {
        "id": "2rmTJUUmVEUq"
      },
      "execution_count": null,
      "outputs": []
    },
    {
      "cell_type": "markdown",
      "metadata": {
        "id": "IvFyVzubOmJM"
      },
      "source": [
        "### Cálculo con scikit-learn\n",
        "\n",
        "\n"
      ]
    },
    {
      "cell_type": "markdown",
      "source": [
        "Aunque hemos mostrado una manera de aplicar el BoW y Tf-IDF a un corpus de documentos. Existen varias modificaciones que pueden mejorar los resultados (modificaciones en el cálculo de la componente IDF, por ejemplo). Además, las librerías de ML están preapradas para transformar documentos de forma más inmedianta, eficiente e incorporando funciones que pueden ser de utilidad\n",
        "\n",
        "\n",
        "En scikit-learn podemos utilizar distintas funciones para obtener el vocabulario de un corpus de documentos. Ambas están presentes dentro del módulo feature_extraction.text y son [`CountVectorizer`](https://scikit-learn.org/stable/modules/generated/sklearn.feature_extraction.text.CountVectorizer.html) y  [`TfidfVectorizer`](https://scikit-learn.org/stable/modules/generated/sklearn.feature_extraction.text.TfidfVectorizer.html#sklearn.feature_extraction.text.TfidfVectorizer). \n",
        "Vamos a crear un objeto con cada una de esas clases para introducir nuestro corpus y extraer el vocabulario."
      ],
      "metadata": {
        "id": "Hfx5yjcoYOPA"
      }
    },
    {
      "cell_type": "markdown",
      "metadata": {
        "id": "TJl8IO50AKBp"
      },
      "source": [
        "\n",
        "**Tanto las funciones CountVectorizer como TfidfVectorizer cuentan con muchos parámetros personalizables. Algunos de los más relevantes son:**\n",
        "\n",
        "\n",
        "*   *strip_accents*: Elimina los acentos en codificación ascii o unicode. Por defecto es None. Es preferible hacer una gestión de acentos previas.\n",
        "*   *lowercase*: Transforma todos los caracteres a minúsculas antes de hacer la tokenización.\n",
        "*   *tokenizer*: Utiliza un tokenizador específico. Se puede utilizar una de NLTK o de Spacy(computacionalmente menos eficiente).\n",
        "*   *stop_words*: Si se pone el valor \"english\" eliminara la lista de stop_words definida en scikit-learn. Se puede utilizar la lista de stopwords de otras librerías o definir unas propias.\n",
        "*   *ngram_range*: Cálculo de n-gramas en el proceso. Mediante la tubla (min_n, max_n) se pueden incorporar n-gramas al cálculo de la matriz tfidf.\n",
        "*   *max_df*: Valor por defecto 1.  Ignora los tokens (o n-gramas) que aparecen en más del X % de documentos cuando es menor de 1. Si max_df es mayor que uno se ignorarán los términos que aparecen en más de X documentos.\n",
        "*   *min_df*: Valor por defecto 1. Ignora los tokens que aparecen  en menos del X % de los documentos. Siendo X el valor de X. (0.01 = 1%, por ejemplo)\n",
        "*   *max_features*: Máximas características que devuelve la función TfidfVectorizer. Valor mayor que 1. Representa las caracaterísticas más importantes (las más repetidas o comunes) Esto es muy interesante para no sobreentrenar el sistema.\n",
        "*   *norm*: Valores \"l1\" y \"l2\", por defecto \"l2\". Normaliza los valores entre 0 y 1.\n",
        "*   *use_idf*: Habilita el uso del inverse-document frequency en la función. Por defecto es True.\n",
        "*   *smooth_idf*: Suaviza los pesos de IDF sumando una unidad a cada frecuencia. Es muy importante para evitar divisiones por cero.\n",
        "\n"
      ]
    },
    {
      "cell_type": "code",
      "metadata": {
        "id": "PiDKf5zHT-Rm"
      },
      "source": [
        "from sklearn.feature_extraction.text import CountVectorizer,TfidfVectorizer\n",
        "from sklearn.feature_extraction import text\n",
        "\n",
        "# Creamos los objetos\n",
        "count_vectorizer = CountVectorizer()\n",
        "tfidf_vectorizer = TfidfVectorizer(norm=None, smooth_idf=False) # Re-escribimos los valores por defecto para tener el tf-idf básico\n",
        "\n",
        "# Hacemos Fit con nuestro corpus\n",
        "count_data = count_vectorizer.fit(corpus)  #Lo metemos sin tokenizar\n",
        "tfidf_data = tfidf_vectorizer.fit(corpus)\n"
      ],
      "execution_count": 7,
      "outputs": []
    },
    {
      "cell_type": "code",
      "metadata": {
        "id": "4tUVaA_-UItk",
        "colab": {
          "base_uri": "https://localhost:8080/"
        },
        "outputId": "9eac5df6-07c2-4d4c-f7be-a35762d9fee4"
      },
      "source": [
        "# Obtenemos los vocabularios de dos formas:\n",
        "print(\"COUNT VECTORIZER\")\n",
        "print(\"Obtenemos un dictionario que mapea las palabras con su posición en el vector del vocabulario\")\n",
        "print(count_data.vocabulary_)\n",
        "print(\"Obtenemos el vocabulario en si mismo como una lista\")\n",
        "print(count_data.get_feature_names())\n",
        "print(\"Numero de características:\")\n",
        "print(len(count_data.get_feature_names()))"
      ],
      "execution_count": 13,
      "outputs": [
        {
          "output_type": "stream",
          "name": "stdout",
          "text": [
            "COUNT VECTORIZER\n",
            "Obtenemos un dictionario que mapea las palabras con su posición en el vector del vocabulario\n",
            "{'yo': 7, 'quiero': 4, 'agua': 0, 'cocacola': 1, 'un': 5, 'no': 3, 'vino': 6, 'entrecot': 2}\n",
            "Obtenemos el vocabulario en si mismo como una lista\n",
            "['agua', 'cocacola', 'entrecot', 'no', 'quiero', 'un', 'vino', 'yo']\n",
            "Numero de características:\n",
            "8\n"
          ]
        },
        {
          "output_type": "stream",
          "name": "stderr",
          "text": [
            "/usr/local/lib/python3.7/dist-packages/sklearn/utils/deprecation.py:87: FutureWarning: Function get_feature_names is deprecated; get_feature_names is deprecated in 1.0 and will be removed in 1.2. Please use get_feature_names_out instead.\n",
            "  warnings.warn(msg, category=FutureWarning)\n"
          ]
        }
      ]
    },
    {
      "cell_type": "code",
      "metadata": {
        "id": "o1Xi6tt1DH-0",
        "colab": {
          "base_uri": "https://localhost:8080/"
        },
        "outputId": "258ff148-ee60-492f-e206-fc9e9af944ba"
      },
      "source": [
        "# Obviamente, dado que hemos utilizado el mismo corpus, obtenemos el mismo resultado con el tfidf_vectorizer.\n",
        "print(\"\\n\\n TF-IDF VECTORIZER\")\n",
        "print(\"Obtenemos un dictionario que mapea las palabras con su posición en el vector del vocabulario\")\n",
        "print(tfidf_data.vocabulary_)\n",
        "print(\"Obtenemos el vocabulario en si mismo como una lista\")\n",
        "print(tfidf_data.get_feature_names())\n",
        "print(\"Numero de características:\")\n",
        "print(len(tfidf_data.get_feature_names()))"
      ],
      "execution_count": 14,
      "outputs": [
        {
          "output_type": "stream",
          "name": "stdout",
          "text": [
            "\n",
            "\n",
            " TF-IDF VECTORIZER\n",
            "Obtenemos un dictionario que mapea las palabras con su posición en el vector del vocabulario\n",
            "{'yo': 7, 'quiero': 4, 'agua': 0, 'cocacola': 1, 'un': 5, 'no': 3, 'vino': 6, 'entrecot': 2}\n",
            "Obtenemos el vocabulario en si mismo como una lista\n",
            "['agua', 'cocacola', 'entrecot', 'no', 'quiero', 'un', 'vino', 'yo']\n",
            "Numero de características:\n",
            "8\n"
          ]
        },
        {
          "output_type": "stream",
          "name": "stderr",
          "text": [
            "/usr/local/lib/python3.7/dist-packages/sklearn/utils/deprecation.py:87: FutureWarning: Function get_feature_names is deprecated; get_feature_names is deprecated in 1.0 and will be removed in 1.2. Please use get_feature_names_out instead.\n",
            "  warnings.warn(msg, category=FutureWarning)\n"
          ]
        }
      ]
    },
    {
      "cell_type": "markdown",
      "metadata": {
        "id": "bQabDt3aDJ4-"
      },
      "source": [
        "Si imprimimos el objeto tfidf_data podemos ver la configuración de los parámetros de TfidfVectorizer:"
      ]
    },
    {
      "cell_type": "code",
      "metadata": {
        "colab": {
          "base_uri": "https://localhost:8080/"
        },
        "id": "UhHyIi8JUiLn",
        "outputId": "224f4851-4445-4a42-9d08-b0d5f50b4a92"
      },
      "source": [
        "tfidf_data"
      ],
      "execution_count": 15,
      "outputs": [
        {
          "output_type": "execute_result",
          "data": {
            "text/plain": [
              "TfidfVectorizer(norm=None, smooth_idf=False)"
            ]
          },
          "metadata": {},
          "execution_count": 15
        }
      ]
    },
    {
      "cell_type": "markdown",
      "metadata": {
        "id": "lBUeudl0Ol8L"
      },
      "source": [
        "A continuación se muestra el resultado de transformar nuestro corpus con lso métodos de scikit-learn. El `CountVectorizer` mostrará el conteo de veces que una palabra del vocabulario está presente dentro del documento, el `TfidfVectorizer` mostrará el resultado con la métrica TF-IDF mostrada en los apuntes."
      ]
    },
    {
      "cell_type": "code",
      "metadata": {
        "id": "y7BGfa8UAEvE",
        "colab": {
          "base_uri": "https://localhost:8080/"
        },
        "outputId": "e9a6ab60-8825-4be9-cea0-376139fd9d82"
      },
      "source": [
        "# Resultado del CountVectorizer\n",
        "count_data_result = count_data.transform(corpus).toarray()\n",
        "print(count_data_result)"
      ],
      "execution_count": 16,
      "outputs": [
        {
          "output_type": "stream",
          "name": "stdout",
          "text": [
            "[[1 0 0 0 1 0 0 1]\n",
            " [0 1 0 0 1 0 0 1]\n",
            " [2 0 0 0 1 1 0 1]\n",
            " [0 0 0 1 1 0 1 1]\n",
            " [0 0 1 0 1 1 0 1]]\n"
          ]
        }
      ]
    },
    {
      "cell_type": "code",
      "metadata": {
        "id": "fnvyxz32DdUG",
        "colab": {
          "base_uri": "https://localhost:8080/"
        },
        "outputId": "1973d433-0cac-48e6-cd36-c6330cb143b8"
      },
      "source": [
        "np.set_printoptions(formatter={'float': lambda x: \"{0:0.2f}\".format(x)})\n",
        "\n",
        "# Resultado del TfidfVectorizer\n",
        "tfidf_data_result = tfidf_data.transform(corpus).toarray()\n",
        "tfidf_data_result\n"
      ],
      "execution_count": 20,
      "outputs": [
        {
          "output_type": "execute_result",
          "data": {
            "text/plain": [
              "array([[1.92, 0.00, 0.00, 0.00, 1.00, 0.00, 0.00, 1.00],\n",
              "       [0.00, 2.61, 0.00, 0.00, 1.00, 0.00, 0.00, 1.00],\n",
              "       [3.83, 0.00, 0.00, 0.00, 1.00, 1.92, 0.00, 1.00],\n",
              "       [0.00, 0.00, 0.00, 2.61, 1.00, 0.00, 2.61, 1.00],\n",
              "       [0.00, 0.00, 2.61, 0.00, 1.00, 1.92, 0.00, 1.00]])"
            ]
          },
          "metadata": {},
          "execution_count": 20
        }
      ]
    },
    {
      "cell_type": "markdown",
      "metadata": {
        "id": "_xm5fMDoY-nR"
      },
      "source": [
        "Vamos a mostrar los resultados con seaborn para que se vean mejor. Importante mencionar que esto se puede hacer cuando el vocabulario es muy reducido, si no podría ocasionar problemas en la memoria."
      ]
    },
    {
      "cell_type": "code",
      "metadata": {
        "id": "Cck6bfUBZBrb",
        "colab": {
          "base_uri": "https://localhost:8080/",
          "height": 446
        },
        "outputId": "1a37a091-8c6c-4bfc-ab4e-43c2821680a1"
      },
      "source": [
        "import matplotlib.pyplot as plt\n",
        "import seaborn as sns\n",
        "plt.figure(figsize=(16, 6))\n",
        "# Figura CountVectorizer\n",
        "sns.heatmap(count_data_result, annot=True,cbar=False,\n",
        "            xticklabels=count_data.get_feature_names(),\n",
        "            yticklabels = [\"Frase 1\", \"Frase 2\", \"Frase 3\",\"Frase 4\", \"Frase 5\"])\n",
        "\n"
      ],
      "execution_count": 21,
      "outputs": [
        {
          "output_type": "stream",
          "name": "stderr",
          "text": [
            "/usr/local/lib/python3.7/dist-packages/sklearn/utils/deprecation.py:87: FutureWarning: Function get_feature_names is deprecated; get_feature_names is deprecated in 1.0 and will be removed in 1.2. Please use get_feature_names_out instead.\n",
            "  warnings.warn(msg, category=FutureWarning)\n"
          ]
        },
        {
          "output_type": "execute_result",
          "data": {
            "text/plain": [
              "<matplotlib.axes._subplots.AxesSubplot at 0x7ff619904150>"
            ]
          },
          "metadata": {},
          "execution_count": 21
        },
        {
          "output_type": "display_data",
          "data": {
            "text/plain": [
              "<Figure size 1152x432 with 1 Axes>"
            ],
            "image/png": "[encoded data removed]"
          },
          "metadata": {
            "needs_background": "light"
          }
        }
      ]
    },
    {
      "cell_type": "code",
      "metadata": {
        "id": "X4viXEKmD1FT",
        "colab": {
          "base_uri": "https://localhost:8080/",
          "height": 446
        },
        "outputId": "c60392ca-4c5d-4fdc-a350-e9f9074478c9"
      },
      "source": [
        "plt.figure(figsize=(16, 6))\n",
        "sns.heatmap(tfidf_data_result, annot=True,cbar=False,\n",
        "            xticklabels = tfidf_data.get_feature_names(),\n",
        "            yticklabels = [\"Frase 1\", \"Frase 2\", \"Frase 3\",\"Frase 4\", \"Frase 5\"])"
      ],
      "execution_count": 22,
      "outputs": [
        {
          "output_type": "stream",
          "name": "stderr",
          "text": [
            "/usr/local/lib/python3.7/dist-packages/sklearn/utils/deprecation.py:87: FutureWarning: Function get_feature_names is deprecated; get_feature_names is deprecated in 1.0 and will be removed in 1.2. Please use get_feature_names_out instead.\n",
            "  warnings.warn(msg, category=FutureWarning)\n"
          ]
        },
        {
          "output_type": "execute_result",
          "data": {
            "text/plain": [
              "<matplotlib.axes._subplots.AxesSubplot at 0x7ff61422aa50>"
            ]
          },
          "metadata": {},
          "execution_count": 22
        },
        {
          "output_type": "display_data",
          "data": {
            "text/plain": [
              "<Figure size 1152x432 with 1 Axes>"
            ],
            "image/png": "[encoded data removed]"
          },
          "metadata": {
            "needs_background": "light"
          }
        }
      ]
    },
    {
      "cell_type": "markdown",
      "metadata": {
        "id": "JFJMRxoQNK4J"
      },
      "source": [
        "### Uso de preprocesadores externos a scikit-learn\n",
        "\n",
        "\n"
      ]
    },
    {
      "cell_type": "markdown",
      "metadata": {
        "id": "Vov1rGLIDjr9"
      },
      "source": [
        "En primer lugar, dado que vamos a utilizar spacy, instalaremos la librería y el modelo:"
      ]
    },
    {
      "cell_type": "code",
      "metadata": {
        "id": "ZshEoLThWJDt",
        "colab": {
          "base_uri": "https://localhost:8080/"
        },
        "outputId": "de1cac0c-8d79-41bb-f767-893e608911a3"
      },
      "source": [
        "!pip install spacy\n",
        "!python -m spacy download es_core_news_sm"
      ],
      "execution_count": 23,
      "outputs": [
        {
          "output_type": "stream",
          "name": "stdout",
          "text": [
            "Requirement already satisfied: spacy in /usr/local/lib/python3.7/dist-packages (2.2.4)\n",
            "Requirement already satisfied: srsly<1.1.0,>=1.0.2 in /usr/local/lib/python3.7/dist-packages (from spacy) (1.0.5)\n",
            "Requirement already satisfied: cymem<2.1.0,>=2.0.2 in /usr/local/lib/python3.7/dist-packages (from spacy) (2.0.6)\n",
            "Requirement already satisfied: setuptools in /usr/local/lib/python3.7/dist-packages (from spacy) (57.4.0)\n",
            "Requirement already satisfied: preshed<3.1.0,>=3.0.2 in /usr/local/lib/python3.7/dist-packages (from spacy) (3.0.6)\n",
            "Requirement already satisfied: numpy>=1.15.0 in /usr/local/lib/python3.7/dist-packages (from spacy) (1.21.6)\n",
            "Requirement already satisfied: plac<1.2.0,>=0.9.6 in /usr/local/lib/python3.7/dist-packages (from spacy) (1.1.3)\n",
            "Requirement already satisfied: catalogue<1.1.0,>=0.0.7 in /usr/local/lib/python3.7/dist-packages (from spacy) (1.0.0)\n",
            "Requirement already satisfied: requests<3.0.0,>=2.13.0 in /usr/local/lib/python3.7/dist-packages (from spacy) (2.23.0)\n",
            "Requirement already satisfied: blis<0.5.0,>=0.4.0 in /usr/local/lib/python3.7/dist-packages (from spacy) (0.4.1)\n",
            "Requirement already satisfied: murmurhash<1.1.0,>=0.28.0 in /usr/local/lib/python3.7/dist-packages (from spacy) (1.0.7)\n",
            "Requirement already satisfied: wasabi<1.1.0,>=0.4.0 in /usr/local/lib/python3.7/dist-packages (from spacy) (0.9.1)\n",
            "Requirement already satisfied: thinc==7.4.0 in /usr/local/lib/python3.7/dist-packages (from spacy) (7.4.0)\n",
            "Requirement already satisfied: tqdm<5.0.0,>=4.38.0 in /usr/local/lib/python3.7/dist-packages (from spacy) (4.64.0)\n",
            "Requirement already satisfied: importlib-metadata>=0.20 in /usr/local/lib/python3.7/dist-packages (from catalogue<1.1.0,>=0.0.7->spacy) (4.11.3)\n",
            "Requirement already satisfied: typing-extensions>=3.6.4 in /usr/local/lib/python3.7/dist-packages (from importlib-metadata>=0.20->catalogue<1.1.0,>=0.0.7->spacy) (4.2.0)\n",
            "Requirement already satisfied: zipp>=0.5 in /usr/local/lib/python3.7/dist-packages (from importlib-metadata>=0.20->catalogue<1.1.0,>=0.0.7->spacy) (3.8.0)\n",
            "Requirement already satisfied: chardet<4,>=3.0.2 in /usr/local/lib/python3.7/dist-packages (from requests<3.0.0,>=2.13.0->spacy) (3.0.4)\n",
            "Requirement already satisfied: certifi>=2017.4.17 in /usr/local/lib/python3.7/dist-packages (from requests<3.0.0,>=2.13.0->spacy) (2021.10.8)\n",
            "Requirement already satisfied: urllib3!=1.25.0,!=1.25.1,<1.26,>=1.21.1 in /usr/local/lib/python3.7/dist-packages (from requests<3.0.0,>=2.13.0->spacy) (1.24.3)\n",
            "Requirement already satisfied: idna<3,>=2.5 in /usr/local/lib/python3.7/dist-packages (from requests<3.0.0,>=2.13.0->spacy) (2.10)\n",
            "Collecting es_core_news_sm==2.2.5\n",
            "  Downloading https://github.com/explosion/spacy-models/releases/download/es_core_news_sm-2.2.5/es_core_news_sm-2.2.5.tar.gz (16.2 MB)\n",
            "\u001b[K     |████████████████████████████████| 16.2 MB 14.3 MB/s \n",
            "\u001b[?25hRequirement already satisfied: spacy>=2.2.2 in /usr/local/lib/python3.7/dist-packages (from es_core_news_sm==2.2.5) (2.2.4)\n",
            "Requirement already satisfied: srsly<1.1.0,>=1.0.2 in /usr/local/lib/python3.7/dist-packages (from spacy>=2.2.2->es_core_news_sm==2.2.5) (1.0.5)\n",
            "Requirement already satisfied: wasabi<1.1.0,>=0.4.0 in /usr/local/lib/python3.7/dist-packages (from spacy>=2.2.2->es_core_news_sm==2.2.5) (0.9.1)\n",
            "Requirement already satisfied: requests<3.0.0,>=2.13.0 in /usr/local/lib/python3.7/dist-packages (from spacy>=2.2.2->es_core_news_sm==2.2.5) (2.23.0)\n",
            "Requirement already satisfied: thinc==7.4.0 in /usr/local/lib/python3.7/dist-packages (from spacy>=2.2.2->es_core_news_sm==2.2.5) (7.4.0)\n",
            "Requirement already satisfied: murmurhash<1.1.0,>=0.28.0 in /usr/local/lib/python3.7/dist-packages (from spacy>=2.2.2->es_core_news_sm==2.2.5) (1.0.7)\n",
            "Requirement already satisfied: tqdm<5.0.0,>=4.38.0 in /usr/local/lib/python3.7/dist-packages (from spacy>=2.2.2->es_core_news_sm==2.2.5) (4.64.0)\n",
            "Requirement already satisfied: numpy>=1.15.0 in /usr/local/lib/python3.7/dist-packages (from spacy>=2.2.2->es_core_news_sm==2.2.5) (1.21.6)\n",
            "Requirement already satisfied: catalogue<1.1.0,>=0.0.7 in /usr/local/lib/python3.7/dist-packages (from spacy>=2.2.2->es_core_news_sm==2.2.5) (1.0.0)\n",
            "Requirement already satisfied: plac<1.2.0,>=0.9.6 in /usr/local/lib/python3.7/dist-packages (from spacy>=2.2.2->es_core_news_sm==2.2.5) (1.1.3)\n",
            "Requirement already satisfied: setuptools in /usr/local/lib/python3.7/dist-packages (from spacy>=2.2.2->es_core_news_sm==2.2.5) (57.4.0)\n",
            "Requirement already satisfied: blis<0.5.0,>=0.4.0 in /usr/local/lib/python3.7/dist-packages (from spacy>=2.2.2->es_core_news_sm==2.2.5) (0.4.1)\n",
            "Requirement already satisfied: cymem<2.1.0,>=2.0.2 in /usr/local/lib/python3.7/dist-packages (from spacy>=2.2.2->es_core_news_sm==2.2.5) (2.0.6)\n",
            "Requirement already satisfied: preshed<3.1.0,>=3.0.2 in /usr/local/lib/python3.7/dist-packages (from spacy>=2.2.2->es_core_news_sm==2.2.5) (3.0.6)\n",
            "Requirement already satisfied: importlib-metadata>=0.20 in /usr/local/lib/python3.7/dist-packages (from catalogue<1.1.0,>=0.0.7->spacy>=2.2.2->es_core_news_sm==2.2.5) (4.11.3)\n",
            "Requirement already satisfied: zipp>=0.5 in /usr/local/lib/python3.7/dist-packages (from importlib-metadata>=0.20->catalogue<1.1.0,>=0.0.7->spacy>=2.2.2->es_core_news_sm==2.2.5) (3.8.0)\n",
            "Requirement already satisfied: typing-extensions>=3.6.4 in /usr/local/lib/python3.7/dist-packages (from importlib-metadata>=0.20->catalogue<1.1.0,>=0.0.7->spacy>=2.2.2->es_core_news_sm==2.2.5) (4.2.0)\n",
            "Requirement already satisfied: chardet<4,>=3.0.2 in /usr/local/lib/python3.7/dist-packages (from requests<3.0.0,>=2.13.0->spacy>=2.2.2->es_core_news_sm==2.2.5) (3.0.4)\n",
            "Requirement already satisfied: certifi>=2017.4.17 in /usr/local/lib/python3.7/dist-packages (from requests<3.0.0,>=2.13.0->spacy>=2.2.2->es_core_news_sm==2.2.5) (2021.10.8)\n",
            "Requirement already satisfied: idna<3,>=2.5 in /usr/local/lib/python3.7/dist-packages (from requests<3.0.0,>=2.13.0->spacy>=2.2.2->es_core_news_sm==2.2.5) (2.10)\n",
            "Requirement already satisfied: urllib3!=1.25.0,!=1.25.1,<1.26,>=1.21.1 in /usr/local/lib/python3.7/dist-packages (from requests<3.0.0,>=2.13.0->spacy>=2.2.2->es_core_news_sm==2.2.5) (1.24.3)\n",
            "Building wheels for collected packages: es-core-news-sm\n",
            "  Building wheel for es-core-news-sm (setup.py) ... \u001b[?25l\u001b[?25hdone\n",
            "  Created wheel for es-core-news-sm: filename=es_core_news_sm-2.2.5-py3-none-any.whl size=16172933 sha256=aba97ef123dce8aae20a82973bff04f1c5671ac59dff6be18d95d3e21ccdee4d\n",
            "  Stored in directory: /tmp/pip-ephem-wheel-cache-koqv53_c/wheels/21/8d/a9/6c1a2809c55dd22cd9644ae503a52ba6206b04aa57ba83a3d8\n",
            "Successfully built es-core-news-sm\n",
            "Installing collected packages: es-core-news-sm\n",
            "Successfully installed es-core-news-sm-2.2.5\n",
            "\u001b[38;5;2m✔ Download and installation successful\u001b[0m\n",
            "You can now load the model via spacy.load('es_core_news_sm')\n"
          ]
        }
      ]
    },
    {
      "cell_type": "markdown",
      "metadata": {
        "id": "aNiPnKMIDqVA"
      },
      "source": [
        "Importamos las librerías y creamos el objeto \"nlp\" para procesar los textos\n",
        "\n",
        "\n"
      ]
    },
    {
      "cell_type": "code",
      "metadata": {
        "id": "FQLM1Ja1Wtak"
      },
      "source": [
        "import spacy\n",
        "import es_core_news_sm\n",
        "nlp = es_core_news_sm.load()"
      ],
      "execution_count": 24,
      "outputs": []
    },
    {
      "cell_type": "markdown",
      "metadata": {
        "id": "2YKq_qpdDxHA"
      },
      "source": [
        "Guardamos las stop words de Spacy en una variable llamada \"stop_words\". También cogemos los tokens considerados símbolos de punctuación en la variable \"punctuations\":"
      ]
    },
    {
      "cell_type": "code",
      "metadata": {
        "id": "x_Rnj35hXCH_"
      },
      "source": [
        "import string\n",
        "spacy_stopwords = spacy.lang.es.stop_words.STOP_WORDS\n",
        "stop_words = spacy_stopwords\n",
        "punctuations=string.punctuation"
      ],
      "execution_count": 25,
      "outputs": []
    },
    {
      "cell_type": "markdown",
      "metadata": {
        "id": "0NFUlkdsEBUu"
      },
      "source": [
        "Generamos una función \"spacy_tokenizer\" que:"
      ]
    },
    {
      "cell_type": "code",
      "metadata": {
        "id": "k6pGl_YBO7uZ"
      },
      "source": [
        "def spacy_tokenizer(sentence):\n",
        "    # Pasamos la frase por el objeto nlp para procesarla\n",
        "    mytokens = nlp(sentence)\n",
        "\n",
        "    # Lematizamos los tokens y los convertimos  a minusculas\n",
        "    mytokens = [ word.lemma_.lower().strip() if word.lemma_ != \"-PRON-\" else word.lower_ for word in mytokens ]\n",
        "\n",
        "    # Quitamos las stopwords y los signos de puntuacion\n",
        "    mytokens = [ word for word in mytokens if word not in stop_words and word not in punctuations ]\n",
        "\n",
        "    # devolver una lsita de tokens\n",
        "    return mytokens"
      ],
      "execution_count": 26,
      "outputs": []
    },
    {
      "cell_type": "markdown",
      "metadata": {
        "id": "zzZbGtGaD-Vt"
      },
      "source": [
        "Utilizamos esa función como tokenizador en TfidfVectorizer:\n"
      ]
    },
    {
      "cell_type": "code",
      "metadata": {
        "id": "niPHblSRO7jM",
        "colab": {
          "base_uri": "https://localhost:8080/"
        },
        "outputId": "4c6d4ff1-46e0-428f-ef45-c207b17af1eb"
      },
      "source": [
        "tfidf_vectorizer = TfidfVectorizer(norm=None, smooth_idf=False, tokenizer = spacy_tokenizer) # Re-escribimos los valores por defecto para tener el tf-idf básico\n",
        "tfidf_data = tfidf_vectorizer.fit(corpus)"
      ],
      "execution_count": 29,
      "outputs": [
        {
          "output_type": "stream",
          "name": "stderr",
          "text": [
            "/usr/local/lib/python3.7/dist-packages/sklearn/feature_extraction/text.py:517: UserWarning: The parameter 'token_pattern' will not be used since 'tokenizer' is not None'\n",
            "  \"The parameter 'token_pattern' will not be used\"\n"
          ]
        }
      ]
    },
    {
      "cell_type": "code",
      "metadata": {
        "id": "BjKhD6FJEY7G",
        "colab": {
          "base_uri": "https://localhost:8080/"
        },
        "outputId": "f3114c5d-75ac-4dd8-9e3c-1c95505607d8"
      },
      "source": [
        "print(\"\\n\\n TF-IDF VECTORIZER\")\n",
        "print(\"Obtenemos un dictionario que mapea las palabras con su posición en el vector del vocabulario\")\n",
        "print(tfidf_data.vocabulary_)\n",
        "print(\"Obtenemos el vocabulario en si mismo como una lista\")\n",
        "print(tfidf_data.get_feature_names())\n",
        "print(\"Numero de características:\")\n",
        "print(len(tfidf_data.get_feature_names()))"
      ],
      "execution_count": 32,
      "outputs": [
        {
          "output_type": "stream",
          "name": "stdout",
          "text": [
            "\n",
            "\n",
            " TF-IDF VECTORIZER\n",
            "Obtenemos un dictionario que mapea las palabras con su posición en el vector del vocabulario\n",
            "{'querer': 3, 'aguar': 0, 'cocacola': 1, 'y': 5, 'venir': 4, 'entrecot': 2}\n",
            "Obtenemos el vocabulario en si mismo como una lista\n",
            "['aguar', 'cocacola', 'entrecot', 'querer', 'venir', 'y']\n",
            "Numero de características:\n",
            "6\n"
          ]
        },
        {
          "output_type": "stream",
          "name": "stderr",
          "text": [
            "/usr/local/lib/python3.7/dist-packages/sklearn/utils/deprecation.py:87: FutureWarning: Function get_feature_names is deprecated; get_feature_names is deprecated in 1.0 and will be removed in 1.2. Please use get_feature_names_out instead.\n",
            "  warnings.warn(msg, category=FutureWarning)\n"
          ]
        }
      ]
    },
    {
      "cell_type": "markdown",
      "metadata": {
        "id": "70q1LsT6BnQ_"
      },
      "source": [
        "**Ejercicio**: \n",
        "\n",
        "Queremos transformar nuestro dataset de noticias con las siguientes especificaciones:\n",
        " - Transformar los primeros 3000 documentos \n",
        " - Se utilice idf y el valor de norm por defecto.\n",
        " - Se utilice la función de preprocesado de spacy utilizada anteriormente\n",
        " - Se consideren unigramas, bigramas, trigramas\n",
        " - Se consideren un máximo de 250 características (max_features)\n",
        " - El vectorizador no debe considerar los elementos que aparezcan en menos del 5% de documentos."
      ]
    },
    {
      "cell_type": "code",
      "metadata": {
        "id": "EdgVDoaZBmdI",
        "colab": {
          "base_uri": "https://localhost:8080/"
        },
        "outputId": "dfcba29f-4e63-4a9b-c015-5b07acffcd96"
      },
      "source": [
        "# Dataset de noticias\n",
        "!wget \"https://github.com/luisgasco/ntic_master_datos/raw/main/datasets/news_summary.csv\""
      ],
      "execution_count": 33,
      "outputs": [
        {
          "output_type": "stream",
          "name": "stdout",
          "text": [
            "--2022-05-21 10:38:28--  https://github.com/luisgasco/ntic_master_datos/raw/main/datasets/news_summary.csv\n",
            "Resolving github.com (github.com)... 140.82.121.4\n",
            "Connecting to github.com (github.com)|140.82.121.4|:443... connected.\n",
            "HTTP request sent, awaiting response... 302 Found\n",
            "Location: https://raw.githubusercontent.com/luisgasco/ntic_master_datos/main/datasets/news_summary.csv [following]\n",
            "--2022-05-21 10:38:28--  https://raw.githubusercontent.com/luisgasco/ntic_master_datos/main/datasets/news_summary.csv\n",
            "Resolving raw.githubusercontent.com (raw.githubusercontent.com)... 185.199.108.133, 185.199.109.133, 185.199.111.133, ...\n",
            "Connecting to raw.githubusercontent.com (raw.githubusercontent.com)|185.199.108.133|:443... connected.\n",
            "HTTP request sent, awaiting response... 200 OK\n",
            "Length: 11896415 (11M) [text/plain]\n",
            "Saving to: ‘news_summary.csv’\n",
            "\n",
            "news_summary.csv    100%[===================>]  11.34M  --.-KB/s    in 0.05s   \n",
            "\n",
            "2022-05-21 10:38:29 (243 MB/s) - ‘news_summary.csv’ saved [11896415/11896415]\n",
            "\n"
          ]
        }
      ]
    },
    {
      "cell_type": "code",
      "metadata": {
        "id": "e0AlbRlGCzBp"
      },
      "source": [
        "import pandas as pd\n",
        "news_summary = pd.read_csv('../content/news_summary.csv', encoding='latin-1')\n",
        "news_subset = news_summary[\"text\"].to_list()[0:3000]"
      ],
      "execution_count": 34,
      "outputs": []
    },
    {
      "cell_type": "code",
      "metadata": {
        "id": "Wa7l5c_51DpI",
        "colab": {
          "base_uri": "https://localhost:8080/"
        },
        "outputId": "21fa5766-6612-4906-fe3e-332a90840fc1"
      },
      "source": [
        "tfidf_vect = TfidfVectorizer(norm=\"l2\", use_idf=True, tokenizer=spacy_tokenizer,\n",
        "                             ngram_range=(1,3),\n",
        "                             max_features=250,\n",
        "                             min_df=0.05,\n",
        "                             lowercase=False)  #Nuestros datos ya han sido pasados a minúscula (spacy_tokenizer)\n",
        "tfidf_data = tfidf_vectorizer.fit(news_subset)"
      ],
      "execution_count": 36,
      "outputs": [
        {
          "output_type": "stream",
          "name": "stderr",
          "text": [
            "/usr/local/lib/python3.7/dist-packages/sklearn/feature_extraction/text.py:517: UserWarning: The parameter 'token_pattern' will not be used since 'tokenizer' is not None'\n",
            "  \"The parameter 'token_pattern' will not be used\"\n"
          ]
        }
      ]
    },
    {
      "cell_type": "code",
      "metadata": {
        "id": "DYkkGStl2dRk",
        "colab": {
          "base_uri": "https://localhost:8080/"
        },
        "outputId": "847e6b74-f798-42de-89b0-9ae6e5964bf8"
      },
      "source": [
        "tfidf_data.get_feature_names() #Se nos ha olvidado eliminar los números. Esto habría que modificarlo."
      ],
      "execution_count": 37,
      "outputs": [
        {
          "output_type": "stream",
          "name": "stderr",
          "text": [
            "/usr/local/lib/python3.7/dist-packages/sklearn/utils/deprecation.py:87: FutureWarning: Function get_feature_names is deprecated; get_feature_names is deprecated in 1.0 and will be removed in 1.2. Please use get_feature_names_out instead.\n",
            "  warnings.warn(msg, category=FutureWarning)\n"
          ]
        },
        {
          "output_type": "execute_result",
          "data": {
            "text/plain": [
              "['\"n',\n",
              " '\"nn',\n",
              " \"'s\",\n",
              " '(deadpool',\n",
              " '-270ºc',\n",
              " '-70',\n",
              " '..',\n",
              " '...',\n",
              " '....',\n",
              " '0',\n",
              " '0.005',\n",
              " '0.007',\n",
              " '0.27',\n",
              " '0.5',\n",
              " '0.62:1000',\n",
              " '0.9',\n",
              " '0001',\n",
              " '0002',\n",
              " '0009',\n",
              " '08',\n",
              " '1',\n",
              " '1,000',\n",
              " '1,000-crore',\n",
              " '1,000-plus',\n",
              " '1,000-run',\n",
              " '1,000-square',\n",
              " '1,005',\n",
              " '1,084',\n",
              " '1,100',\n",
              " '1,123',\n",
              " '1,171',\n",
              " '1,200',\n",
              " '1,263',\n",
              " '1,270',\n",
              " '1,300',\n",
              " '1,301',\n",
              " '1,327',\n",
              " '1,339',\n",
              " '1,400',\n",
              " '1,500',\n",
              " '1,550',\n",
              " '1,566',\n",
              " '1,600',\n",
              " '1,610',\n",
              " '1,690',\n",
              " '1,700',\n",
              " '1,732',\n",
              " '1,744',\n",
              " '1,800',\n",
              " '1,819',\n",
              " '1,844',\n",
              " '1,864',\n",
              " '1.0',\n",
              " '1.05',\n",
              " '1.1',\n",
              " '1.12',\n",
              " '1.15',\n",
              " '1.17',\n",
              " '1.2',\n",
              " '1.25',\n",
              " '1.29',\n",
              " '1.3',\n",
              " '1.3-?2',\n",
              " '1.33',\n",
              " '1.36',\n",
              " '1.4',\n",
              " '1.5',\n",
              " '1.5-foot',\n",
              " '1.5/5',\n",
              " '1.56',\n",
              " '1.6',\n",
              " '1.66',\n",
              " '1.7',\n",
              " '1.70',\n",
              " '1.77',\n",
              " '1.78',\n",
              " '1.8',\n",
              " '1.80',\n",
              " '1.93',\n",
              " '1.98',\n",
              " '1/5',\n",
              " '10',\n",
              " '10,000',\n",
              " '10,184',\n",
              " '10,300',\n",
              " '10,98,882',\n",
              " '10-crore',\n",
              " '10-km',\n",
              " '10-member',\n",
              " '10-metre',\n",
              " '10-wheeler',\n",
              " '10-year',\n",
              " '10.4',\n",
              " '10.43',\n",
              " '10.80',\n",
              " '100',\n",
              " '100,000',\n",
              " '100-billion',\n",
              " '100-bolivar',\n",
              " '100-crore',\n",
              " '100-foot',\n",
              " '100-km',\n",
              " '100-metre',\n",
              " '1000',\n",
              " '100th',\n",
              " '102',\n",
              " '103',\n",
              " '104',\n",
              " '105',\n",
              " '105-year',\n",
              " '106',\n",
              " '106.25',\n",
              " '106th',\n",
              " '108',\n",
              " '10th',\n",
              " '11',\n",
              " '11,668',\n",
              " '11,876',\n",
              " '11-storey',\n",
              " '11-year',\n",
              " '11.30',\n",
              " '11.38',\n",
              " '11.44',\n",
              " '11.58',\n",
              " '11.78',\n",
              " '110',\n",
              " '111',\n",
              " '112',\n",
              " '114',\n",
              " '115',\n",
              " '116',\n",
              " '116.09',\n",
              " '117-member',\n",
              " '118',\n",
              " '119',\n",
              " '11th',\n",
              " '12',\n",
              " '12,000',\n",
              " '12,372',\n",
              " '12,400',\n",
              " '12,500',\n",
              " '12,642',\n",
              " '12-km',\n",
              " '12-minute',\n",
              " '12-sheeter',\n",
              " '12-sided',\n",
              " '12-year',\n",
              " '12.60',\n",
              " '120',\n",
              " '120,000',\n",
              " '120-year',\n",
              " '1200',\n",
              " '121',\n",
              " '121-kilometre',\n",
              " '122',\n",
              " '123.5',\n",
              " '124',\n",
              " '125',\n",
              " '125,000',\n",
              " '125.95',\n",
              " '125th',\n",
              " '126',\n",
              " '127',\n",
              " '128',\n",
              " '129th',\n",
              " '12:25',\n",
              " '12:30',\n",
              " '12th',\n",
              " '12x6',\n",
              " '13',\n",
              " '13,000',\n",
              " '13,000-crore',\n",
              " '13,127',\n",
              " '13,200',\n",
              " '13,266',\n",
              " '13,288',\n",
              " '13-day',\n",
              " '13-hour',\n",
              " '13-man',\n",
              " '13-year',\n",
              " '13.4',\n",
              " '13.40',\n",
              " '13.41',\n",
              " '13.5',\n",
              " '13.83',\n",
              " '131',\n",
              " '132',\n",
              " '132nd',\n",
              " '135',\n",
              " '13th',\n",
              " '14',\n",
              " '14,000',\n",
              " '14,753',\n",
              " '14-day',\n",
              " '14-month',\n",
              " '14-time',\n",
              " '14-year',\n",
              " '14.5',\n",
              " '14.90',\n",
              " '140',\n",
              " '140,000',\n",
              " '142',\n",
              " '144',\n",
              " '14444',\n",
              " '145',\n",
              " '146',\n",
              " '146,000',\n",
              " '147.8',\n",
              " '14th',\n",
              " '15',\n",
              " '15,000',\n",
              " '15,651',\n",
              " '15,900-?39,100',\n",
              " '15-month',\n",
              " '15-year',\n",
              " '15.06',\n",
              " '15.4',\n",
              " '15.44',\n",
              " '150',\n",
              " '150-foot',\n",
              " '150-run',\n",
              " '150-year',\n",
              " '150ºc',\n",
              " '152',\n",
              " '154',\n",
              " '156',\n",
              " '157',\n",
              " '157-year',\n",
              " '158',\n",
              " '15th',\n",
              " '16',\n",
              " '16,000',\n",
              " '16,200',\n",
              " '16,274',\n",
              " '16-car',\n",
              " '16-coach',\n",
              " '16-day',\n",
              " '16-point',\n",
              " '16-year',\n",
              " '160',\n",
              " '161',\n",
              " '162-year',\n",
              " '1635',\n",
              " '164',\n",
              " '1648',\n",
              " '167',\n",
              " '168',\n",
              " '169',\n",
              " '16a',\n",
              " '16th',\n",
              " '16x8',\n",
              " '17',\n",
              " '17,000',\n",
              " '17,390',\n",
              " '17-year',\n",
              " '17.5',\n",
              " '17.7',\n",
              " '170',\n",
              " '171',\n",
              " '171-km',\n",
              " '171-run',\n",
              " '172-year',\n",
              " '173',\n",
              " '174',\n",
              " '174.3',\n",
              " '175',\n",
              " '178',\n",
              " '179th',\n",
              " '17th',\n",
              " '18',\n",
              " '18,000',\n",
              " '18,126',\n",
              " '18,790',\n",
              " '18-month',\n",
              " '18-time',\n",
              " '18-year',\n",
              " '18.03',\n",
              " '18.11',\n",
              " '18.2',\n",
              " '18/9',\n",
              " '180',\n",
              " '180-run',\n",
              " '1800',\n",
              " '1800s',\n",
              " '181',\n",
              " '182',\n",
              " '182-member',\n",
              " '1842',\n",
              " '185',\n",
              " '1855',\n",
              " '186',\n",
              " '1868',\n",
              " '1877',\n",
              " '1889',\n",
              " '1890',\n",
              " '1898',\n",
              " '18th',\n",
              " '19',\n",
              " '19,000',\n",
              " '19-year',\n",
              " '19.4',\n",
              " '190',\n",
              " '190-year',\n",
              " '1900s',\n",
              " '191',\n",
              " '1911',\n",
              " '1914',\n",
              " '1918',\n",
              " '192',\n",
              " '192-meter',\n",
              " '1923',\n",
              " '1927',\n",
              " '1931',\n",
              " '1932',\n",
              " '1937',\n",
              " '194',\n",
              " '1944',\n",
              " '1945',\n",
              " '1946',\n",
              " '1947',\n",
              " '1948',\n",
              " '1950',\n",
              " '1950s',\n",
              " '1951',\n",
              " '1952',\n",
              " '1953',\n",
              " '1954',\n",
              " '1957',\n",
              " '1958',\n",
              " '1959',\n",
              " '196',\n",
              " '1960',\n",
              " '1962',\n",
              " '1963',\n",
              " '1966',\n",
              " '1967',\n",
              " '1969',\n",
              " '1969-batch',\n",
              " '1970',\n",
              " '1970s',\n",
              " '1971',\n",
              " '1972',\n",
              " '1973',\n",
              " '1974',\n",
              " '1975',\n",
              " '1976',\n",
              " '1977',\n",
              " '1978',\n",
              " '1978-batch',\n",
              " '1979',\n",
              " '198',\n",
              " '1980',\n",
              " '1980s',\n",
              " '1981',\n",
              " '1981-batch',\n",
              " '1982',\n",
              " '1983',\n",
              " '1984',\n",
              " '1985',\n",
              " '1987',\n",
              " '1988',\n",
              " '1989',\n",
              " '199',\n",
              " '1990',\n",
              " '1991',\n",
              " '1992',\n",
              " '1993',\n",
              " '1994',\n",
              " '1995',\n",
              " '1995-batch',\n",
              " '1996',\n",
              " '1996.n',\n",
              " '1997',\n",
              " '1998',\n",
              " '1999',\n",
              " '19th',\n",
              " '1:1000',\n",
              " '2',\n",
              " '2,00,000',\n",
              " '2,000',\n",
              " '2,000-kilometre',\n",
              " '2,029',\n",
              " '2,069',\n",
              " '2,15,551',\n",
              " '2,199',\n",
              " '2,275',\n",
              " '2,297',\n",
              " '2,300',\n",
              " '2,406',\n",
              " '2,500',\n",
              " '2,525',\n",
              " '2,700',\n",
              " '2,800',\n",
              " '2,930',\n",
              " '2,992',\n",
              " '2-month',\n",
              " '2-week',\n",
              " '2-year',\n",
              " '2.05',\n",
              " '2.14',\n",
              " '2.25',\n",
              " '2.37',\n",
              " '2.41',\n",
              " '2.43',\n",
              " '2.46',\n",
              " '2.5',\n",
              " '2.5/5',\n",
              " '2.55',\n",
              " '2.6',\n",
              " '2.61',\n",
              " '2.66',\n",
              " '2.7',\n",
              " '2/5',\n",
              " '20',\n",
              " '20,000',\n",
              " '20,450',\n",
              " '20-year',\n",
              " '20.3',\n",
              " '200',\n",
              " '200,000',\n",
              " '200-meter',\n",
              " '200-year',\n",
              " '2000',\n",
              " '2000-year',\n",
              " '2002',\n",
              " '2003',\n",
              " '2003.n',\n",
              " '2003/04',\n",
              " '2004',\n",
              " '2005',\n",
              " '2006',\n",
              " '2007',\n",
              " '2008',\n",
              " '2009',\n",
              " '200th',\n",
              " '2010',\n",
              " '2011',\n",
              " '2012',\n",
              " '2013',\n",
              " '2014',\n",
              " '2015',\n",
              " '2015]',\n",
              " '2016',\n",
              " '2016).nn',\n",
              " '2017',\n",
              " '2018',\n",
              " '2019',\n",
              " '2020',\n",
              " '2021',\n",
              " '2022',\n",
              " '2023',\n",
              " '2024',\n",
              " '2026',\n",
              " '2030',\n",
              " '2032',\n",
              " '204.2',\n",
              " '205*(364',\n",
              " '206',\n",
              " '20s',\n",
              " '20th',\n",
              " '21',\n",
              " '21,000',\n",
              " '21,966',\n",
              " '21-gun',\n",
              " '21-month',\n",
              " '21-year',\n",
              " '210',\n",
              " '2100',\n",
              " '211',\n",
              " '212',\n",
              " '213',\n",
              " '214',\n",
              " '216',\n",
              " '217',\n",
              " '219',\n",
              " '21st',\n",
              " '22',\n",
              " '22,000',\n",
              " '22,095',\n",
              " '22-year',\n",
              " '22.50',\n",
              " '22.55',\n",
              " '22.63',\n",
              " '221',\n",
              " '225,000',\n",
              " '227',\n",
              " '22nd',\n",
              " '23',\n",
              " '23-day',\n",
              " '23-time',\n",
              " '23-year',\n",
              " '23.5-km',\n",
              " '232',\n",
              " '234',\n",
              " '235',\n",
              " '23rd',\n",
              " '24',\n",
              " '24,000',\n",
              " '24-hour',\n",
              " '24-year',\n",
              " '24/7',\n",
              " '240',\n",
              " '2400',\n",
              " '243-seat',\n",
              " '245',\n",
              " '24x7',\n",
              " '25',\n",
              " '25,000',\n",
              " '25-million',\n",
              " '25-year',\n",
              " '25.3',\n",
              " '25.4',\n",
              " '25.95',\n",
              " '250',\n",
              " '250,000',\n",
              " '250-million',\n",
              " '251',\n",
              " '258.42',\n",
              " '25th',\n",
              " '26',\n",
              " '26,000',\n",
              " '26-week',\n",
              " '26-year',\n",
              " '26.10',\n",
              " '26.42',\n",
              " '26.5',\n",
              " '26.5-km',\n",
              " '26/11',\n",
              " '260',\n",
              " '27',\n",
              " '27-lakh',\n",
              " '27-year',\n",
              " '27.8',\n",
              " '272',\n",
              " '275',\n",
              " '277',\n",
              " '279',\n",
              " '28',\n",
              " '28-year',\n",
              " '28.8',\n",
              " '28.9',\n",
              " '285',\n",
              " '288',\n",
              " '289',\n",
              " '28th',\n",
              " '29',\n",
              " '29,999',\n",
              " '29-year',\n",
              " '29.37',\n",
              " '293',\n",
              " '29th',\n",
              " '2:00',\n",
              " '2a',\n",
              " '2b',\n",
              " '3',\n",
              " '3,000',\n",
              " '3,000-',\n",
              " '3,000-year',\n",
              " '3,200',\n",
              " '3,275',\n",
              " '3,31,765',\n",
              " '3,433',\n",
              " '3,500',\n",
              " '3,540-km',\n",
              " '3,600',\n",
              " '3,640',\n",
              " '3,67,314',\n",
              " '3,700',\n",
              " '3,800',\n",
              " '3,820',\n",
              " '3,865',\n",
              " '3,900',\n",
              " '3,905',\n",
              " '3,951',\n",
              " '3-fold',\n",
              " '3-year',\n",
              " '3.09',\n",
              " '3.26',\n",
              " '3.27',\n",
              " '3.3',\n",
              " '3.4',\n",
              " '3.43',\n",
              " '3.44',\n",
              " '3.5',\n",
              " '3.5/5',\n",
              " '3.54',\n",
              " '3.6',\n",
              " '3.7',\n",
              " '3.75',\n",
              " '3.8',\n",
              " '3.84',\n",
              " '3/5',\n",
              " '30',\n",
              " '30,000',\n",
              " '30,500',\n",
              " '30-minute',\n",
              " '30-year',\n",
              " '30.17',\n",
              " '30.25',\n",
              " '300',\n",
              " '300,000',\n",
              " '302*(469',\n",
              " '303',\n",
              " '304',\n",
              " '307',\n",
              " '30s',\n",
              " '31',\n",
              " '31,258',\n",
              " '31-year',\n",
              " '31.51',\n",
              " '31.54',\n",
              " '316-run',\n",
              " '31st',\n",
              " '32',\n",
              " '32,500',\n",
              " '32,627',\n",
              " '32,999',\n",
              " '32-competitor',\n",
              " '32-feet',\n",
              " '32-team',\n",
              " '32-title',\n",
              " '32-week',\n",
              " '32-year',\n",
              " '32.50',\n",
              " '324',\n",
              " '325',\n",
              " '326',\n",
              " '329',\n",
              " '33',\n",
              " '33-year',\n",
              " '331',\n",
              " '335',\n",
              " '34',\n",
              " '34,000',\n",
              " '34-year',\n",
              " '340',\n",
              " '340.8',\n",
              " '341.96',\n",
              " '341/400',\n",
              " '342',\n",
              " '34th',\n",
              " '35',\n",
              " '35(a',\n",
              " '35,000',\n",
              " '35-a',\n",
              " '35-year',\n",
              " '350',\n",
              " '354',\n",
              " '359',\n",
              " '35th',\n",
              " '36',\n",
              " '36,000',\n",
              " '36-year',\n",
              " '360',\n",
              " '360-degree',\n",
              " '360-feet',\n",
              " '365',\n",
              " '37',\n",
              " '37-ball',\n",
              " '37-year',\n",
              " '37.5-kilowatt',\n",
              " '371-kg',\n",
              " '377',\n",
              " '37th',\n",
              " '38',\n",
              " '38,000',\n",
              " '38,761',\n",
              " '38-year',\n",
              " '387',\n",
              " '39',\n",
              " '39-year',\n",
              " '393',\n",
              " '399/3',\n",
              " '3:30',\n",
              " '4',\n",
              " '4,000',\n",
              " '4,005',\n",
              " '4,050',\n",
              " '4,060',\n",
              " '4,120',\n",
              " '4,200-year',\n",
              " '4,500',\n",
              " '4,600',\n",
              " '4,843',\n",
              " '4-year',\n",
              " '4.22',\n",
              " '4.29',\n",
              " '4.49',\n",
              " '4.5',\n",
              " '4.5/5',\n",
              " '4.6',\n",
              " '4.63',\n",
              " '4.7',\n",
              " '4.93',\n",
              " '4.94',\n",
              " '4/5',\n",
              " '40',\n",
              " '40,000',\n",
              " '40,000-litre',\n",
              " '40,759',\n",
              " '40,917',\n",
              " '40-member',\n",
              " '40-year',\n",
              " '400',\n",
              " '400,000-a',\n",
              " '400-acre',\n",
              " '403-member',\n",
              " '403.75',\n",
              " '406',\n",
              " '40th',\n",
              " '41',\n",
              " '41-year',\n",
              " '419',\n",
              " '41st',\n",
              " '42',\n",
              " '42,000',\n",
              " '42,000-square',\n",
              " '42,968',\n",
              " '42-year',\n",
              " '420',\n",
              " '423',\n",
              " '426',\n",
              " '42nd',\n",
              " '43',\n",
              " '43,000',\n",
              " '43-year',\n",
              " '433',\n",
              " '436',\n",
              " '439',\n",
              " '44',\n",
              " '44,000',\n",
              " '44,152',\n",
              " '44-year',\n",
              " '44.18',\n",
              " '440',\n",
              " '449',\n",
              " '45',\n",
              " '45,000',\n",
              " '45-day',\n",
              " '45-year',\n",
              " '45.15',\n",
              " '450',\n",
              " '450-foot',\n",
              " '45th',\n",
              " '46',\n",
              " '46-athlete',\n",
              " '460',\n",
              " '47',\n",
              " '47-year',\n",
              " '475',\n",
              " '48',\n",
              " '48-team',\n",
              " '48-year',\n",
              " '48th',\n",
              " '49',\n",
              " '49,999',\n",
              " '49.25',\n",
              " '49.5',\n",
              " '495',\n",
              " '4th',\n",
              " '4x100',\n",
              " '4x100-metre',\n",
              " '4ºc',\n",
              " '5',\n",
              " '5,000',\n",
              " '5,300',\n",
              " '5,400',\n",
              " '5,500',\n",
              " '5,600',\n",
              " '5-week',\n",
              " '5-year',\n",
              " '5.2',\n",
              " '5.4',\n",
              " '5.4-carat',\n",
              " '5.5',\n",
              " '5.6',\n",
              " '5.81',\n",
              " '5/5',\n",
              " '50',\n",
              " '50%-60',\n",
              " '50,000',\n",
              " '50-crore',\n",
              " '50-day',\n",
              " '50-lakh',\n",
              " '50-metre',\n",
              " '50-million',\n",
              " '50-over',\n",
              " '50-year',\n",
              " '500',\n",
              " '500,000',\n",
              " '500-crore',\n",
              " '500-mark',\n",
              " '50:50',\n",
              " '50th',\n",
              " '51',\n",
              " '51-year',\n",
              " '519',\n",
              " '52',\n",
              " '52,000-crore',\n",
              " '52-year',\n",
              " '523',\n",
              " '53',\n",
              " '53,500',\n",
              " '53-year',\n",
              " '534',\n",
              " '538-metre',\n",
              " '54',\n",
              " '54,000',\n",
              " '54,482',\n",
              " '54-second',\n",
              " '540',\n",
              " '546',\n",
              " '55',\n",
              " '55,000',\n",
              " '55-year',\n",
              " '55.5',\n",
              " '550',\n",
              " '552',\n",
              " '559',\n",
              " '55th',\n",
              " '56',\n",
              " '56,000',\n",
              " '56-year',\n",
              " '56.5',\n",
              " '57',\n",
              " '57-year',\n",
              " '572',\n",
              " '58',\n",
              " '58,030',\n",
              " '59',\n",
              " '59-year',\n",
              " '597',\n",
              " '5th',\n",
              " '6',\n",
              " '6(3',\n",
              " '6,000',\n",
              " '6,117',\n",
              " '6,178',\n",
              " '6,400',\n",
              " '6,494',\n",
              " '6,500-word',\n",
              " '6-hour',\n",
              " '6-year',\n",
              " '6.17',\n",
              " '6.24',\n",
              " '6.4',\n",
              " '6.4-inch',\n",
              " '6.5',\n",
              " '6.76',\n",
              " '6.8',\n",
              " '60',\n",
              " '60,000',\n",
              " '60-day',\n",
              " '60-kg',\n",
              " '60-member',\n",
              " '60-year',\n",
              " '600',\n",
              " '600-year',\n",
              " '61',\n",
              " '61,000',\n",
              " '6178',\n",
              " '62',\n",
              " '62.1',\n",
              " '62.5',\n",
              " '620,000-scam',\n",
              " '624',\n",
              " '629',\n",
              " '63',\n",
              " '63-year',\n",
              " '63.7',\n",
              " '635',\n",
              " '636',\n",
              " '64',\n",
              " '64-pound',\n",
              " '64-year',\n",
              " '649',\n",
              " '65',\n",
              " '65,000',\n",
              " '65-year',\n",
              " '65.42',\n",
              " '652',\n",
              " '66,685',\n",
              " '66-year',\n",
              " '66.5',\n",
              " '66th',\n",
              " '67,000',\n",
              " '67,350',\n",
              " '67-year',\n",
              " '676',\n",
              " '68',\n",
              " '68-years',\n",
              " '680',\n",
              " '683',\n",
              " '685',\n",
              " '68th',\n",
              " '69',\n",
              " '69th',\n",
              " '7',\n",
              " '7(5',\n",
              " '7,000',\n",
              " '7,02,044',\n",
              " '7,400',\n",
              " '7,500',\n",
              " '7-cm',\n",
              " '7-year',\n",
              " '7.03',\n",
              " '7.14',\n",
              " '7.2',\n",
              " '7.3',\n",
              " '7.5',\n",
              " '7.6',\n",
              " '7.7',\n",
              " '7.8',\n",
              " '7.87',\n",
              " '70',\n",
              " '70,000',\n",
              " '70-member',\n",
              " '700',\n",
              " '700,000',\n",
              " '706',\n",
              " '70th',\n",
              " '71',\n",
              " '71,941',\n",
              " '71-year',\n",
              " '72',\n",
              " '72,000',\n",
              " '72nd',\n",
              " '73',\n",
              " '73-year',\n",
              " '735',\n",
              " '74',\n",
              " '740',\n",
              " '747',\n",
              " '74th',\n",
              " '75',\n",
              " '75,000',\n",
              " '75-day',\n",
              " '75-year',\n",
              " '76',\n",
              " '76,000',\n",
              " '76th',\n",
              " '77',\n",
              " '77,083',\n",
              " '77-minute',\n",
              " '77.3',\n",
              " '776',\n",
              " '78',\n",
              " '78-year',\n",
              " '78th',\n",
              " '79',\n",
              " '791',\n",
              " '795.5',\n",
              " '8',\n",
              " '8,000-crore',\n",
              " '8,200',\n",
              " '8,500',\n",
              " '8,591',\n",
              " '8,99,388',\n",
              " '8-year',\n",
              " '8.14',\n",
              " '8.18',\n",
              " '8.29',\n",
              " '8.3',\n",
              " '8.30',\n",
              " '8.5',\n",
              " '8.8',\n",
              " '80',\n",
              " '80,000',\n",
              " '80-?120',\n",
              " '80-over',\n",
              " '800',\n",
              " '800,000',\n",
              " '800-metre',\n",
              " '802',\n",
              " '81',\n",
              " '81-run',\n",
              " '812',\n",
              " '81st',\n",
              " '82',\n",
              " '82,242',\n",
              " '82,422',\n",
              " '82-foot',\n",
              " '83',\n",
              " '835',\n",
              " '837',\n",
              " '84',\n",
              " '84-year',\n",
              " '85',\n",
              " '85,000',\n",
              " '85-year',\n",
              " '85.67',\n",
              " '850',\n",
              " '854',\n",
              " '86',\n",
              " '86-year',\n",
              " '866',\n",
              " '87,000',\n",
              " '871',\n",
              " '88',\n",
              " '89',\n",
              " ...]"
            ]
          },
          "metadata": {},
          "execution_count": 37
        }
      ]
    },
    {
      "cell_type": "markdown",
      "source": [
        "### Diferencias entre BoW y TF-IDF\n"
      ],
      "metadata": {
        "id": "WCrHf9PfL4rE"
      }
    },
    {
      "cell_type": "markdown",
      "source": [
        "Hasta el momento hemos visto diferente maneras de realizar la representación de documentos utilizando el método BoW y TF-IDF. \n",
        "Sin embargo, ¿Qué implica realmente utilizar un método u otro? \n",
        "\n",
        "La clave de TF-IDF es su penalización de palabras comunes en todos los documentos. Para ver su efecto, en este apartado vamos a:\n",
        "1. Descargar un conjunto de documentos de wikipedia\n",
        "2. Preprocesarlos\n",
        "3. Mostrar los 10 términos más importantes para BoW y Tf-IDF, y ver las diferencias"
      ],
      "metadata": {
        "id": "FOE0JENtaEAc"
      }
    },
    {
      "cell_type": "markdown",
      "source": [
        "En primer lugar importanmos y descargamos las librerías que utilizaremos\n"
      ],
      "metadata": {
        "id": "hsmWpxPhbxuI"
      }
    },
    {
      "cell_type": "code",
      "source": [
        "!pip install wikipedia\n",
        "import wikipedia\n",
        "import spacy\n",
        "import collections\n",
        "import math\n",
        "from sklearn.feature_extraction.text import CountVectorizer,TfidfVectorizer\n",
        "from sklearn.feature_extraction import text\n",
        "import string\n",
        "import numpy as np\n",
        "import re\n",
        "\n",
        "nlp = spacy.load('en')\n",
        "spacy_stopwords = spacy.lang.en.stop_words.STOP_WORDS\n",
        "stop_words = spacy_stopwords\n",
        "punctuations=string.punctuation\n",
        "RE_WHITESPACE = re.compile(r\"\\s+\")\n"
      ],
      "metadata": {
        "id": "Mr63VVHsMZCw",
        "colab": {
          "base_uri": "https://localhost:8080/"
        },
        "outputId": "093f96ae-fad8-4c6e-a419-83c10c5b5564"
      },
      "execution_count": 38,
      "outputs": [
        {
          "output_type": "stream",
          "name": "stdout",
          "text": [
            "Collecting wikipedia\n",
            "  Downloading wikipedia-1.4.0.tar.gz (27 kB)\n",
            "Requirement already satisfied: beautifulsoup4 in /usr/local/lib/python3.7/dist-packages (from wikipedia) (4.6.3)\n",
            "Requirement already satisfied: requests<3.0.0,>=2.0.0 in /usr/local/lib/python3.7/dist-packages (from wikipedia) (2.23.0)\n",
            "Requirement already satisfied: idna<3,>=2.5 in /usr/local/lib/python3.7/dist-packages (from requests<3.0.0,>=2.0.0->wikipedia) (2.10)\n",
            "Requirement already satisfied: urllib3!=1.25.0,!=1.25.1,<1.26,>=1.21.1 in /usr/local/lib/python3.7/dist-packages (from requests<3.0.0,>=2.0.0->wikipedia) (1.24.3)\n",
            "Requirement already satisfied: chardet<4,>=3.0.2 in /usr/local/lib/python3.7/dist-packages (from requests<3.0.0,>=2.0.0->wikipedia) (3.0.4)\n",
            "Requirement already satisfied: certifi>=2017.4.17 in /usr/local/lib/python3.7/dist-packages (from requests<3.0.0,>=2.0.0->wikipedia) (2021.10.8)\n",
            "Building wheels for collected packages: wikipedia\n",
            "  Building wheel for wikipedia (setup.py) ... \u001b[?25l\u001b[?25hdone\n",
            "  Created wheel for wikipedia: filename=wikipedia-1.4.0-py3-none-any.whl size=11695 sha256=c815a36e499d3cf55a8d1ede560d8ac29c0f694cc005587eea4c3bb6044a809f\n",
            "  Stored in directory: /root/.cache/pip/wheels/15/93/6d/5b2c68b8a64c7a7a04947b4ed6d89fb557dcc6bc27d1d7f3ba\n",
            "Successfully built wikipedia\n",
            "Installing collected packages: wikipedia\n",
            "Successfully installed wikipedia-1.4.0\n"
          ]
        }
      ]
    },
    {
      "cell_type": "markdown",
      "source": [
        "Definimos una función de procesado similar a la anteriormente definida. En este caso eliminarmos los números (no los sustitumos por un caracter vacío). Además, eliminamos posibles espacios extras despues del proceso de tokenización"
      ],
      "metadata": {
        "id": "HhaSP7W9cC0m"
      }
    },
    {
      "cell_type": "code",
      "source": [
        "def spacy_tokenizer(sentence):\n",
        "    # Pasamos la frase por el objeto nlp para procesarla\n",
        "    mytokens = nlp(sentence)\n",
        "\n",
        "    mytokens = [ word.text.lower()   if word.pos_ == 'PRON' or word.lemma_ == '-PRON-' else word.lemma_.lower() for word in mytokens]\n",
        "  \n",
        "    # Quitamos las stopwords y los signos de puntuacion\n",
        "    mytokens = [ word for word in mytokens if word not in stop_words and word not in punctuations ]\n",
        "\n",
        "    # Quitamos números:\n",
        "    mytokens = [word  for word in mytokens if not word.isdigit()]\n",
        "    # Remove extra spaces\n",
        "    mytokens = [token.strip() for token in mytokens]\n",
        "    # devolver una lsita de tokens\n",
        "    return mytokens\n"
      ],
      "metadata": {
        "id": "FctYfGP7MA99"
      },
      "execution_count": 39,
      "outputs": []
    },
    {
      "cell_type": "markdown",
      "source": [
        "Vamos a descargar el texto de descripción de varios guitarristas históricos. Para ello definiremos una lista de strings con sus nombres y los obtendremos utilizando la función \"page\" de la librería wikipedia. \n"
      ],
      "metadata": {
        "id": "9MJ44YYJcKb7"
      }
    },
    {
      "cell_type": "code",
      "source": [
        "pages =  [\n",
        "  \"Brian May\",\"jimmy page\",\"eddie van halen\",\"david gilmour\",\n",
        "  \"Jeff Beck\",\"mark knopfler\",\"Billy Gibbons\",\"Carlos Santana\", \n",
        "  \"Stevie Ray Vaughan\",\"BB king\",\"Buddy Guy\",\"Albert King\",\"Rory Gallagher\",\n",
        "  \"Joe Satriani\", \"jimi hendrix\",\"George Harrison\"\n",
        "    ]\n",
        "documentes = [RE_WHITESPACE.sub(\" \",wikipedia.page(page, auto_suggest=False).content).strip() for page in pages]"
      ],
      "metadata": {
        "id": "Zv4V4SbkaLfu"
      },
      "execution_count": 40,
      "outputs": []
    },
    {
      "cell_type": "code",
      "source": [
        "documentes[0]"
      ],
      "metadata": {
        "colab": {
          "base_uri": "https://localhost:8080/",
          "height": 123
        },
        "id": "5ewim5WAPunn",
        "outputId": "675f29f2-9f03-4898-860e-bfffde8b420c"
      },
      "execution_count": 41,
      "outputs": [
        {
          "output_type": "execute_result",
          "data": {
            "text/plain": [
              "'Brian Harold May (born 19 July 1947) is an English musician, singer, songwriter, and astrophysicist who achieved fame as lead guitarist of the rock band Queen. May was a co-founder of Queen with lead singer Freddie Mercury and drummer Roger Taylor. His songwriting contributions helped Queen become one of the most successful bands in rock history. May previously performed with Taylor in the band Smile, which he had joined while he was at university. After Queen\\'s formation in 1970, bass player John Deacon joined to complete the line-up in 1971. They became one of the biggest rock bands in the world with the success of the album A Night at the Opera and its single \"Bohemian Rhapsody\". From the mid-1970s until the early 1990s, Queen played at some of the biggest venues in the world, including at Live Aid in 1985. As a member of Queen, May became regarded as a virtuoso musician. He was identified with a distinctive sound created through his layered guitar work, often using a home-built electric guitar called the Red Special. May wrote numerous hits for Queen, including \"We Will Rock You\", \"I Want It All\", \"Fat Bottomed Girls\", \"Flash\", \"Hammer to Fall\", \"Save Me\", \"Who Wants to Live Forever\", \"Too Much Love Will Kill You\", and \"The Show Must Go On\". Following the death of Mercury in 1991, aside from the 1992 tribute concert, the release of Made in Heaven (1995) and the 1997 tribute single to Mercury, \"No-One but You (Only the Good Die Young)\" (written by May), Queen were put on hiatus for several years but were eventually reconvened by May and Taylor for further performances featuring other vocalists. In 2005, a Planet Rock poll saw May voted the seventh-greatest guitarist of all time. He was ranked at No. 26 on Rolling Stone\\'s list of the \"100 Greatest Guitarists of All Time\". In 2012, he was ranked the second-greatest guitarist in a Guitar World magazine readers poll. In 2001, May was inducted into the Rock and Roll Hall of Fame as a member of Queen and in 2018 the band received the Grammy Lifetime Achievement Award.May was appointed a CBE by Queen Elizabeth II in 2005 for \"services to the music industry and for charity work\". May earned a PhD degree in astrophysics from Imperial College London in 2007, and was Chancellor of Liverpool John Moores University from 2008 to 2013. He was a \"science team collaborator\" with NASA\\'s New Horizons Pluto mission. He is also a co-founder of the awareness campaign Asteroid Day. Asteroid 52665 Brianmay was named after him. May is also an animal rights activist, campaigning against the hunting of foxes and the culling of badgers in the UK. == Early life == May was born 19 July 1947 in a nursing home at Hampton Hill, near Twickenham, Middlesex, the only child of Ruth Irving (née Fletcher) and Harold May, who worked as a draughtsman at the Ministry of Aviation. His mother who was Scottish, married his father who was English at Moulin in Perthshire, Scotland in 1946. May attended the local Hanworth Road state primary school, and at the age of 11 won a scholarship to Hampton Grammar School, then a voluntary aided school. During this time, he formed his first band, named 1984 after George Orwell\\'s novel of the same name, with vocalist and bassist Tim Staffell.At Hampton Grammar School, he attained ten GCE Ordinary Levels and three GCE Advanced Levels in Physics, Mathematics, and Applied Mathematics. He studied Mathematics and Physics at Imperial College London, graduating with a BSc degree in Physics in 1968 with honours. Following his graduation, May received a personal invitation from Sir Bernard Lovell to work at the Jodrell Bank Observatory while continuing to prepare his doctorate. He declined, choosing instead to remain at Imperial College to avoid breaking from Smile, the London-based band he was in at the time.In 2007, May was awarded a PhD degree in astrophysics from Imperial College London for work started in 1971 and completed in 2007. == Musical career == === 1968–1970: Smile === May formed the band Smile in 1968. The group included Tim Staffell as the lead singer and bassist, and later, drummer Roger Taylor, who also went on to play for Queen. The band lasted for only two years, from 1968 to 1970, as Staffell departed in 1970, leaving the band with a catalogue of nine songs. Smile would reunite for several songs on 22 December 1992. Taylor\\'s band The Cross were headliners, and he brought May and Staffell on to play \"Earth\" and \"If I Were a Carpenter\". May also performed several other songs that night. === 1970–1995: Queen === In Queen\\'s three-part vocal harmonies, May was generally the lower-range backing vocalist. On some of his songs, he sings the lead vocals, most notably the first verse of \"Who Wants to Live Forever\", the final verse of \"Mother Love\", the middle eight on \"I Want It All\" and \"Flash\\'s Theme\", and full lead vocals on \"Some Day One Day\", \"She Makes Me (Stormtrooper in Stilettoes)\", \"\\'39\", \"Good Company\", \"Long Away\", \"All Dead, All Dead\", \"Sleeping on the Sidewalk\" and \"Leaving Home Ain\\'t Easy\".May frequently wrote songs for the band and has composed many hits such as \"We Will Rock You\", \"Tie Your Mother Down\", \"I Want It All\", \"Fat Bottomed Girls\", \"Who Wants to Live Forever\" and \"The Show Must Go On\" as well as \"Hammer to Fall\", \"Flash\", \"Now I\\'m Here\", \"Brighton Rock\", \"The Prophet\\'s Song\", \"Las Palabras de Amor\", \"No-One but You (Only the Good Die Young)\" and \"Save Me\". After the Live Aid concert in 1985, Mercury rang his band members and proposed writing a song together. The result was \"One Vision\", which was basically May on music (the Magic Years documentary shows how he came up with the opening section and the basic guitar riff); the lyrics were co-written by the four band members.For their 1989 release album, The Miracle, the band had decided that all of the tracks would be credited to the entire band, no matter who had been the main writer. Interviews and musical analyses tend to help identify the input of each member on each track. May composed \"I Want It All\" for that album, as well as \"Scandal\" (based on his problems with the British press). For the rest of the album, he did not contribute much creatively. However, he helped in building the basis of \"Party\" and \"Was It All Worth It\" (both being predominantly Mercury\\'s pieces) and created the \"Chinese Torture\" guitar riff.Queen\\'s subsequent album was Innuendo. May\\'s contributions increased, although more in terms of arranging than actual writing in most cases. He did some of the arrangement for the heavy solo on the title track. He added vocal harmonies to \"I\\'m Going Slightly Mad\" and composed the solo for \"These Are the Days of Our Lives\", a song for which the four of them decided the keyboard parts together.Two songs May had composed for his first solo album, \"Headlong\" and \"I Can\\'t Live With You\", eventually ended up on the Queen project. His other composition was \"The Show Must Go On\", which he coordinated and was the primary composer. In recent years, he has supervised the remastering of Queen albums and various DVD and greatest hits releases. In 2004, he announced that he and drummer Roger Taylor were going on tour for the first time in 18 years as \"Queen\", along with Free/Bad Company vocalist Paul Rodgers. Billed as \"Queen + Paul Rodgers\", the band played throughout 2005 and 2006 in South Africa, Europe, Aruba, Japan, and North America and released a new album with Rodgers in 2008, entitled The Cosmos Rocks. This album was supported by a major tour.Paul Rodgers left the band in May 2009. It was not until 2011 that another vocalist, Adam Lambert, was recruited. Queen + Adam Lambert toured Europe in 2012 and toured the world tour over 2014 and 2015. Their most recent outing was the 2016 Festival Tour. They also played the Big Ben New Year concert on New Year\\'s Eve 2014 and New Year\\'s Day 2015. === 1983–1999: Side projects and solo works === During 1983, several members of Queen explored side projects. On 21 and 22 April in Los Angeles, May was in a studio with Eddie Van Halen, with no intention of recording anything. The result of the two-day session was a mini album titled Star Fleet Project, which was not originally going to be released. In 1986, May contributed to former Genesis guitarist Steve Hackett\\'s album Feedback 86, playing guitar on the track \"Cassandra\" and providing guitar and vocals for \"Slot Machine\", which May co-wrote. Although produced in 1986, the album was not released commercially until 2000. In the same year, May worked with actress Anita Dobson on her first album, most noted for the song \"Anyone Can Fall in Love\", which added lyrics to the EastEnders theme tune and reached number four on the UK Singles Chart in August 1986. May and Dobson married in 2000. In 1988, May contributed guitar solos to the song \"When Death Calls\" on Black Sabbath\\'s 14th album Headless Cross, and the Living in a Box track \"Blow The House Down\" on the album Gatecrashing. Both albums were released in 1989. In the aftermath of the November 1991 death of Mercury, May chose to deal with his grief by committing himself as fully as possible to work, first by finishing his solo album, Back to the Light, and then touring worldwide to promote it. He frequently remarked in press interviews that this was the only form of self-prescribed therapy he could think of. According to Def Leppard lead singer Joe Elliott, \"It was undoubtedly an enormous and terrible blow to lose someone he was so close to. Personally, I know it ripped the heart out of Brian, but having said that, he was in great spirits after the album was finished.\" Back to the Light featured the single \"Too Much Love Will Kill You\", on which he collaborated as a songwriter with Frank Musker and Elizabeth Lamers. A version with Freddie Mercury\\'s vocals was later released on the Queen album Made in Heaven and won the Ivor Novello Award for Best Song Musically & Lyrically in 1996.In late 1992, the Brian May Band was officially formed. May had loosely formed an earlier version of the band for 19 October 1991, when May took part in the Guitar Legends guitar festival in Seville, Spain. The line-up for his performance was May on vocals and lead guitar, Cozy Powell on drums and percussion, Mike Moran and Rick Wakeman on keyboards, and Maggie Ryder, Miriam Stockley and Chris Thompson on backing vocals. The original line-up was May on vocals and lead guitar, Powell on drums and percussion, Michael Casswell on guitar, Neil Murray on bass, and Ryder, Stockley and Thompson on backing vocals. This version of the band was together only during the South American support tour (supporting The B-52\\'s and Joe Cocker) on five dates.Afterwards, May made significant changes, feeling the group never quite gelled. May brought guitarist Jamie Moses on board to replace Mike Caswell. The backing vocalists, Ryder, Stockley and Thompson, were replaced by Catherine Porter and Shelley Preston. On 23 February 1993, this new line-up of The Brian May Band began its world tour in the US, supporting Guns N\\' Roses and headlining a few dates. The tour included dates in North America, Europe (support act: Valentine) and Japan. On 15 June 1993, the band did a show in London that would end up as The Brian May Band\\'s only release as a collective, namely Live at the Brixton Academy. At the show, May would sing a few lines of \"Love of My Life\", and then, as Mercury used to, let the audience join in. After the tour ended on 18 December 1993, May returned to the studio with fellow surviving Queen band members Roger Taylor and John Deacon to work on tracks that became Made in Heaven, the final Queen studio album. The band took Mercury\\'s solo album demos and last recordings, which he managed to perform in the studio after the album Innuendo was finished, and completed them with their additions both musically and vocally. After Mercury\\'s death, work on the album by Deacon and May began originally in 1992 but was left until a later date due to other commitments.In 1995, May began working on a new solo album of covers tentatively titled Heroes, in addition to working on various film and television projects and other collaborations. May subsequently changed the approach from covers to focus on those collaborations and new material. The songs included Another World, and featured mainly Spike Edney, Cozy Powell, Neil Murray and Jamie Moses. On 5 April 1998, Cozy Powell was killed in a car accident on the M4 motorway near Bristol, England. This incident caused an unexpected disruption to the upcoming tour for The Brian May Band, which now needed a new drummer on short notice. Steve Ferrone was brought on to help May finish recording the drum tracks and join the band for the early stage promotional tour of five dates in Europe before the world tour. Following the early promotional tour, Eric Singer replaced him on the 1998 world tour. The 1998 tour saw the brief introduction of a \\'support act\\' known as T. E. Conway. Conway (Brian May in a wig and colourful suit playing the part of a teddy boy crooner) would play several 1950s rock and roll standards before May\\'s \\'arrival\\'. A bonus T. E. Conway EP entitled Retro Rock Special was attached to some pressings of the Another World album. The Conway character was retired at the end of the tour. In May 1999, May recorded lead guitars for the Guns N\\' Roses song \"Catcher in the Rye\" on Chinese Democracy, however, his performance was removed from the album by the time it was released in 2008. === 2000–2010 === From his last solo release in 1998, May has been performing as a solo artist, as part of an ensemble, and infrequently as Queen with Roger Taylor. On 22 October 2000, he made a guest appearance at the Motörhead 25th Anniversary show at Brixton Academy along with Eddie Clarke (former Motörhead guitarist) for the encore song \"Overkill\". As part of the Golden Jubilee of Elizabeth II celebrations on 3 June 2002, May performed a guitar solo of \"God Save the Queen\" from the roof of Buckingham Palace, with the performance appearing on the 30th Anniversary DVD edition of A Night at the Opera. May played guitar on the song \"Someone to Die For\" on the Spider-Man 2 soundtrack in 2004.On the Queen\\'s birthday honours list of 2005, he was made a Commander of the Most Excellent Order of the British Empire \"for services to the music industry and for charity work\". In the same year he played the guitar on the song Il mare... for Italian singer Zucchero Fornaciari, on his album Zu & Co., and he took part in the concert at the Royal Albert Hall in London held in May 2004, with the other guests of the Italian bluesman. May was a celebrity guest at the Genesis reunion concert at Twickenham Stadium in 2007. May and Genesis frontman Phil Collins worked together on two previous occasions, at The Prince\\'s Trust Rock Gala in 1988 and the Party at the Palace in 2002, when Collins had played drums with Queen. In 2011 he contributed to a feature about Collins for FHM, praising him as \"a great guy and an amazing drummer\". May worked extensively with stage actress and singer Kerry Ellis after he cast her in the musical We Will Rock You. He produced and arranged her debut studio album Anthems (2010), a follow-up to her extended play Wicked in Rock (2008), as well as appearing with Ellis at many public performances—playing guitar alongside her. He also contributed a guitar solo to Meat Loaf\\'s Hang Cool, Teddy Bear album in exchange for the use of drummer John Miceli. Along with Elena Vidal, May released a historical book in 2009 entitled A Village Lost and Found: Scenes in Our Village. The book is an annotated collection of stereoscopic photographs taken by the Victorian era photographer T. R. Williams. It included a focusing stereoscope. May became an enthusiast of stereoscope photographs as a child, and first encountered the work of Williams during the late 1960s. In 2003, May announced a search to identify the actual location of the Scenes in Our Village images. In 2004 May reported that he had identified the location as the village of Hinton Waldrist in Oxfordshire.On 20 May 2009, May and Queen bandmate Roger Taylor performed \"We Are the Champions\" live on the season finale of American Idol with winner Kris Allen and runner-up Adam Lambert providing a vocal duet. In November 2009, May appeared with Taylor on The X Factor, with Queen mentoring the contestants, then later performed \"Bohemian Rhapsody\". In April 2010, May founded the \"Save Me\" 2010 project to work against any proposed repeal of the British fox-hunting ban, and to promote animal rights in Britain. In February 2011, it was announced that May would tour with Kerry Ellis, playing 12 dates across the UK in May 2011. === 2004–2009: Queen + Paul Rodgers === At the end of 2004, May and Taylor announced that they would reunite and return to touring in 2005, with Paul Rodgers, the founder and former lead singer of Free and Bad Company. Brian May\\'s website also stated that Rodgers would be \"featured with\" Queen as Queen + Paul Rodgers, not replacing the late Freddie Mercury. The retired John Deacon would not be participating.Between 2005 and 2006 Queen and Paul Rodgers embarked on a world tour, the first leg being Europe and the second, Japan and the US in 2006. On 25 May 2006, Queen received the inaugural VH1 Rock Honors at the Mandalay Bay Events Center in Las Vegas, Nevada, and May and Taylor were joined on stage with the Foo Fighters to perform a selection of Queen songs. On 15 August 2006, May confirmed through his website and fan club that Queen + Paul Rodgers would begin producing their first studio album in October, to be recorded at a \"secret location\". The album, titled The Cosmos Rocks, was released in Europe on 12 September 2008 and in the United States on 28 October 2008. Following the album\\'s release, the band embarked on a tour through Europe and parts of the US, opening on Kharkiv\\'s freedom square in front of 350,000 Ukrainian fans. The show in Ukraine was later released on DVD. Queen and Paul Rodgers officially split up on 12 May 2009. Rodgers did not rule out the possibility of working together again. === 2011–present === On 18 April 2011, Lady Gaga confirmed that May would play guitar on her track \"You and I\" from her latest album Born This Way, released on 23 May 2011. May joined Gaga on stage during the performance of \"You and I\" at the 2011 MTV Video Music Awards held at Nokia Theatre in Los Angeles. May performed with Tangerine Dream at the Starmus Festival on Tenerife in June 2011, celebrating the 50th anniversary of Yuri Gagarin\\'s first spaceflight.May performed \"We Will Rock You\" and \"Welcome to the Black Parade\" with the rock band My Chemical Romance at the Reading Festival on 26 August 2011. On 10 October, May made an appearance to celebrate the reunion of rock band The Darkness at an \"intimate\" 100 Club show with support from Dark Stares. A long-time fan of the group, May performed three songs onstage with The Darkness, including Queen\\'s \"Tie Your Mother Down\", at the Hammersmith Apollo on their subsequent \"comeback\" tour.At the 2011 MTV Europe Music Awards on 6 November, Queen received the Global Icon Award, which Katy Perry presented to Brian May. Queen closed the awards ceremony, with Adam Lambert on vocals, performing \"The Show Must Go On\", \"We Will Rock You\" and \"We Are the Champions\". The collaboration garnered a positive response from both fans and critics, resulting in speculation about future projects together. Queen + Adam Lambert played two shows at the Hammersmith Apollo, London, on 11 and 12 July 2012. Both shows sold out within 24 hours of tickets going on open sale. A third London date was added for 14 July. On 30 June, Queen + Lambert performed in Kyiv, Ukraine at a joint concert with Elton John for the Elena Pinchuk ANTIAIDS Foundation. Queen also performed with Lambert on 3 July 2012 at Moscow\\'s Olympic Stadium, and on 7 July 2012 at the Municipal Stadium in Wroclaw, Poland.In January 2012, May featured on N-Dubz frontman Dappy\\'s solo single \"Rockstar\", providing \"rumbling guitar riffs which culminate in an electrifying solo\". The pair also collaborated on a performance of \"We Will Rock You\" for BBC Radio 1\\'s Live Lounge.Queen performed at the closing ceremony of the 2012 Summer Olympics in London on 12 August 2012. May performed part of the \"Brighton Rock\" solo before being joined by Taylor and solo artist Jessie J for a performance of \"We Will Rock You\". On 16 September 2012, May appeared at the Sunflower Jam charity concert at the Royal Albert Hall, performing alongside bassist John Paul Jones (of Led Zeppelin), drummer Ian Paice (of Deep Purple), and vocalists Bruce Dickinson (of Iron Maiden) and Alice Cooper.May played guitar on the end credits song \"One Voice\" from the film A Dog Named Gucci. The song also features the talents of: Norah Jones, Aimee Mann, Susanna Hoffs, Lydia Loveless, Neko Case, and Kathryn Calder. It was produced by Dean Falcone, who wrote the film\\'s score. \"One Voice\" was released on Record Store Day, 16 April 2016, with profits from the sale of the single going to benefit animal charities.On 29 March 2019, May inducted Def Leppard into the Rock and Roll Hall of Fame. He worked with contemporary metal band Five Finger Death Punch and blues artist Kenny Wayne Shepherd to re-record a new version of \"Blue on Black\" in support of The Gary Sinise Foundation in April 2019. The artists came together to merge country and mainstream rock to re-create the classic song originally co-written by Shepherd. At the end of the month he also performed songs including \"All the Young Dudes\" with Def Leppard\\'s Joe Elliott at a Mott the Hoople show at the Shepherd\\'s Bush Empire. === 2011–present: Queen + Adam Lambert === Not long after performing with American Idol finalists Kris Allen and Adam Lambert during the programme\\'s season finale in 2009, May and Taylor began contemplating the future of Queen after the group\\'s amicable split with frontman Paul Rodgers. At the 2011 MTV Europe Music Awards, Queen was presented with that year\\'s Global Icon Award, accepted by May. As part of the broadcast, Queen performed a short set with Lambert, receiving an overwhelmingly welcoming response. Speculation regarding collaboration with Lambert soon arose, with the three formally announcing a short summer tour of Europe in 2012, including three dates at the Hammersmith Apollo in London, as well as shows in Ukraine, Russia and Poland. As with the partnership with Paul Rodgers, John Deacon did not participate. The collaboration was revived in 2013, when the three performed together at the iHeartRadio Music Festival at the MGM Grand Hotel & Casino in Las Vegas on 20 September. Five months later, May, Taylor and Lambert announced a 19-date summer tour of North America on Good Morning America. Because of ticket demand, five dates were soon added. In May 2014, shows in Australia and New Zealand were announced, along with festival performances in South Korea and Japan. The tour was extended to the UK and greater Europe in early 2015. The group performed together in South America in September 2015, including Queen\\'s first performance at the Rock in Rio Festival since 1985.In 2016, the group embarked across Europe and Asia on the Queen + Adam Lambert 2016 Summer Festival Tour. This included closing the Isle of Wight Festival in England on 12 June where they performed \"Who Wants to Live Forever\" as a tribute to the victims of the mass shooting at a gay nightclub in Orlando, Florida earlier that day. On 12 September they performed at the Park Hayarkon in Tel-Aviv, Israel for the first time in front of 58,000 people. In September 2018 the group had a residency in the MGM Park Theater in Las Vegas. Though the collaboration remains active, there are currently no plans to record a studio album, though the three are willing to do so in the future. On 31 March 2020, Queen + Adam Lambert confirmed that their touring dates planned for the year were postponed until 2021 because of the global COVID-19 pandemic. == Musicianship == === Guitar style === May has been referred to as a virtuoso guitarist by many publications and musicians. He has featured in various music polls of great rock guitarists, and in 2011 was ranked number 26 on Rolling Stone magazine\\'s list of the \"100 Greatest Guitarists of All Time\". In January 2007, the readers of Guitar World voted May\\'s guitar solos on \"Bohemian Rhapsody\" and \"Brighton Rock\" into the \"top 50 Greatest Guitar Solos of all time\" (No.20 and No.41 respectively). Former Van Halen vocalist Sammy Hagar stated, \"I thought Queen were really innovative and made some great sounding records... I like the rockin\\' stuff. I think Brian May has one of the great guitar tones on the planet, and I really, really love his guitar work.\" Justin Hawkins, lead guitarist of the Darkness, cites May as his earliest influence, saying \"I really loved his tone and vibrato and everything. I thought his playing sounded like a singing voice. I wanted to be able to do that. Whenever I went to guitar lessons, I was always asking to learn Queen stuff.\" American guitar virtuoso Steve Vai has spoken highly of May\\'s work, saying:In that whole genre, in that whole period—he\\'s one of the most unique contributors. He doesn\\'t get credit. Because what he does is so rich and so specific, and so deep, it fits so well in Queen music, you just feel it as part of that music. But when you break it down and when you look at it from a guitar player\\'s point of view, it\\'s unique, and nobody to this date could do what he does and make it sound like that. He is an iconic player. His tone, his choice of melody notes, he doesn\\'t just do solos. His solos are melodies, and they\\'re perfectly in place. Most of May\\'s electric guitar work live and in the studio is done on the Red Special, which he built with his father, an electronics engineer, when he was sixteen years old. It was built with wood from an 18th-century fireplace, and was composed of household items such as mother-of-pearl buttons, shelf edging, and motorbike valve springs. While May and his father were building the Red Special, May also produced plans to build a second guitar. However, the Red Special was so successful that May did not need to build another guitar. These plans were eventually given to guitar luthier Andrew Guyton in around 2004–05. Guyton made some slight modifications and the guitar was built. It was named \"The Spade\", as the body\\'s shape resembled the form shown on playing cards. However, the guitar also came to be known as \"The Guitar That Time Forgot\".May commented on the Red Special: I like a big neck – thick, flat and wide. I lacquered the fingerboard with Rustin\\'s Plastic Coating. The tremolo is interesting in that the arm\\'s made from an old bicycle saddle bag carrier, the knob at the end\\'s off a knitting needle and the springs are valve springs from an old motorbike. In addition to using his home-made guitar he prefers to use coins (especially a sixpence from the farewell proof set of 1970), instead of a more traditional plastic plectrum, because he feels their rigidity gives him more control in playing. He is known to carry coins in his pockets specifically for this purpose.A meticulous arranger, he focuses on multi-part harmonies, often more contrapuntal than parallel—a relative rarity for rock guitar. Examples are found in Queen\\'s albums A Night at the Opera and A Day at the Races, where he arranged a jazz band for guitar mini-orchestra (\"Good Company\"), a vocal canon (\"The Prophet\\'s Song\") and guitar and vocal counterpoints (\"Teo Torriatte\"). May explored a wide variety of styles in guitar, including: sweep picking (\"Was It All Worth It\" \"Chinese Torture\"); tremolo (\"Brighton Rock\", \"Stone Cold Crazy\", \"Death on Two Legs\", \"Sweet Lady\", \"Bohemian Rhapsody\", \"Get Down Make Love\", \"Dragon Attack\"); tapping (\"Bijou\", \"It\\'s Late\", \"Resurrection\", \"Cyborg\", \"Rain Must Fall\", \"Business\", \"China Belle\", \"I Was Born To Love You\"); slide guitar (\"Drowse\", \"Tie Your Mother Down\"); Hendrix sounding licks (\"Liar\", \"Brighton Rock\"); tape-delay (\"Brighton Rock\", \"White Man\"); and melodic sequences (\"Bohemian Rhapsody\", \"Killer Queen\", \"These Are the Days of Our Lives\"). Some of his solos and orchestral parts were composed by Freddie Mercury, who then asked May to bring them to life (\"Bicycle Race\", \"Lazing on a Sunday Afternoon\", \"Killer Queen\", \"Good Old Fashioned Lover Boy\"). May also performed notable acoustic works, including the finger-picked solo of \"White Queen\" (from Queen II), \"Love of My Life\" and the skiffle-influenced \"\\'39\" (both from A Night at the Opera). Aided by the uniqueness of the Red Special, May was often able to create strange and unusual sound effects. For example, he was able to imitate an orchestra in the song \"Procession\"; in \"Get Down, Make Love\" he was able to create various sound effects with his guitar; in \"Good Company\" he used his guitar to mimic a trombone, a piccolo and several other instruments for the song\\'s Dixieland jazz band feel. Queen used a \"No synthesizers were used on this album\" sleeve note on their early albums to make this clear to the listeners. May also used his guitar to create the chime effect in \"Bohemian Rhapsody\". === Influences === May\\'s early influences included Cliff Richard and the Shadows, who he says were \"the most metallic thing(s) out at the time.\" Many years later he gained his opportunity to play on separate occasions with Cliff Richard and Shadows lead guitarist Hank Marvin. He has collaborated with Cliff Richard on a re-recording of the Cliff Richard and the Shadows (then known as the Drifters) 1958 hit \"Move It\" on the Cliff Richard duets album Two\\'s Company which was released on 6 November 2006.May always stated that the Beatles, Led Zeppelin, The Who and Jimi Hendrix were the greatest influences on him. On the Queen for an Hour interview on BBC Radio 1 in 1989, May listed Hendrix, Jeff Beck and Eric Clapton as his guitar heroes. In a 1991 interview for Guitar World magazine, May referred to The Who as \"my inspiration\", and on seeing Led Zeppelin stated, \"We used to look at those guys and think, \\'That\\'s the way it should be done.\\'\" May told Guitarist in 2004: \"I don\\'t think anyone has epitomised riff writing better than Jimmy Page – he\\'s one of the great brains of rock music\".May also cites Rory Gallagher as a major influence, saying \"He was a magician. He was one of the very few people of that time who could make his guitar do anything, it seemed. I remember looking at that battered Stratocaster and thinking, \\'How does that (sound) come out of there?\\'\" According to May, \"...it was Rory that gave me my sound, and that\\'s the sound I still have.\" May was also influenced by Steve Hackett, guitarist of the progressive rock band Genesis, in particular his harmony guitar solo at the end of the band\\'s epic 1971 song \"The Musical Box\". Hackett said of May, \"Equally, his energetic approach to guitar inspired me.\" === Equipment === ==== Guitars ==== From 1975 onwards, May had some replicas made of the Red Special, some of which were also used for live and recording purposes, others being mainly spares. The most famous replicas were made by John Birch in 1975 (May smashed it during a concert in the States in 1982), Greco BM90 (featured in the promo video of \"Good Old-Fashioned Lover Boy\" in 1977), Guild (back-up from 1984 to 1993), Fryers (1997–1998, used both live and in the studio) and Guyton (back-up from 2003 to present). On stage, May used to carry at least one backup guitar (in case he broke a string). He occasionally would use others for specific songs or parts, such as alternate tunings. Currently, May owns a company that makes guitars whose design is modelled after the original Red Special guitar. July 1973 – May 1974: Fender Stratocaster CBS era (thought to be a 1972) October 1974 – May 1975: Gibson Les Paul Deluxe, and the Stratocaster from the previous tour. November 1975 – May 1976: Same two guitars as before, plus a natural finish John Birch replica of the Red Special. September 1976: Same three as before, plus a Martin D-18 acoustic for \"\\'39\". January 1977 – August 1979: Just the Birch replica plus an Ovation Pacemaker 12-string acoustic on some numbers (\"\\'39\", \"Love of My Life\", \"Dreamer\\'s Ball\"). November 1979 – June 1982: Birch replica (back-up), Fender Telecaster (\"Crazy Little Thing Called Love\" 2nd verse, middle-eight and solo), Ovation (acoustic numbers). July – November 1982: Added a Gibson Flying V as second back-up. On 9 August 1982, May smashed the Birch guitar, so the Flying V became the only spare. August – October 1984: The Flying V became a second back-up again as his main spare was the Guild replica. He also used Roger Taylor\\'s Gibson Chet-Atkins Classical Electric. July 1985 – August 1986: Gibson Flying V no longer used. The rest remained the same. May used a Gibson Chet-Atkins guitar on the 1986 Magic Tour. In 2012, he received a double-neck replica of the Red Special, with the second neck having 12-strings. He used this guitar at a few gigs with Adam Lambert now being able to play the 12-string part from the studio version of \"Under Pressure\" live.He currently has a Guild 12-string to replace his Ovation Pacemaker. Some of the non-RS electric guitars he used in the studio included: Burns Double Six on \"Long Away\" (1976) and \"Under Pressure\" (1981). Fender Telecaster on \"Crazy Little Thing Called Love\" (1979). May used it for the video (but not the recordings) of \"Back Chat\" (1982). Gibson Firebird on \"Hammer to Fall\" and \"Tear It Up\" (album versions only, not on stage). Ibanez JS on \"Nothing But Blue\" (1991). Parker Fly on \"Mother Love\" (1993–1995).For acoustic, he favoured Ovation, Martin, Tōkai Hummingbird, Godin and Guild. On a couple of videos, he also used some different electric guitars: a Stratocaster copy on \"Play the Game\" (1980) and a Washburn RR2V on \"Princes of the Universe\" (1986). In 1984, Guild released the first official Red Special replica for mass production and made some prototypes specifically for May. However, the solid-body construction (the original RS has hollow cavities in the body) and the pick-ups (DiMarzio) that were not a replica of the Burns TriSonic did not make May happy. The production of the guitars stopped after just 300 guitars. In 1993, Guild made a second replica of the RS, made in just 1000 copies, of which May has some and used as a back-up. At the moment, he uses the two guitars made by Greg Fryer—the luthier who restored the Old Lady in 1998—as back-up. They are almost identical to the original, except for the Fryer logo on the headstock (May\\'s original one has a sixpence). ==== Amplifiers and effects ==== May has used Vox AC30 amplifiers almost exclusively since a meeting with his long-time hero Rory Gallagher at a gig in London during the late 1960s/early 1970s. In the mid-1970s he used six of them, with an Echoplex delay (with extended delay time) plugged into a separate amplifier, and a second Echoplex plugged into yet another amp; he used a homemade booster, his only effects pedal, which was on all the time. His choice is the model AC30TBX, the top-boost version with Blue Alnico speakers, and he runs the amp at full volume on the Normal channel.May also customises his amps by removing the Brilliant and Vib-trem channels (leaving only the circuitry for the Normal). This alters the tone slightly, with a gain addition of 6–7 dB. He always used a treble booster which, along with the AC30 and his custom \\'Deacy Amp\\' transistor amp, built by Queen bass player John Deacon, went a long way in helping to create many of his signature guitar tones. He used the Dallas Rangemaster for the first Queen albums, up to A Day at the Races. Effects designer Pete Cornish built for him the TB-83 (32 dB of gain) that was used for all the remaining Queen albums. He switched in 2000 to the Fryer\\'s booster, which actually gives less boost than the TB-83. When performing live, May uses banks of Vox AC30 amplifiers, keeping some amps with only guitar and others with all effects such as delay, flanger and chorus. He has a rack of 14 AC30s, which are grouped as Normal, Chorus, Delay 1, Delay 2. On his pedal board, May has a custom switch unit made by Cornish and subsequently modified by Fryer that allows him to choose which amps are active. He uses a BOSS pedal from the \\'70s, the Chorus Ensemble CE-1, which can be heard in \"In The Lap of The Gods\" (Live at Wembley \\'86) or \"Hammer to Fall\" (slow version played live with P. Rodgers). Next in the chain, he uses a Foxx Foot Phaser (\"We Will Rock You\", \"We Are the Champions\", \"Keep Yourself Alive\", etc.), and two delay machines to play his trademark solo in \"Brighton Rock\". ==== Piano and other instruments ==== As a child, May was trained on classical piano. Although Freddie Mercury was the band\\'s primary pianist, May would step in occasionally (such as on \"Save Me\" and \"Flash\"). He mostly used Freddie Mercury\\'s 1972 Steinway piano. From 1979 onwards, he also played synthesisers, organ (\"Wedding March\", \"Let Me Live\") and programmed drum-machines for both Queen and outside projects (such as producing other artists and his own solo records). In the studio, May used Yamaha DX7 synths for the opening sequence of \"One Vision\" and the backgrounds of \"Who Wants to Live Forever\" (also on stage), \"Scandal\" and \"The Show Must Go On\". The first instrument May learned to play was the banjolele. He used a \"genuine George Formby Ukulele-Banjo\" in \"Bring Back That Leroy Brown\" and \"Good Company\". Occasionally, May would also record on other string instruments such as harp (one chord per take, then copied and pasted by the engineer to make it sound like a continuous performance) and bass (on some demos and many songs in his solo career, and the Queen + Paul Rodgers album). May was keen on using some toys as instruments as well. He used a Yamaha plastic piano in \"Teo Torriatte\" and a toy mini koto in \"The Prophet\\'s Song\". ==== Vocals ==== May is also an accomplished singer. From Queen\\'s Queen II to The Game, May contributed lead vocals to at least one song per album. May co-composed a mini-opera with Lee Holdridge, Il Colosso, for Steve Barron\\'s 1996 film, The Adventures of Pinocchio. May performed the opera with Jerry Hadley, Sissel Kyrkjebo, and Just William. On-screen, it was performed entirely by puppets. == Scientific career == May studied physics and mathematics at Imperial College London, graduating with a BSc (Hons) degree and ARCS in physics with Upper Second-Class Honours. From 1970 to 1974, he studied for a PhD degree at Imperial College, studying reflected light from interplanetary dust and the velocity of dust in the plane of the Solar System. When Queen began to have international success in 1974, he abandoned his doctoral studies, but nonetheless co-authored two peer reviewed research papers, which were based on his observations at the Teide Observatory in Tenerife. In October 2006, May re-registered for his doctorate at Imperial College and he submitted his thesis in August 2007 (one year earlier than he estimated it would take to complete). As well as writing up the previous work he had done, May had to review the work on zodiacal dust undertaken during the intervening 33 years, which included the discovery of the zodiacal dust bands by NASA\\'s IRAS satellite. After a viva voce, the revised thesis (titled \"A Survey of Radial Velocities in the Zodiacal Dust Cloud\") was approved in September 2007, some 37 years after it had been commenced. He was able to submit his thesis only because of the minimal amount of research on the topic during the intervening years and has described the subject as one that became in-demand again in the 2000s. In his doctoral research, he investigated radial velocity using absorption spectroscopy and doppler spectroscopy of zodiacal light using a Fabry–Pérot interferometer based at the Teide Observatory in Tenerife. His research was initially supervised by Jim Ring, Ken Reay and in the latter stages by Michael Rowan-Robinson. He graduated at the awards ceremony of Imperial College held in the Royal Albert Hall on 14 May 2008. In October 2007, May was appointed a Visiting Researcher in Imperial College and he continues his interest in astronomy and involvement with the Imperial Astrophysics Group. He is co-author, with Sir Patrick Moore and Chris Lintott, of Bang! – The Complete History of the Universe and The Cosmic Tourist. May appeared on the 700th episode of The Sky at Night hosted by Sir Patrick Moore, along with Chris Lintott, Jon Culshaw, Professor Brian Cox, and the Astronomer Royal Martin Rees who on departing the panel, told Brian May, who was joining it, \"I don\\'t know a scientist who looks as much like Isaac Newton as you do.\" May was also a guest on the first episode of the third series of the BBC\\'s Stargazing Live, on 8 January 2013. On 17 November 2007, May was appointed Chancellor of Liverpool John Moores University, and installed in 2008 having also been awarded an honorary fellowship from the university for his contribution to astronomy and services to the public understanding of science. He held the post until 2013. Asteroid 52665 Brianmay was named after him on 18 June 2008 on the suggestion of Patrick Moore (probably influenced by the asteroid\\'s provisional designation of 1998 BM30).In 2014, May co-founded Asteroid Day with Apollo 9 astronaut Rusty Schweickart, B612 Foundation COO Danica Remy and German filmmaker Grigorij Richters. Asteroid Day is a global awareness campaign where people from around the world come together to learn about asteroids and what we can do to protect our planet. May was a guest at the 2016 Starmus Festival where he also performed on stage with composer Hans Zimmer. The theme was Beyond The Horizon: A Tribute To Stephen Hawking.During the New Horizons Pluto flyby NASA press conference held on 17 July 2015 at Johns Hopkins Applied Physics Lab, May was introduced as a science team collaborator. He told the panel \"You have inspired the world.\" On 31 December 2018 through 1 January 2019, May was in attendance at the watch party for the New Horizons flyby of the Kuiper belt object, 486958 Arrokoth, and performed an updated version of his \"New Horizons\" celebratory song.In 2019 he was awarded the Lawrence J. Burpee Medal of the Royal Canadian Geographical Society for outstanding contributions to the advancement of geography.In 2020 he participated in the team that contributed the stereography images - as he declared on Instagram - to a publication in Nature Communications. He is also on the advisory board of the NEO-MAPP project (Near Earth Object Modelling and Payloads for Protection), funded by the European Union. == Personal life == From 1974 to 1988, May was married to Christine Mullen. They had three children: James (born 15 June 1978), Louisa (born 22 May 1981), and Emily Ruth (born 18 February 1987). They separated in 1988. May had met actress Anita Dobson in 1986. She inspired him to write the 1989 hit \"I Want It All\". They married on 18 November 2000.He has said in interviews that he suffered from depression in the late 1980s and early 1990s, to the point of contemplating suicide, for reasons having to do with his troubled first marriage, his perceived failure as a husband and father, his father Harold\\'s death, and Freddie Mercury\\'s illness and death.According to The Sunday Times Rich List of 2019, May is worth £160 million. He has homes in London and Windlesham, Surrey. May\\'s father Harold was a long-time heavy cigarette smoker. As a result, May dislikes smoking, to the point where he was already prohibiting smoking indoors at his concerts before many countries imposed smoking bans. He is an active animal rights advocate, and was appointed a vice-president of animal welfare charity, the RSPCA, in September 2012. A vegan since taking part in the 2020 Veganuary challenge, May has stated that meat eating is responsible for the COVID-19 pandemic. May describes himself as agnostic.May is a long-term champion of woodland as a haven and \"corridor\" for wildlife, both in Surrey, where he has a house and elsewhere. In 2012, he bought land threatened by building development at Bere Regis, Dorset and, in 2013 and with the enthusiastic support of local villagers, initiated a project to create an area of woodland, now called May\\'s Wood (or \"the Brian May Wood\"). The wood consists of 157 acres (64 ha), formerly under the plough, planted by May\\'s team of co-workers with 100,000 trees. May\\'s Wood is said to be flourishing.In 2013, a new species of the genus Heteragrion (Odonata: Zygoptera) from Brazil was named Heteragrion brianmayi—one of four Heteragrion flatwing damselflies named after the bandmates, paying tribute to the 40th anniversary of Queen\\'s founding.May experienced a small heart attack in May 2020. It required the insertion of three stents into three blocked arteries. May said he had been \"very near death\".In December 2021, May revealed that he had tested positive for COVID-19. He compared his illness to \"the worst flu you could imagine\" and implored people to get vaccinated, stating that he didn\\'t think he would have recovered as well if he hadn\\'t received a full vaccination and booster shot. === Activism === May has formed a group to promote animal welfare. Though a Conservative Party voter most of his life, he has stated that their policies on fox hunting and the culling of badgers meant he did not vote for them in the 2010 UK general election. His group, Save Me (named after the May-written Queen song), campaigns for the protection of all animals against unnecessary, cruel and degrading treatment, with a particular emphasis on preventing hunting of foxes and the culling of badgers. The group\\'s primary concern is to ensure that the Hunting Act 2004 and other laws protecting animals are retained in situ.In an interview in September 2010 with Stephen Sackur for the BBC\\'s HARDtalk program, May said that he would rather be remembered for his animal rights work than for his music or scientific work. May is a staunch supporter of the RSPCA, the International Fund for Animal Welfare, the League Against Cruel Sports, PETA UK and the Harper Asprey Wildlife Rescue. In March 2012, May contributed the foreword to a target paper published by the think tank the Bow Group, urging the government to reconsider its plans to cull thousands of badgers to control bovine TB, stating that the findings of Labour\\'s major badger culling trials, several years earlier, show that culling does not work. The paper was authored by Graham Godwin-Pearson with contributions by leading tuberculosis scientists, including Lord Krebs.In 2013, May joined French guitar player Jean-Pierre Danel for a charity Danel launched for the benefit of animal rights in France. The guitarists signed guitars and art photos together, and were joined by Hank Marvin. In May 2013, May teamed up with actor Brian Blessed and Flash cartoonist Jonti \"Weebl\" Picking, as well as animal rights groups including the RSPCA, to form Team Badger, a \"coalition of organisations that have teamed up to fight the planned cull of badgers\". With Weebl and Blessed, May recorded a single, \"Save the Badger Badger Badger\"—a mashup of Weebl\\'s viral 2003 Flash cartoon meme, \"Badger Badger Badger\", and Queen\\'s \"Flash\", featuring vocals by Blessed. On 1 September 2013, \"Save the Badger Badger Badger\" charted at No. 79 on the UK Singles Chart, No. 39 on the UK iTunes chart and No. 1 on the iTunes Rock chart. In June 2013 naturalist Sir David Attenborough and rock guitarist Slash joined May to form a supergroup, Artful Badger and Friends, and released a song dedicated to badgers, \"Badger Swagger\".Prior to the 2015 general election, it was reported that May was considering standing as an independent Member of Parliament. It was also revealed that May had started a \"Common Decency\" project \"to re-establish common decency in our lives, work and Parliament\". May said he wanted to \"get rid of the current government\" and wished to see a House of Commons containing \"individuals voting according to their conscience\". May was one of several celebrities who endorsed the parliamentary candidacy of the Green Party\\'s Caroline Lucas at the election. He also endorsed a Conservative Party candidate, Henry Smith, on the grounds of his animal welfare record.In July 2015, May criticised UK Prime Minister David Cameron for giving Members of Parliament a free vote on amending the ban on fox hunting in England and Wales. During a live television interview, he described the pro-hunting organisation the Countryside Alliance as \"a bunch of lying bastards\" for their support for a change to the law. The government postponed the vote following the intervention of the Scottish National Party\\'s Westminster MPs, who committed to vote to keep the ban as it existed. May told anti-hunt protesters in a rally outside Parliament that it was \"a very, very important day for our democracy\" but added \"we have not yet won the war, there\\'s no room for complacency\".In June 2017, May endorsed Labour Party leader Jeremy Corbyn in the 2017 general election. May shared an article on Twitter by The Independent headlined \"Jeremy Corbyn says Fox hunting is \\'barbarity\\' and pledges to keep it banned\" and captioned it: \"Well, I guess that just about clinches it !! Anyone see any good reason not to prefer the evidently decent Corbyn over the weak and wobbly Mrs May? Bri\".In October 2018, May said, \"I don\\'t like all this separatist stuff and you know this sort of illusion that we can all stand on our own, to me the future lies in co-operation. I get up every day and put my head in my hands about Brexit – I think it\\'s the stupidest thing we ever tried to do.\" He also said that Prime Minister Theresa May was \"driven by vanity and thirst for power\".In the run-up to the 2019 United Kingdom general election May criticised what he saw as the poor conduct of the media and declined to endorse either candidate, stating that he found it \"impossible\" to vote for either Jeremy Corbyn or Boris Johnson. After the election in which the Conservatives won a majority, May vowed to continue fighting for animal rights but in an Instagram and blog post he urged his followers to congratulate Johnson and \"wish Boris a decent chance to rebuild Britain\" before praising reforms to animal welfare laws made by Conservative Party Environment Secretary Michael Gove. In 2021 May criticised Johnson for his response to the COVID-19 pandemic, calling it inadequate. === Stereophotography === May has had a lifelong interest in collecting Victorian stereophotography. In 2009, with co-author Elena Vidal, he published his second book, A Village Lost and Found, on the work of English stereophotography innovator T. R. Williams. He was awarded The Royal Photographic Society\\'s Saxby Medal in 2012 for achievement in the field of three-dimensional imaging.May made a significant technical contribution to the book to accompany the exhibition \\'Stereoscopic Photographs of Pablo Picasso by Robert Mouzillat\\', held at the Holburne Museum in Bath, England, from February to June 2014. The book provides photographs of Picasso in his studio, at a bullfight at Arles, and in his garden. May\\'s 3D Owl viewer is used to view the photographs in 3D. The purchase of his first card in 1973 started May on a lifelong and worldwide search for Les Diableries, which are stereoscopic photographs depicting scenes of daily life in Hell. On 10 October 2013 the book Diableries: Stereoscopic Adventures in Hell by Brian May, Denis Pellerin and Paula Fleming was published.In 2017, May published Queen in 3-D, chronicling the group\\'s 50-year history. It contains over 300 of his own stereoscopic photos and is the first book about the band published by one of its members. Included with the book is May\\'s patented OWL Stereoscopic Viewer. As part of May\\'s role as a collaborator with NASA\\'s science team on the New Horizons mission, he worked on the first stereoanaglyph based on images of 486958 Arrokoth that were captured by the spacecraft. == Portrayal in film == In the 2018 biographical film Bohemian Rhapsody, he was portrayed by Gwilym Lee. May himself served as a creative and musical consultant for the film, and worked especially closely with Lee. == Discography == With Queen Solo discography Back to the Light (1992) Another World (1998) Furia (2000) soundtrackCollaborations El Vampiro Bajo el Sol (with Paralamas do Sucesso and Fito Paez) (1994) Anthems (with Kerry Ellis) (2010) Acoustic by Candlelight (with Kerry Ellis) (2013) Golden Days (with Kerry Ellis) (2017) Blue on Black (with Five Finger Death Punch, Kenny Wayne Shepherd, and Brantley Gilbert) (2019) == See also == List of animal rights advocates == References == == External links == Quotations related to Brian May at Wikiquote Media related to Brian May at Wikimedia Commons'"
            ],
            "application/vnd.google.colaboratory.intrinsic+json": {
              "type": "string"
            }
          },
          "metadata": {},
          "execution_count": 41
        }
      ]
    },
    {
      "cell_type": "markdown",
      "source": [
        "Calculamos y entrenamos vectorizadores TFIDF y BoW (CountVectorizer) para el corpus descargado y preprocesado:"
      ],
      "metadata": {
        "id": "JIoXIw21cekC"
      }
    },
    {
      "cell_type": "code",
      "source": [
        "tfidf_vect = TfidfVectorizer(lowercase = False, stop_words = None, use_idf = True, smooth_idf = False,\n",
        "                             norm = \"l2\", tokenizer=spacy_tokenizer)\n",
        "count_vect = CountVectorizer(lowercase = False, stop_words = None, tokenizer=spacy_tokenizer)\n",
        "\n",
        "tfidf_data = tfidf_vect.fit(documentes)\n",
        "count_data = count_vect.fit(documentes)"
      ],
      "metadata": {
        "colab": {
          "base_uri": "https://localhost:8080/"
        },
        "id": "kKH3O6NwMris",
        "outputId": "a8f63d38-b33e-4d68-a7b0-cdb27d119329"
      },
      "execution_count": 42,
      "outputs": [
        {
          "output_type": "stream",
          "name": "stderr",
          "text": [
            "/usr/local/lib/python3.7/dist-packages/sklearn/feature_extraction/text.py:517: UserWarning: The parameter 'token_pattern' will not be used since 'tokenizer' is not None'\n",
            "  \"The parameter 'token_pattern' will not be used\"\n"
          ]
        }
      ]
    },
    {
      "cell_type": "markdown",
      "source": [
        "Generamos funciones para obtener las palabras más importantes del vectorizador:\n"
      ],
      "metadata": {
        "id": "qSNTuC2GcxzL"
      }
    },
    {
      "cell_type": "code",
      "source": [
        "tfidf_feature_names = np.array(tfidf_data.get_feature_names())\n",
        "count_feature_names = np.array(count_data.get_feature_names())\n",
        "\n",
        "def get_top_vect_words(response, top_n=2,feature_name_array=tfidf_feature_names):\n",
        "  # De la respuesta del vectorizador, cogemos los datos en bruto del array, los ordenamos\n",
        "  # de mayor a menor y cogemos los índices de los top_n terminos. Que se seleccionarán del \n",
        "  # los nombres de las caracteristicas (tokens) del vectorizador.\n",
        "    sorted_nzs = np.argsort(response.data)[:-(top_n+1):-1]\n",
        "    return feature_name_array[response.indices[sorted_nzs]]\n",
        "  "
      ],
      "metadata": {
        "colab": {
          "base_uri": "https://localhost:8080/"
        },
        "id": "armdlrKJMWoG",
        "outputId": "fa120f1b-6f6d-4bde-a030-861a8f204ac9"
      },
      "execution_count": 43,
      "outputs": [
        {
          "output_type": "stream",
          "name": "stderr",
          "text": [
            "/usr/local/lib/python3.7/dist-packages/sklearn/utils/deprecation.py:87: FutureWarning: Function get_feature_names is deprecated; get_feature_names is deprecated in 1.0 and will be removed in 1.2. Please use get_feature_names_out instead.\n",
            "  warnings.warn(msg, category=FutureWarning)\n"
          ]
        }
      ]
    },
    {
      "cell_type": "markdown",
      "source": [
        "Generamos está función para mostrar los 10 términos más importantes de un documento vectorizado con TF-IDF y BoW para ver sus diferencias. "
      ],
      "metadata": {
        "id": "FaBwKqfpdTBW"
      }
    },
    {
      "cell_type": "code",
      "source": [
        "def show_doc_results(doc,top_n):\n",
        "  # Transformamos documento\n",
        "  responses_tfidf = tfidf_vect.transform([doc])\n",
        "  responses_count = count_vect.transform([doc])\n",
        "  # Cogemos palabras más prefuentes (mas importrantes) y más inmportantes en tfidf\n",
        "  most_frequent = list(get_top_vect_words(responses_count,top_n,count_feature_names))\n",
        "  tfidf = list(get_top_vect_words(responses_tfidf,top_n,tfidf_feature_names))\n",
        "  print(\"Tokens más frecuentes: {}\".format(most_frequent))\n",
        "  print(\"Tokens con mayor TF-IDF: {}\".format(tfidf))"
      ],
      "metadata": {
        "id": "X1fO7JoYc7-e"
      },
      "execution_count": 44,
      "outputs": []
    },
    {
      "cell_type": "code",
      "source": [
        "for i in range(0, len(pages)):\n",
        "  print(pages[i])\n",
        "  show_doc_results(documentes[i],10)"
      ],
      "metadata": {
        "colab": {
          "base_uri": "https://localhost:8080/"
        },
        "id": "Tf7C8FC6gH-N",
        "outputId": "0bf66378-f547-4960-b64e-bf92ceff4d9f"
      },
      "execution_count": 45,
      "outputs": [
        {
          "output_type": "stream",
          "name": "stdout",
          "text": [
            "Brian May\n",
            "Tokens más frecuentes: ['queen', 'guitar', 'album', 'use', 'band', 'rock', 'song', 'work', 'perform', 'tour']\n",
            "Tokens con mayor TF-IDF: ['queen', 'guitar', 'badger', 'mercury', 'lambert', 'album', 'animal', 'use', 'band', 'rodgers']\n",
            "jimmy page\n",
            "Tokens más frecuentes: ['page', 'zeppelin', 'led', 'guitar', 'play', 'record', 'album', 'use', 'session', 'band']\n",
            "Tokens con mayor TF-IDF: ['page', 'zeppelin', 'led', 'guitar', 'plant', 'play', 'record', 'album', 'yardbirds', 'use']\n",
            "eddie van halen\n",
            "Tokens más frecuentes: ['van', 'halen', 'guitar', 'eddie', 'band', 'solo', 'rock', 'song', 'evh', 'alex']\n",
            "Tokens con mayor TF-IDF: ['halen', 'van', 'eddie', 'evh', 'guitar', 'wolfgang', 'bertinelli', 'gene', 'valerie', 'pasadena']\n",
            "david gilmour\n",
            "Tokens más frecuentes: ['gilmour', 'album', 'guitar', 'floyd', 'pink', 'tour', 'release', 'use', 'live', 'david']\n",
            "Tokens con mayor TF-IDF: ['gilmour', 'pink', 'floyd', 'album', 'barrett', 'guitar', 'strat', 'wall', 'tour', 'wright']\n",
            "Jeff Beck\n",
            "Tokens más frecuentes: ['beck', 'album', '–', 'rock', 'record', 'guitar', 'release', 'instrumental', 'jeff', 'tour']\n",
            "Tokens con mayor TF-IDF: ['beck', 'album', '–', 'appice', 'bogert', 'rock', 'instrumental', 'jeff', 'record', 'guitar']\n",
            "mark knopfler\n",
            "Tokens más frecuentes: ['knopfler', 'album', 'dire', 'straits', 'release', 'tour', 'music', 'band', 'mark', 'solo']\n",
            "Tokens con mayor TF-IDF: ['knopfler', 'straits', 'dire', 'album', 'newcastle', 'illsley', 'release', 'country', 'fletcher', 'mark']\n",
            "Billy Gibbons\n",
            "Tokens más frecuentes: ['gibbon', 'gibbons', 'guitar', 'album', 'zz', 'play', 'song', 'hodgins', 'angela', 'appear']\n",
            "Tokens con mayor TF-IDF: ['gibbon', 'gibbons', 'zz', 'hodgins', 'sidewalks', 'moving', 'guitar', 'angela', 'album', 'bfg']\n",
            "Carlos Santana\n",
            "Tokens más frecuentes: ['santana', 'album', 'band', 'guitar', 'carlos', 'record', 'year', 'use', 'release', 'rock']\n",
            "Tokens con mayor TF-IDF: ['santana', 'carlos', 'album', 'band', 'prs', 'latin', 'guitar', 'supernatural', 'deborah', 'chinmoy']\n",
            "Stevie Ray Vaughan\n",
            "Tokens más frecuentes: ['vaughan', 'guitar', 'play', 'album', 'double', 'trouble', 'stevie', 'band', 'include', 'texas']\n",
            "Tokens con mayor TF-IDF: ['vaughan', 'trouble', 'stevie', 'texas', 'double', 'guitar', 'play', 'ray', 'shannon', 'lenny']\n",
            "BB king\n",
            "Tokens más frecuentes: ['king', 'b.b.', 'music', 'blues', 'mississippi', 'guitar', 'blue', 'play', 'award', 'hall']\n",
            "Tokens con mayor TF-IDF: ['king', 'mississippi', 'b.b.', 'blues', 'memphis', 'music', 'indianola', 'beale', 'blue', 'play']\n",
            "Buddy Guy\n",
            "Tokens más frecuentes: ['guy', 'blue', 'guitar', 'buddy', 'play', 'record', 'chess', 'award', 'perform', 'records']\n",
            "Tokens con mayor TF-IDF: ['guy', 'chess', 'buddy', 'blue', 'guitar', 'chicago', 'louisiana', 'legends', 'lettsworth', 'cobra']\n",
            "Albert King\n",
            "Tokens más frecuentes: ['king', 'album', 'blue', 'albert', 'guitar', 'release', 'record', 'play', 'year', 'know']\n",
            "Tokens con mayor TF-IDF: ['king', 'stax', 'albert', 'album', 'blue', 'c', 'guitar', 'e', 'louis', 'indianola']\n",
            "Rory Gallagher\n",
            "Tokens más frecuentes: ['gallagher', 'guitar', 'play', 'rory', 'album', '–', 'band', 'guitarist', 'blue', 'year']\n",
            "Tokens con mayor TF-IDF: ['gallagher', 'rory', 'taste', 'cork', 'dónal', 'mcavoy', 'guitar', 'play', '–', 'ballyshannon']\n",
            "Joe Satriani\n",
            "Tokens más frecuentes: ['satriani', 'album', 'guitar', 'release', 'use', 'song', 'feature', 'joe', 'guitarist', 'music']\n",
            "Tokens con mayor TF-IDF: ['satriani', 'chickenfoot', 'album', 'guitar', 'release', 'js', 'use', 'joe', 'peavey', 'colossal']\n",
            "jimi hendrix\n",
            "Tokens más frecuentes: ['hendrix', 'guitar', 'experience', 'play', 'band', 'use', 'rock', 'jimi', 'album', 'performance']\n",
            "Tokens con mayor TF-IDF: ['hendrix', 'chandler', 'experience', 'guitar', 'redding', 'cox', 'mitchell', 'play', 'ladyland', 'jimi']\n",
            "George Harrison\n",
            "Tokens más frecuentes: ['harrison', 'album', 'beatles', 'song', 'guitar', 'music', 'release', 'george', 'include', 'lennon']\n",
            "Tokens con mayor TF-IDF: ['harrison', 'beatles', 'shankar', 'album', 'lennon', 'mccartney', 'indian', 'song', 'guitar', 'starr']\n"
          ]
        }
      ]
    },
    {
      "cell_type": "markdown",
      "source": [
        "Observar diferencias de palabras muy comunes en documentos de guitarristas como \"guitar\", \"release\",\"play\" o \"album\". En BoW aparecen como términos muy importantes porque son comunes en este tipo de documentos. Sin embargo, al calcular el TF-IDF, como estos términos aparecen en muchos documentos su importancia se ve disminuida.\n"
      ],
      "metadata": {
        "id": "v_1diBNEdfn5"
      }
    },
    {
      "cell_type": "markdown",
      "source": [
        "# Representación numérica de palabras\n"
      ],
      "metadata": {
        "id": "pm78IkxdeERw"
      }
    },
    {
      "cell_type": "markdown",
      "source": [
        "También se puede hacer una representación de un documento obteniendo una representación de los vectores de las palabras que lo componen, y haciendo algún tipo de combinación sobre éstas (suma, concatenación..).\n",
        "\n",
        "En este caso presentaremos el One Hot Encoding y los word embeddings."
      ],
      "metadata": {
        "id": "KfioSUWmeJdc"
      }
    },
    {
      "cell_type": "markdown",
      "source": [
        "## One-hot encoder\n"
      ],
      "metadata": {
        "id": "gQSLUU8TeJsv"
      }
    },
    {
      "cell_type": "markdown",
      "source": [
        "Probablemente sea la técnica más elemental para representar datos textuales numéricamente. En este modelo de representación cada palabra del vocabulario se representa mediante un vector único en el que cada posición del vector representa una palabra del vocabulario, siendo 0 todos los valores menos el índice del token al que representa el vector. \n",
        "\n",
        "En este caso, trabajaremos con el método [OneHotEncoder](https://scikit-learn.org/stable/modules/generated/sklearn.preprocessing.OneHotEncoder.html) de Scikit-learn."
      ],
      "metadata": {
        "id": "p4Z-XZ6cWGrW"
      }
    },
    {
      "cell_type": "markdown",
      "source": [
        "En primer lugar, es necesario obtener un índice único para cada una de las palabras de nuestro vocabulario. \n",
        "\n",
        "Podemos hacerlo de forma manual o utilizando un LabelEncoder de scikit-learn:"
      ],
      "metadata": {
        "id": "TaaclO3FWWXK"
      }
    },
    {
      "cell_type": "code",
      "source": [
        "from sklearn.preprocessing import OneHotEncoder, LabelEncoder\n",
        "\n",
        "# integer encode\n",
        "label_encoder = LabelEncoder() # usar LabelEncoder vacío\n",
        "integer_encoded = label_encoder.fit_transform(vocab)  # fit_transform sobre vocab\n",
        "\n",
        "for elem, index in zip(vocab, integer_encoded): \n",
        "  print(\"Al token `{}` del vocabulario se le ha asignado el índice {}\".format(elem,  index))\n"
      ],
      "metadata": {
        "id": "MGOrp1T1WiQa",
        "colab": {
          "base_uri": "https://localhost:8080/"
        },
        "outputId": "5700e4e6-b765-48eb-b8b9-46fbbdd4625d"
      },
      "execution_count": 46,
      "outputs": [
        {
          "output_type": "stream",
          "name": "stdout",
          "text": [
            "Al token `agua` del vocabulario se le ha asignado el índice 0\n",
            "Al token `cocacola` del vocabulario se le ha asignado el índice 1\n",
            "Al token `entrecot` del vocabulario se le ha asignado el índice 2\n",
            "Al token `no` del vocabulario se le ha asignado el índice 3\n",
            "Al token `quiero` del vocabulario se le ha asignado el índice 4\n",
            "Al token `un` del vocabulario se le ha asignado el índice 5\n",
            "Al token `vino` del vocabulario se le ha asignado el índice 6\n",
            "Al token `y` del vocabulario se le ha asignado el índice 7\n",
            "Al token `yo` del vocabulario se le ha asignado el índice 8\n"
          ]
        }
      ]
    },
    {
      "cell_type": "markdown",
      "source": [
        "Una vez asignados estos índices, los utilizaremos para crear un vector único de tamaño del vocabulario. \n",
        "\n",
        "Para ello, utilizarmeos el método OneHotEncoder:"
      ],
      "metadata": {
        "id": "D2e2zDGcWhyV"
      }
    },
    {
      "cell_type": "code",
      "source": [
        "onehot_encoder = OneHotEncoder(sparse=False) # usra OneHotEncoder con atributo sparse=False"
      ],
      "metadata": {
        "id": "kvJhbn1_eMa8"
      },
      "execution_count": 47,
      "outputs": []
    },
    {
      "cell_type": "markdown",
      "source": [
        "Cambiamos las dimensiones del vector de índices, y los transformamos utilizando el onehot_encoder:"
      ],
      "metadata": {
        "id": "R5VSSbroXKy2"
      }
    },
    {
      "cell_type": "code",
      "source": [
        "integer_encoded = integer_encoded.reshape(len(integer_encoded), 1) \n",
        "onehot_encoded = onehot_encoder.fit_transform(integer_encoded)\n",
        "\n",
        "for elem, index in zip(vocab, onehot_encoded): \n",
        "  print(\"Al token `{}` del vocabulario se le ha asignado el onehot vector: {}\".format(elem,  index))"
      ],
      "metadata": {
        "id": "SOWjnt40XKVr",
        "colab": {
          "base_uri": "https://localhost:8080/"
        },
        "outputId": "d36fc05f-345a-4975-d9f9-a1baacbd2f22"
      },
      "execution_count": 48,
      "outputs": [
        {
          "output_type": "stream",
          "name": "stdout",
          "text": [
            "Al token `agua` del vocabulario se le ha asignado el onehot vector: [1.00 0.00 0.00 0.00 0.00 0.00 0.00 0.00 0.00]\n",
            "Al token `cocacola` del vocabulario se le ha asignado el onehot vector: [0.00 1.00 0.00 0.00 0.00 0.00 0.00 0.00 0.00]\n",
            "Al token `entrecot` del vocabulario se le ha asignado el onehot vector: [0.00 0.00 1.00 0.00 0.00 0.00 0.00 0.00 0.00]\n",
            "Al token `no` del vocabulario se le ha asignado el onehot vector: [0.00 0.00 0.00 1.00 0.00 0.00 0.00 0.00 0.00]\n",
            "Al token `quiero` del vocabulario se le ha asignado el onehot vector: [0.00 0.00 0.00 0.00 1.00 0.00 0.00 0.00 0.00]\n",
            "Al token `un` del vocabulario se le ha asignado el onehot vector: [0.00 0.00 0.00 0.00 0.00 1.00 0.00 0.00 0.00]\n",
            "Al token `vino` del vocabulario se le ha asignado el onehot vector: [0.00 0.00 0.00 0.00 0.00 0.00 1.00 0.00 0.00]\n",
            "Al token `y` del vocabulario se le ha asignado el onehot vector: [0.00 0.00 0.00 0.00 0.00 0.00 0.00 1.00 0.00]\n",
            "Al token `yo` del vocabulario se le ha asignado el onehot vector: [0.00 0.00 0.00 0.00 0.00 0.00 0.00 0.00 1.00]\n"
          ]
        }
      ]
    },
    {
      "cell_type": "markdown",
      "source": [
        "Después de definir esto podemos generar funciones para transformar un conjunto de tokens a su versión one-hot. Así como el paso inverso. "
      ],
      "metadata": {
        "id": "W1W9FoXlWVlO"
      }
    },
    {
      "cell_type": "code",
      "source": [
        "def using_to_categorical(doc,label_encoder, onehot_encoder):\n",
        "    # Transformamos los tokens a índices\n",
        "    data = label_encoder.transform(doc)\n",
        "    # Adaptamos los indices al formato adecuado\n",
        "    data = data.reshape(len(data), 1)\n",
        "    # Les aplicamos one hot encoder\n",
        "    encoded = onehot_encoder.transform(data)\n",
        "    return encoded\n",
        "\n",
        "\n",
        "def invert_encoding(vectores_onehot,label_encoder):\n",
        "    inverted = label_encoder.inverse_transform(list(np.argmax(vectores_onehot,axis=1)))\n",
        "    return list(inverted)"
      ],
      "metadata": {
        "id": "k2o1USGafU8G"
      },
      "execution_count": 49,
      "outputs": []
    },
    {
      "cell_type": "markdown",
      "source": [
        "Utilicemos las funciones:"
      ],
      "metadata": {
        "id": "m9j0ejmYYSfv"
      }
    },
    {
      "cell_type": "code",
      "source": [
        "documento_ejemplo = \"yo quiero agua\".split()\n",
        "documento_ejemplo"
      ],
      "metadata": {
        "colab": {
          "base_uri": "https://localhost:8080/"
        },
        "id": "pZ4zrqhnf6sp",
        "outputId": "b60f014a-df61-4973-bdc3-97bb90719b40"
      },
      "execution_count": 50,
      "outputs": [
        {
          "output_type": "execute_result",
          "data": {
            "text/plain": [
              "['yo', 'quiero', 'agua']"
            ]
          },
          "metadata": {},
          "execution_count": 50
        }
      ]
    },
    {
      "cell_type": "code",
      "source": [
        "a_hot_enc=using_to_categorical(documento_ejemplo,label_encoder, onehot_encoder)\n",
        "a_hot_enc"
      ],
      "metadata": {
        "colab": {
          "base_uri": "https://localhost:8080/"
        },
        "id": "qpLBdvRrgicy",
        "outputId": "42fc08ae-9d08-4836-ad9d-d2db6ca4be92"
      },
      "execution_count": 51,
      "outputs": [
        {
          "output_type": "execute_result",
          "data": {
            "text/plain": [
              "array([[0.00, 0.00, 0.00, 0.00, 0.00, 0.00, 0.00, 0.00, 1.00],\n",
              "       [0.00, 0.00, 0.00, 0.00, 1.00, 0.00, 0.00, 0.00, 0.00],\n",
              "       [1.00, 0.00, 0.00, 0.00, 0.00, 0.00, 0.00, 0.00, 0.00]])"
            ]
          },
          "metadata": {},
          "execution_count": 51
        }
      ]
    },
    {
      "cell_type": "code",
      "source": [
        "invert_encoding(a_hot_enc,label_encoder)"
      ],
      "metadata": {
        "colab": {
          "base_uri": "https://localhost:8080/"
        },
        "id": "JGIcOXUNg5t4",
        "outputId": "c21eef8b-80c6-415d-c83b-66da9a993747"
      },
      "execution_count": 52,
      "outputs": [
        {
          "output_type": "execute_result",
          "data": {
            "text/plain": [
              "['yo', 'quiero', 'agua']"
            ]
          },
          "metadata": {},
          "execution_count": 52
        }
      ]
    },
    {
      "cell_type": "markdown",
      "source": [
        "## Embeddings"
      ],
      "metadata": {
        "id": "DKkDHxmgeMl3"
      }
    },
    {
      "cell_type": "markdown",
      "source": [
        "Los embeddings son una técnica de modelización de lenguaje que permite representar palabras mediante vectores densos (*dense vectors*), de menor tamaño que los obtenidos tras _one-hot enconding_, y que además tienen capacidad de representar ontenido semántico. \n",
        "\n",
        "A lo largo del tiempo han aparecido diferentes formas de obtener estos embeddings. Pero en este curso aprendermeos a utilizar y a entrenar embeddings estáticos, especificamente word2vec, utilizando la librería [gensim](https://radimrehurek.com/gensim/models/word2vec.html). Hay que mencionar que los actuales embeddings contextuales, como Elmo o BERT, serán utilizados en el futuro para poder mostrar su uso, que en esencia es similar al del embedding estático. \n",
        "\n",
        "![image.png](data:image/png;base64,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)"
      ],
      "metadata": {
        "id": "m0wlIoDMlJBq"
      }
    },
    {
      "cell_type": "markdown",
      "source": [
        "### Carga de embeddings pre-entrenados con ``gensim``\n",
        "\n",
        "\n",
        "\n",
        "\n"
      ],
      "metadata": {
        "id": "hbvlDgVKl-CU"
      }
    },
    {
      "cell_type": "markdown",
      "source": [
        "Los embeddings suelen ser entrenados con grandes conjuntos de datos y suele ser costoso su entrenamiento a nivel temporal. Por ese motivo, una de las posibilidades cuando se trabaja con embeddings, es la búsqueda de recursos ya entrenados con textos similares a los que vayamos a trabajar (como contenido de noticias o redes sociales), y utilizarlo para representar nuestros documentos. \n",
        "\n",
        "\n",
        "Cuando se busca este tipo de recurso es evidente la influencia anglosajona en el desarrollo de las tecnologías del lenguaje, ya que la mayoría de los recursos se encuentran en este idioma y son fácilmente aplicables desde las librerías de NLP más comunes, en este caso Gensim. Si se quieren utilizar recursos en otros idiomas, hay que buscarlos en repositorios externos para descargarlos manualmente y cargarlos en la librería en cuestión. \n",
        "\n",
        "Aunque en este notebook trabajaremos exclusivamente con Gensim, este problema de acceso a recursos se está viendo parcialmente solventado con el incremento de popularidad de librerías como [Hugginface](https://huggingface.co/models) que favorecen el intercambio de recursos en múltiples lenguas\n"
      ],
      "metadata": {
        "id": "Fl-_vJxxnX8a"
      }
    },
    {
      "cell_type": "markdown",
      "source": [
        "#### Carga de pre-trained embeddings de gensim\n"
      ],
      "metadata": {
        "id": "UxPhAyf2mWwj"
      }
    },
    {
      "cell_type": "markdown",
      "source": [
        "La librería Gensim cuenta con un conjunto de embeddings pre-entrenados accesibles desde la propia librería mediante una API.\n",
        "\n",
        "Para acceder a estos modelos basta con utilizar el comando ```gensim.downloader.info()```, que nos permitirá ver la lista de modelos disponibles:"
      ],
      "metadata": {
        "id": "8U93nlbzp8i4"
      }
    },
    {
      "cell_type": "code",
      "source": [
        "import gensim.downloader as api\n",
        "print(\"Este es el listado de modelos disponibles en Gensim: \\n {}\".format(list(api.info()[\"models\"].keys())))\n"
      ],
      "metadata": {
        "colab": {
          "base_uri": "https://localhost:8080/"
        },
        "id": "wPkq7KxbqT61",
        "outputId": "f3f469be-a3b3-492b-a7b8-e01402e6ed68"
      },
      "execution_count": 53,
      "outputs": [
        {
          "output_type": "stream",
          "name": "stdout",
          "text": [
            "Este es el listado de modelos disponibles en Gensim: \n",
            " ['fasttext-wiki-news-subwords-300', 'conceptnet-numberbatch-17-06-300', 'word2vec-ruscorpora-300', 'word2vec-google-news-300', 'glove-wiki-gigaword-50', 'glove-wiki-gigaword-100', 'glove-wiki-gigaword-200', 'glove-wiki-gigaword-300', 'glove-twitter-25', 'glove-twitter-50', 'glove-twitter-100', 'glove-twitter-200', '__testing_word2vec-matrix-synopsis']\n"
          ]
        }
      ]
    },
    {
      "cell_type": "markdown",
      "source": [
        "Se puede observar que no sólo hay embeddings word2vec. También los hay glove, fasttext y conceptnet, todos estáticos. En este caso vamos a cargar un embedding Glove por ocupar menos espacio en memoria. "
      ],
      "metadata": {
        "id": "JVawh6YYrnoE"
      }
    },
    {
      "cell_type": "code",
      "source": [
        "glove_emb = api.load('glove-twitter-25') # Descargamos y cargamosel embedding de \"glove-twitter-25\""
      ],
      "metadata": {
        "colab": {
          "base_uri": "https://localhost:8080/"
        },
        "id": "wAMFYJzfr35N",
        "outputId": "2de8f7e4-48cc-4ec2-8b22-079f998b158a"
      },
      "execution_count": 54,
      "outputs": [
        {
          "output_type": "stream",
          "name": "stdout",
          "text": [
            "[==================================================] 100.0% 104.8/104.8MB downloaded\n"
          ]
        }
      ]
    },
    {
      "cell_type": "markdown",
      "source": [
        "Una vez hayamos cargado el embedding, podemos aplicar diferentes funciones de gensim para obtener información útil:\n",
        "\n",
        "- Listado de palabras más similares a una dada\n"
      ],
      "metadata": {
        "id": "_fgzxNYDr-eK"
      }
    },
    {
      "cell_type": "code",
      "source": [
        "glove_emb.most_similar(\"noise\", topn=3)   # apalabras más similares se hace con most_similar y marcando topn a 3"
      ],
      "metadata": {
        "colab": {
          "base_uri": "https://localhost:8080/"
        },
        "id": "-wlexjYbsOVc",
        "outputId": "0467de0a-d56e-4d36-e81d-784e6f814977"
      },
      "execution_count": 55,
      "outputs": [
        {
          "output_type": "execute_result",
          "data": {
            "text/plain": [
              "[('panic', 0.8954888582229614),\n",
              " ('loud', 0.8835636377334595),\n",
              " ('sudden', 0.8579897880554199)]"
            ]
          },
          "metadata": {},
          "execution_count": 55
        }
      ]
    },
    {
      "cell_type": "markdown",
      "source": [
        "-  Operación matemática con vectores para obtener resultados"
      ],
      "metadata": {
        "id": "9N6omDRTsl8y"
      }
    },
    {
      "cell_type": "code",
      "source": [
        "glove_emb.most_similar(positive=[\"france\",\"italy\"],negative=[\"rome\"])"
      ],
      "metadata": {
        "colab": {
          "base_uri": "https://localhost:8080/"
        },
        "id": "gw0W_VdbtA4e",
        "outputId": "e62a8503-ad45-4d81-9f94-1aaf68c36080"
      },
      "execution_count": 56,
      "outputs": [
        {
          "output_type": "execute_result",
          "data": {
            "text/plain": [
              "[('paris', 0.7654449939727783),\n",
              " ('vote', 0.7570202946662903),\n",
              " ('gagne', 0.7432006001472473),\n",
              " ('psg', 0.7362562417984009),\n",
              " ('spain', 0.729026734828949),\n",
              " ('team', 0.7250774502754211),\n",
              " ('attend', 0.7223680019378662),\n",
              " ('europe', 0.720014214515686),\n",
              " ('canada', 0.7170059680938721),\n",
              " ('match', 0.7135623097419739)]"
            ]
          },
          "metadata": {},
          "execution_count": 56
        }
      ]
    },
    {
      "cell_type": "markdown",
      "source": [
        "-  Detectar término \"intruso\""
      ],
      "metadata": {
        "id": "QtzlCNDqtujt"
      }
    },
    {
      "cell_type": "code",
      "source": [
        "glove_emb.doesnt_match(['spain', 'italy', 'paris'])"
      ],
      "metadata": {
        "colab": {
          "base_uri": "https://localhost:8080/",
          "height": 90
        },
        "id": "K9nW_i_Htusj",
        "outputId": "24614c34-e529-49dd-87e2-5364867ea8f3"
      },
      "execution_count": 57,
      "outputs": [
        {
          "output_type": "stream",
          "name": "stderr",
          "text": [
            "/usr/local/lib/python3.7/dist-packages/gensim/models/keyedvectors.py:895: FutureWarning: arrays to stack must be passed as a \"sequence\" type such as list or tuple. Support for non-sequence iterables such as generators is deprecated as of NumPy 1.16 and will raise an error in the future.\n",
            "  vectors = vstack(self.word_vec(word, use_norm=True) for word in used_words).astype(REAL)\n"
          ]
        },
        {
          "output_type": "execute_result",
          "data": {
            "text/plain": [
              "'paris'"
            ],
            "application/vnd.google.colaboratory.intrinsic+json": {
              "type": "string"
            }
          },
          "metadata": {},
          "execution_count": 57
        }
      ]
    },
    {
      "cell_type": "markdown",
      "source": [
        "-  Obtener el vector que representa a una palabra para utilizarlo posteriormente en otras tareas"
      ],
      "metadata": {
        "id": "MVfsDlxUt25B"
      }
    },
    {
      "cell_type": "code",
      "source": [
        "glove_emb.get_vector(\"madrid\")  # get_vector(token)"
      ],
      "metadata": {
        "colab": {
          "base_uri": "https://localhost:8080/"
        },
        "id": "eDWqs0k9sFPl",
        "outputId": "afb22835-a785-47da-8516-3ac4f5c020bc"
      },
      "execution_count": 58,
      "outputs": [
        {
          "output_type": "execute_result",
          "data": {
            "text/plain": [
              "array([0.32, 0.74, -0.20, -1.40, -0.86, 0.79, -1.03, 2.64, -0.39, -0.48,\n",
              "       1.20, -0.95, -2.49, 1.35, 1.41, -0.39, -0.95, -0.44, 0.05, -0.08,\n",
              "       -0.92, 0.19, -0.20, -1.02, 0.20], dtype=float32)"
            ]
          },
          "metadata": {},
          "execution_count": 58
        }
      ]
    },
    {
      "cell_type": "markdown",
      "source": [
        "#### Carga de pre-trained embedding de otras fuentes\n"
      ],
      "metadata": {
        "id": "eaOWtFAvmUYg"
      }
    },
    {
      "cell_type": "markdown",
      "source": [
        "Como hemos visto anteriormente, no siempre se encuentran embeddings en el idioma en el que estamos trabajando. Aunque hoy en día existen mejores opciones para representar palabras en diferentes idiomas  que el uso de Word2Vec (como el [Universal Sentence Encoder](https://tfhub.dev/google/universal-sentence-encoder/1)]), en este apartado vamos a cargar un [Word2Vec embedding en español](https://github.com/aitoralmeida/spanish_word2vec)l creado con datos de noticias, Wilipedia y el BOE entre otros y no disponible de forma nativa en la librería de Gensim.\n"
      ],
      "metadata": {
        "id": "rd-oldTUoZQk"
      }
    },
    {
      "cell_type": "markdown",
      "source": [
        "En primer lugar descargamos y hacemos unzip del modelo:"
      ],
      "metadata": {
        "id": "W9eU9vuVoZUf"
      }
    },
    {
      "cell_type": "code",
      "source": [
        "!wget https://zenodo.org/record/1410403/files/keyed_vectors.zip?download=1\n",
        "!unzip /content/keyed_vectors.zip?download=1"
      ],
      "metadata": {
        "colab": {
          "base_uri": "https://localhost:8080/"
        },
        "id": "iKLmbomPmTlA",
        "outputId": "0319d51d-6e11-4b44-ad2d-26fce24d934d"
      },
      "execution_count": 59,
      "outputs": [
        {
          "output_type": "stream",
          "name": "stdout",
          "text": [
            "--2022-05-21 14:18:26--  https://zenodo.org/record/1410403/files/keyed_vectors.zip?download=1\n",
            "Resolving zenodo.org (zenodo.org)... 137.138.76.77\n",
            "Connecting to zenodo.org (zenodo.org)|137.138.76.77|:443... connected.\n",
            "HTTP request sent, awaiting response... 200 OK\n",
            "Length: 2933030481 (2.7G) [application/octet-stream]\n",
            "Saving to: ‘keyed_vectors.zip?download=1’\n",
            "\n",
            "keyed_vectors.zip?d 100%[===================>]   2.73G  27.7MB/s    in 55s     \n",
            "\n",
            "2022-05-21 14:19:22 (51.1 MB/s) - ‘keyed_vectors.zip?download=1’ saved [2933030481/2933030481]\n",
            "\n",
            "Archive:  /content/keyed_vectors.zip?download=1\n",
            "  inflating: complete.kv             \n",
            "  inflating: complete.kv.vectors.npy  \n"
          ]
        }
      ]
    },
    {
      "cell_type": "markdown",
      "source": [
        "Una vez descargado y descomprimido, cargamos los ``KeyedVectors``, una manera de almacenar un embedding como un diccionario que permite ahorrar espacio de almacenamiento y memoria.\n"
      ],
      "metadata": {
        "id": "acKSCMVdpXFw"
      }
    },
    {
      "cell_type": "code",
      "source": [
        "from gensim.models import KeyedVectors\n",
        "word_vectors = KeyedVectors.load('complete.kv', mmap='r')\n"
      ],
      "metadata": {
        "id": "D9JYzEgXpflg"
      },
      "execution_count": 62,
      "outputs": []
    },
    {
      "cell_type": "markdown",
      "source": [
        "Una vez cargado, podemos aplicar las funciones del embedding disponibles en Gensim, además de obtener la representación vectorial de cada palabra."
      ],
      "metadata": {
        "id": "VurIInUuqtfw"
      }
    },
    {
      "cell_type": "code",
      "source": [
        "word_vectors.most_similar(positive=[\"mujer\",\"rey\"],negative=[\"hombre\"])"
      ],
      "metadata": {
        "colab": {
          "base_uri": "https://localhost:8080/"
        },
        "id": "21kuM_Qvq09L",
        "outputId": "0d93dfff-f005-42c9-9808-13d232b66ad4"
      },
      "execution_count": 63,
      "outputs": [
        {
          "output_type": "execute_result",
          "data": {
            "text/plain": [
              "[('reina', 0.7011107802391052),\n",
              " ('princesa', 0.6539173126220703),\n",
              " ('emperatriz', 0.6132392883300781),\n",
              " ('esposa', 0.5980263948440552),\n",
              " ('doncella', 0.596245527267456),\n",
              " ('dama', 0.5885013341903687),\n",
              " ('infanta', 0.5754831433296204),\n",
              " ('concubina', 0.5528373122215271),\n",
              " ('hija', 0.5507358312606812),\n",
              " ('viuda', 0.538551390171051)]"
            ]
          },
          "metadata": {},
          "execution_count": 63
        }
      ]
    },
    {
      "cell_type": "code",
      "source": [
        "word_vectors.similar_by_word(\"virus\")"
      ],
      "metadata": {
        "colab": {
          "base_uri": "https://localhost:8080/"
        },
        "id": "yKCglNDLrELb",
        "outputId": "6581e6a9-15ea-4c9b-d4d5-387836b396ad"
      },
      "execution_count": 64,
      "outputs": [
        {
          "output_type": "execute_result",
          "data": {
            "text/plain": [
              "[('retrovirus', 0.759166955947876),\n",
              " ('bacilo', 0.6934126615524292),\n",
              " ('patógeno', 0.6908407211303711),\n",
              " ('Ébola', 0.6901521682739258),\n",
              " ('microorganismo', 0.6858637928962708),\n",
              " ('microbio', 0.68221116065979),\n",
              " ('ántrax', 0.6744674444198608),\n",
              " ('filovirus', 0.6674036979675293),\n",
              " ('parásito', 0.6608957052230835),\n",
              " ('carbunco', 0.6542395949363708)]"
            ]
          },
          "metadata": {},
          "execution_count": 64
        }
      ]
    },
    {
      "cell_type": "code",
      "source": [
        "word_vectors.get_vector(\"hola\")"
      ],
      "metadata": {
        "id": "Jvpt2dHurLoi"
      },
      "execution_count": null,
      "outputs": []
    },
    {
      "cell_type": "markdown",
      "source": [
        "### Entrenamiento de nuestro propio embedding"
      ],
      "metadata": {
        "id": "H6GvKoGbmZmg"
      }
    },
    {
      "cell_type": "markdown",
      "source": [
        "Los embeddings generalistas son populares para trabajar con cualquier tipo de datos. Sin embargo, es posible que en aplicaciones específicas no funcionen de forma óptima. \n",
        "\n",
        "Hoy en día se pueden construir embeddings contextuales que tienen un mejor funcionamiento, pero requieren una mayor capacidad de cómputo y recursos. \n",
        "\n",
        "En este subapartado vamos a ver como entrenar un embedding con un conjunto de datos público y vamos a comprobar su funcionamiento. "
      ],
      "metadata": {
        "id": "Nbap1cuourZg"
      }
    },
    {
      "cell_type": "markdown",
      "source": [
        "En primer lugar descargamos y descomprimimos el conjunto de datos de entrenamiento de la [Tarea MESINESP (MEdical Semantic Indexing in Spanish)](https://temu.bsc.es/mesinesp2/). Este conjunto de datos está compuesto por un conjunto de abstracts de artículos científicos extraidos de repositorios en español. "
      ],
      "metadata": {
        "id": "q8nf7CqPbHFe"
      }
    },
    {
      "cell_type": "code",
      "source": [
        "import nltk\n",
        "from nltk.corpus import stopwords\n",
        "from gensim.models import Word2Vec,KeyedVectors\n",
        "from gensim.test.utils import datapath\n",
        "import re\n",
        "import unicodedata\n",
        "from tqdm import tqdm\n",
        "import gensim\n",
        "import multiprocessing\n",
        "import random\n",
        "from gensim.models.phrases import Phrases, Phraser\n",
        "\n",
        "nltk.download('stopwords')\n",
        "\n",
        "!wget https://zenodo.org/record/5602914/files/Subtrack1-Scientific_Literature.zip?download=1\n",
        "!unzip /content/Subtrack1-Scientific_Literature.zip?download=1"
      ],
      "metadata": {
        "colab": {
          "base_uri": "https://localhost:8080/"
        },
        "id": "W87q8yuph6RQ",
        "outputId": "d9c9ec15-cd47-4a97-8ef8-027686bff571"
      },
      "execution_count": 66,
      "outputs": [
        {
          "output_type": "stream",
          "name": "stdout",
          "text": [
            "[nltk_data] Downloading package stopwords to /root/nltk_data...\n",
            "[nltk_data]   Unzipping corpora/stopwords.zip.\n",
            "--2022-05-21 14:38:50--  https://zenodo.org/record/5602914/files/Subtrack1-Scientific_Literature.zip?download=1\n",
            "Resolving zenodo.org (zenodo.org)... 137.138.76.77\n",
            "Connecting to zenodo.org (zenodo.org)|137.138.76.77|:443... connected.\n",
            "HTTP request sent, awaiting response... 200 OK\n",
            "Length: 222445275 (212M) [application/octet-stream]\n",
            "Saving to: ‘Subtrack1-Scientific_Literature.zip?download=1’\n",
            "\n",
            "Subtrack1-Scientifi 100%[===================>] 212.14M  21.3MB/s    in 7.1s    \n",
            "\n",
            "2022-05-21 14:38:59 (30.0 MB/s) - ‘Subtrack1-Scientific_Literature.zip?download=1’ saved [222445275/222445275]\n",
            "\n",
            "Archive:  /content/Subtrack1-Scientific_Literature.zip?download=1\n",
            "   creating: Subtrack1-Scientific_Literature/\n",
            "   creating: Subtrack1-Scientific_Literature/Development/\n",
            "  inflating: Subtrack1-Scientific_Literature/Development/development_set_subtrack1.json  \n",
            "   creating: Subtrack1-Scientific_Literature/Test/\n",
            "  inflating: Subtrack1-Scientific_Literature/Test/test_set_subtrack1.json  \n",
            "   creating: Subtrack1-Scientific_Literature/Train/\n",
            "  inflating: Subtrack1-Scientific_Literature/Train/training_set_subtrack1_all.json  \n",
            "  inflating: Subtrack1-Scientific_Literature/Train/training_set_subtrack1_only_articles.json  \n"
          ]
        }
      ]
    },
    {
      "cell_type": "markdown",
      "source": [
        "Después cargamos el archivo _*.json_ en un diccionario, e iteramos por cada elemento de la lista cogiendo el campo \"abstractText\", que contiene el abstract de cada artículo.\n",
        "\n",
        "Para acelerar el proceso de cálculo, solo trabajaremos con los primeros 2500 artículos (el corpus tiene más de 200000)"
      ],
      "metadata": {
        "id": "BtqTMMHNcUZK"
      }
    },
    {
      "cell_type": "code",
      "source": [
        "import json\n",
        "with open(\"/content/Subtrack1-Scientific_Literature/Train/training_set_subtrack1_only_articles.json\", 'r') as f:\n",
        "  biomed_dict = json.load(f)\n",
        "\n",
        "documentos = [doc[\"abstractText\"] for doc in biomed_dict[\"articles\"]][:2500]\n"
      ],
      "metadata": {
        "id": "lkmMzIgph6aN"
      },
      "execution_count": 67,
      "outputs": []
    },
    {
      "cell_type": "markdown",
      "source": [
        "Creamos la función ``clean_data`` que realizará un preprocesado a un documento de entrada: pasará a minúsculas, sustituirá dígitos por espacios, tokenizará, eliminará stopwords y quitará tokens menores o iguales de 2 caracteres."
      ],
      "metadata": {
        "id": "GR0qFNY1cyMJ"
      }
    },
    {
      "cell_type": "code",
      "source": [
        "stopwords_list=stopwords.words('spanish')\n",
        "def clean_data(w):\n",
        "    w = w.lower()\n",
        "    w=re.sub(r'[^\\w\\s]','',w)\n",
        "    w=re.sub(r\"([0-9])\", r\" \",w)\n",
        "    words = w.split() \n",
        "    clean_words = [word for word in words if (word not in stopwords_list) and len(word) > 2]\n",
        "    return \" \".join(clean_words)"
      ],
      "metadata": {
        "id": "H3zo1cdlkWrW"
      },
      "execution_count": 68,
      "outputs": []
    },
    {
      "cell_type": "markdown",
      "source": [
        "Creamos una función generator para trabajar más eficientemente en memoria"
      ],
      "metadata": {
        "id": "IoqWDMCZdBWa"
      }
    },
    {
      "cell_type": "code",
      "source": [
        "def get_inp(documentos):\n",
        "    sent=list(map(clean_data,documentos))\n",
        "    for lines in tqdm(sent):\n",
        "        yield lines.split()\n"
      ],
      "metadata": {
        "id": "XMgr90kxkfyb"
      },
      "execution_count": 69,
      "outputs": []
    },
    {
      "cell_type": "markdown",
      "source": [
        "Aplicamos función sobre documentos:"
      ],
      "metadata": {
        "id": "ZldJgTOJdna3"
      }
    },
    {
      "cell_type": "code",
      "source": [
        "sent = [row for row in get_inp(documentos)]"
      ],
      "metadata": {
        "colab": {
          "base_uri": "https://localhost:8080/"
        },
        "id": "-sI8WZ3YdWLH",
        "outputId": "06d77987-b194-4470-8421-a783b7a36281"
      },
      "execution_count": 70,
      "outputs": [
        {
          "output_type": "stream",
          "name": "stderr",
          "text": [
            "100%|██████████| 2500/2500 [00:00<00:00, 64040.65it/s]\n"
          ]
        }
      ]
    },
    {
      "cell_type": "markdown",
      "source": [
        "Entrenamos el modelo [Phrases](https://radimrehurek.com/gensim/models/phrases.html#gensim.models.phrases.FrozenPhrases) de gensim para detectar bigramas presentes en nuestros datos. En este caso se considerarán conjutos de tokens que al menos aparezcan 20 veces en nuestro corpus. \n",
        "\n",
        "Además, utilizamos el método Phraser para mejorar el rendimiento de Gensim en pasos posteriores. "
      ],
      "metadata": {
        "id": "X0VyP-iQdvHw"
      }
    },
    {
      "cell_type": "code",
      "source": [
        "phrases = Phraser(Phrases(sent, min_count=20, progress_per=10000))\n"
      ],
      "metadata": {
        "id": "770MFAIaUv7V"
      },
      "execution_count": 71,
      "outputs": []
    },
    {
      "cell_type": "markdown",
      "source": [
        "Aplicamos el modelo a nuestro conjunto de datos:"
      ],
      "metadata": {
        "id": "YS_QCKJfelIw"
      }
    },
    {
      "cell_type": "code",
      "source": [
        "sentences = phrases[sent]"
      ],
      "metadata": {
        "id": "wf3HqoQ-edLV"
      },
      "execution_count": 72,
      "outputs": []
    },
    {
      "cell_type": "markdown",
      "source": [
        "En el documento del índice 3, se puede observar que se ha aplicado con éxito. El término \"atención_primaria\" es la unión de los tokens \"atención\" y \"primaria\" que aparecía de forma continua en al menos 20 ocasiones dentro del corpus"
      ],
      "metadata": {
        "id": "7MEuAeHzev6C"
      }
    },
    {
      "cell_type": "code",
      "source": [
        "sentences[3]"
      ],
      "metadata": {
        "id": "-Mmoa0EQVB1H",
        "colab": {
          "base_uri": "https://localhost:8080/"
        },
        "outputId": "a6f232d4-bcc0-4afb-b27d-b214287e1bc2"
      },
      "execution_count": 73,
      "outputs": [
        {
          "output_type": "execute_result",
          "data": {
            "text/plain": [
              "['introducción',\n",
              " 'pandemia',\n",
              " 'ocasionada',\n",
              " 'sarscov',\n",
              " 'supuesto',\n",
              " 'reestructuración',\n",
              " 'precedentes',\n",
              " 'asistencia',\n",
              " 'sanitaria',\n",
              " 'centros',\n",
              " 'salud',\n",
              " 'objetivo_conocer',\n",
              " 'percepciones',\n",
              " 'personal',\n",
              " 'médico',\n",
              " 'centro',\n",
              " 'salud',\n",
              " 'albaycín',\n",
              " 'respuesta',\n",
              " 'equipo',\n",
              " 'atención_primaria',\n",
              " 'pandemia',\n",
              " 'covid',\n",
              " 'meses',\n",
              " 'marzo',\n",
              " 'abril',\n",
              " 'métodos_estudio',\n",
              " 'cualitativo',\n",
              " 'observacional',\n",
              " 'orientación',\n",
              " 'fenomenológica',\n",
              " 'mediante',\n",
              " 'entrevistas',\n",
              " 'individuales',\n",
              " 'ámbito',\n",
              " 'estudio',\n",
              " 'centro',\n",
              " 'salud',\n",
              " 'albaycín',\n",
              " 'saturación',\n",
              " 'teórica',\n",
              " 'determinó',\n",
              " 'tamaño',\n",
              " 'muestra',\n",
              " 'totalidad',\n",
              " 'plantilla',\n",
              " 'médica',\n",
              " 'llevó_cabo',\n",
              " 'análisis',\n",
              " 'narrativo',\n",
              " 'contenido',\n",
              " 'resultados',\n",
              " 'discursos',\n",
              " 'muestran',\n",
              " 'seis',\n",
              " 'categorías',\n",
              " 'análisis',\n",
              " 'organización',\n",
              " 'toma',\n",
              " 'decisiones',\n",
              " 'características',\n",
              " 'respuesta',\n",
              " 'dada',\n",
              " 'mantenimiento',\n",
              " 'pilares',\n",
              " 'atención_primaria',\n",
              " 'cualidades',\n",
              " 'equipo',\n",
              " 'potenciadas',\n",
              " 'rol',\n",
              " 'docencia',\n",
              " 'nuevas',\n",
              " 'dinámicas',\n",
              " 'generadas',\n",
              " 'resultados',\n",
              " 'describen',\n",
              " 'respuesta',\n",
              " 'adecuada',\n",
              " 'coordinada',\n",
              " 'comunidad',\n",
              " 'anticipada',\n",
              " 'directrices',\n",
              " 'institucionales',\n",
              " 'toma',\n",
              " 'decisiones',\n",
              " 'sido',\n",
              " 'consensuada',\n",
              " 'horizontal',\n",
              " 'potenciándose',\n",
              " 'cualidades',\n",
              " 'equipo',\n",
              " 'pesar',\n",
              " 'limitaciones',\n",
              " 'mantenido',\n",
              " 'accesibilidad',\n",
              " 'longitudinalidad',\n",
              " 'pandemia',\n",
              " 'visto',\n",
              " 'afectada',\n",
              " 'calidad',\n",
              " 'asistencial',\n",
              " 'actividad',\n",
              " 'docente',\n",
              " 'discusión',\n",
              " 'liderazgo',\n",
              " 'transformacional',\n",
              " 'refuerza',\n",
              " 'vínculo',\n",
              " 'profesionales',\n",
              " 'fomenta',\n",
              " 'participación',\n",
              " 'activa',\n",
              " 'residentes',\n",
              " 'permite',\n",
              " 'respuesta',\n",
              " 'satisfactoria',\n",
              " 'situación',\n",
              " 'emergente',\n",
              " 'contar',\n",
              " 'participación',\n",
              " 'comunidad',\n",
              " 'puede',\n",
              " 'generar',\n",
              " 'confianza',\n",
              " 'organización',\n",
              " 'mejorar',\n",
              " 'resultados',\n",
              " 'salud']"
            ]
          },
          "metadata": {},
          "execution_count": 73
        }
      ]
    },
    {
      "cell_type": "markdown",
      "source": [
        "Una vez preparado el corpus, vamos a proceder con el entrenamiento del modelo [Word2Vec](https://radimrehurek.com/gensim/models/word2vec.html#gensim.models.word2vec.Word2Vec). Para ello utilizaremos las capacidades multiprocesador de Gensim y utilizaremos unos parámetros típicos en este tipo de modelo.\n",
        "\n",
        "En la estrategia de entrenamiento CBOW especificada en el paper de Word2Vec, se toman ventanas de tamaño N de cada documento. Entonces, se extrae la palabra central del enventanado y se entrena un modelo capaz de predecir esa palabra central a partir del resto (el contexto).\n",
        "\n",
        "El término \"window\" indica el tamaño de la ventana elegido para subdividir cada uno de nuestros documentos. La función se encarga de transformar todo el corpus (train/test, transformación de las palabras en vectores, backprogataion...), pero al final internamente se tendrá el siguiente formato de dato:\n",
        "\n",
        "\n",
        "Palabras de contexto | Word vector dle contexto | Palabra central | vector de la palabra central|\n",
        "-----|----------|----------|----------------------|\n",
        "yo quiero y un agua | media de los one-hot vectors |agua |[ 0 0 0 .... 1.... 0 |"
      ],
      "metadata": {
        "id": "ZOflx1G3gjax"
      }
    },
    {
      "cell_type": "code",
      "source": [
        "import multiprocessing\n",
        "from gensim.models import Word2Vec\n",
        "cores = multiprocessing.cpu_count() # Count the number of cores in a computer\n",
        "w2v_model = Word2Vec(min_count=20,\n",
        "                     window=5,\n",
        "                     size=300,\n",
        "                     sample=6e-5, \n",
        "                     alpha=0.03, \n",
        "                     min_alpha=0.0007, \n",
        "                     negative=20, \n",
        "                     workers=cores-1)"
      ],
      "metadata": {
        "id": "muoHAtGBVgfs"
      },
      "execution_count": 74,
      "outputs": []
    },
    {
      "cell_type": "markdown",
      "source": [
        "Una vez creado el objeto Word2Vec, procedemos a generar un vocabulario para el embedding, que será extraido a partir de nuestro corpus."
      ],
      "metadata": {
        "id": "J6av18Oth___"
      }
    },
    {
      "cell_type": "code",
      "source": [
        "w2v_model.build_vocab(sentences, progress_per=10000)"
      ],
      "metadata": {
        "id": "al2bclCviAOY"
      },
      "execution_count": 76,
      "outputs": []
    },
    {
      "cell_type": "markdown",
      "source": [
        "Por último se procede a entrenar el embedding, para posteriormente guardarlo (y cargarlo para verificar que se ha aplicado correctamete)"
      ],
      "metadata": {
        "id": "l5AgVSubiKIf"
      }
    },
    {
      "cell_type": "code",
      "source": [
        "w2v_model.train(sentences, total_examples=w2v_model.corpus_count, epochs=30, report_delay=1)"
      ],
      "metadata": {
        "colab": {
          "base_uri": "https://localhost:8080/"
        },
        "id": "ZbIsBtsuiKcA",
        "outputId": "4637677e-205d-41a8-ecfb-0b3286ab86fe"
      },
      "execution_count": 77,
      "outputs": [
        {
          "output_type": "execute_result",
          "data": {
            "text/plain": [
              "(2111923, 7027980)"
            ]
          },
          "metadata": {},
          "execution_count": 77
        }
      ]
    },
    {
      "cell_type": "code",
      "source": [
        "w2v_model.wv.save_word2vec_format(\"guardar.bin\",binary=True)\n",
        "saved_model_path='/content/guardar.bin'\n",
        "trained_model = KeyedVectors.load_word2vec_format(saved_model_path, binary=True)\n"
      ],
      "metadata": {
        "id": "heJafBoDapzx"
      },
      "execution_count": 78,
      "outputs": []
    },
    {
      "cell_type": "markdown",
      "source": [
        "Procedemos a ver el funcionamiento del embedding buscando sinónimos a algunas palabras de ejemplo presentes en el corpus."
      ],
      "metadata": {
        "id": "x2_IHs-QiY0U"
      }
    },
    {
      "cell_type": "code",
      "source": [
        "trained_model.wv.most_similar(positive=[\"virus\"], topn=3)"
      ],
      "metadata": {
        "colab": {
          "base_uri": "https://localhost:8080/"
        },
        "id": "tlgKA3JwWJo9",
        "outputId": "16857b5a-5877-4399-9269-6cf6c5bf6c34"
      },
      "execution_count": 79,
      "outputs": [
        {
          "output_type": "stream",
          "name": "stderr",
          "text": [
            "/usr/local/lib/python3.7/dist-packages/ipykernel_launcher.py:1: DeprecationWarning: Call to deprecated `wv` (Attribute will be removed in 4.0.0, use self instead).\n",
            "  \"\"\"Entry point for launching an IPython kernel.\n"
          ]
        },
        {
          "output_type": "execute_result",
          "data": {
            "text/plain": [
              "[('inmunodeficiencia', 0.9798617959022522),\n",
              " ('hepatitis', 0.9154981374740601),\n",
              " ('humana', 0.9154467582702637)]"
            ]
          },
          "metadata": {},
          "execution_count": 79
        }
      ]
    },
    {
      "cell_type": "code",
      "source": [
        "trained_model.wv.most_similar(positive=[\"vph\"], topn=10)"
      ],
      "metadata": {
        "colab": {
          "base_uri": "https://localhost:8080/"
        },
        "id": "yPLTRucra81c",
        "outputId": "f23936d3-1458-40bc-8e60-203ae38eda92"
      },
      "execution_count": 80,
      "outputs": [
        {
          "output_type": "stream",
          "name": "stderr",
          "text": [
            "/usr/local/lib/python3.7/dist-packages/ipykernel_launcher.py:1: DeprecationWarning: Call to deprecated `wv` (Attribute will be removed in 4.0.0, use self instead).\n",
            "  \"\"\"Entry point for launching an IPython kernel.\n"
          ]
        },
        {
          "output_type": "execute_result",
          "data": {
            "text/plain": [
              "[('hepatitis', 0.8859561085700989),\n",
              " ('adn', 0.8767180442810059),\n",
              " ('bacterias', 0.8707355260848999),\n",
              " ('infectados', 0.854983925819397),\n",
              " ('agente', 0.8518925309181213),\n",
              " ('virus', 0.848272442817688),\n",
              " ('infección_vih', 0.838520884513855),\n",
              " ('negativos', 0.829916775226593),\n",
              " ('tipos', 0.8254539370536804),\n",
              " ('natural', 0.8254218101501465)]"
            ]
          },
          "metadata": {},
          "execution_count": 80
        }
      ]
    },
    {
      "cell_type": "code",
      "source": [
        "print(trained_model.similarity('virus', 'covid'))"
      ],
      "metadata": {
        "colab": {
          "base_uri": "https://localhost:8080/"
        },
        "id": "mmeRC4Lsj2Et",
        "outputId": "721e2c9b-637b-4149-ab9c-dc1bfa7c6ae0"
      },
      "execution_count": 81,
      "outputs": [
        {
          "output_type": "stream",
          "name": "stdout",
          "text": [
            "0.6454399\n"
          ]
        }
      ]
    },
    {
      "cell_type": "markdown",
      "source": [
        "Otra opción es visualizar el embedding, para ver si palabras similares están cercanas entre si. Para ello, vamos a extraer el vocabulario del modelo e introducir en una matriz X los vectores de todas las palabras"
      ],
      "metadata": {
        "id": "m39ZDuK7i2Ei"
      }
    },
    {
      "cell_type": "code",
      "source": [
        "vocab = list(trained_model.wv.vocab.keys())\n",
        "X = trained_model.wv[vocab]"
      ],
      "metadata": {
        "colab": {
          "base_uri": "https://localhost:8080/"
        },
        "id": "FvWAJE4mYUaX",
        "outputId": "376d54bb-dc04-4edd-d4c1-b57a96649810"
      },
      "execution_count": 82,
      "outputs": [
        {
          "output_type": "stream",
          "name": "stderr",
          "text": [
            "/usr/local/lib/python3.7/dist-packages/ipykernel_launcher.py:1: DeprecationWarning: Call to deprecated `wv` (Attribute will be removed in 4.0.0, use self instead).\n",
            "  \"\"\"Entry point for launching an IPython kernel.\n",
            "/usr/local/lib/python3.7/dist-packages/ipykernel_launcher.py:2: DeprecationWarning: Call to deprecated `wv` (Attribute will be removed in 4.0.0, use self instead).\n",
            "  \n"
          ]
        }
      ]
    },
    {
      "cell_type": "markdown",
      "source": [
        "Hacemos una reducciónn de dimensionalidad con t-sne a dos dimensiones, para poder mostrar cada posición en un espacio 2D."
      ],
      "metadata": {
        "id": "1hQkdTJUjXeZ"
      }
    },
    {
      "cell_type": "code",
      "source": [
        "from sklearn.manifold import TSNE\n",
        "import re\n",
        "import matplotlib.pyplot as plt\n",
        "tsne = TSNE(n_components=2)\n",
        "X_tsne = tsne.fit_transform(X)\n",
        "# Transformamos a dataframe para facilitar su plotting\n",
        "import pandas as pd\n",
        "df = pd.DataFrame(X_tsne, index=vocab, columns=['x', 'y'])"
      ],
      "metadata": {
        "colab": {
          "base_uri": "https://localhost:8080/"
        },
        "id": "_Cy5hIwXYUeE",
        "outputId": "5a812eb0-0416-47cf-eb5a-b5c523444ff5"
      },
      "execution_count": 83,
      "outputs": [
        {
          "output_type": "stream",
          "name": "stderr",
          "text": [
            "/usr/local/lib/python3.7/dist-packages/sklearn/manifold/_t_sne.py:783: FutureWarning: The default initialization in TSNE will change from 'random' to 'pca' in 1.2.\n",
            "  FutureWarning,\n",
            "/usr/local/lib/python3.7/dist-packages/sklearn/manifold/_t_sne.py:793: FutureWarning: The default learning rate in TSNE will change from 200.0 to 'auto' in 1.2.\n",
            "  FutureWarning,\n"
          ]
        }
      ]
    },
    {
      "cell_type": "markdown",
      "source": [
        "Cogemos una muestra, para visualizarlo de forma más clara."
      ],
      "metadata": {
        "id": "MruZ92l7jmx5"
      }
    },
    {
      "cell_type": "code",
      "source": [
        "df_2 = df.sample(200)"
      ],
      "metadata": {
        "id": "qVxWsUV9bac8"
      },
      "execution_count": 84,
      "outputs": []
    },
    {
      "cell_type": "code",
      "source": [
        "fig = plt.figure(figsize=(24,16))\n",
        "\n",
        "ax = fig.add_subplot(1, 1, 1)\n",
        "\n",
        "ax.scatter(df_2['x'], df_2['y'])\n",
        "\n",
        "for word, pos in df_2.iterrows():\n",
        "    ax.annotate(word, pos)\n"
      ],
      "metadata": {
        "colab": {
          "base_uri": "https://localhost:8080/",
          "height": 918
        },
        "id": "MAUKuAs8Ye8H",
        "outputId": "88f4851b-452c-4270-936e-41b9c4f2bd9c"
      },
      "execution_count": 85,
      "outputs": [
        {
          "output_type": "display_data",
          "data": {
            "text/plain": [
              "<Figure size 1728x1152 with 1 Axes>"
            ],
            "image/png": "[encoded data removed]"
          },
          "metadata": {
            "needs_background": "light"
          }
        }
      ]
    }
  ]
}