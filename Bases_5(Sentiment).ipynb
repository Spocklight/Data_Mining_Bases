{
  "nbformat": 4,
  "nbformat_minor": 0,
  "metadata": {
    "colab": {
      "name": "Copiar_antes_de_usar_AnalisisSentimiento_copia_alumno.ipynb",
      "provenance": [],
      "collapsed_sections": [],
      "include_colab_link": true
    },
    "kernelspec": {
      "name": "python3",
      "display_name": "Python 3"
    }
  },
  "cells": [
    {
      "cell_type": "markdown",
      "metadata": {
        "id": "view-in-github",
        "colab_type": "text"
      },
      "source": [
        "<a href=\"https://colab.research.google.com/github/Spocklight/Data_Mining_Bases/blob/main/Bases_5(Sentiment).ipynb\" target=\"_parent\"><img src=\"https://colab.research.google.com/assets/colab-badge.svg\" alt=\"Open In Colab\"/></a>"
      ]
    },
    {
      "cell_type": "markdown",
      "source": [
        "A continuación trataremos cómo cuantificar el sentimiento de documentos textuales. Para ello empleamos en este caso la librería TextBlow, que es similar a spicy en el sentido de que vamos a utilizar un modelo pre-entrenado que nos devolverá todos los tokens y otros parámetros, entre los que se encuentra el sentimiento."
      ],
      "metadata": {
        "id": "hhgjHBz9pRId"
      }
    },
    {
      "cell_type": "code",
      "metadata": {
        "id": "wIK6VtAwvbT7"
      },
      "source": [
        "!pip install emosent-py\n",
        "!pip install emoji_extractor\n",
        "!pip install emoji\n",
        "!pip install vaderSentiment\n",
        "from textblob import TextBlob\n",
        "!wget https://www.clarin.si/repository/xmlui/handle/11356/1048/allzip\n",
        "!unzip allzip\n",
        "import nltk\n",
        "nltk.download('punkt')\n",
        "nltk.download('averaged_perceptron_tagger')\n",
        "nltk.download('opinion_lexicon')\n",
        "nltk.download('subjectivity')\n",
        "nltk.download('vader_lexicon')\n",
        "nltk.download('wordnet')"
      ],
      "execution_count": null,
      "outputs": []
    },
    {
      "cell_type": "code",
      "metadata": {
        "id": "1sHnqbQw2fFA"
      },
      "source": [
        "import pandas as pd"
      ],
      "execution_count": 2,
      "outputs": []
    },
    {
      "cell_type": "markdown",
      "metadata": {
        "id": "pZMiGL9whjVJ"
      },
      "source": [
        "Leemos y procesamos el diccionario de \"Emoji Sentiment\""
      ]
    },
    {
      "cell_type": "code",
      "metadata": {
        "id": "UoRjPdDRbX9Z"
      },
      "source": [
        "# Preparar diccionario de emojis\n",
        "def load_emoji_sentiment(path):\n",
        "  # Cargamos el csv de emoji_sentiment\n",
        "  emoji_sent_df = pd.read_csv(path,sep=\",\")\n",
        "  # Calculamos los scores dividiendo el número de emojis negativos y entre el total\n",
        "  emoji_sent_df[\"Negative\"] = emoji_sent_df[\"Negative\"]/emoji_sent_df[\"Occurrences\"]\n",
        "  emoji_sent_df[\"Neutral\"] = emoji_sent_df[\"Neutral\"]/emoji_sent_df[\"Occurrences\"]\n",
        "  emoji_sent_df[\"Positive\"] = emoji_sent_df[\"Positive\"]/emoji_sent_df[\"Occurrences\"]\n",
        "  # Transformamos a dict\n",
        "  emoji_sent_df = emoji_sent_df.set_index('Emoji')\n",
        "  emoji_dict = emoji_sent_df.to_dict(orient=\"index\")\n",
        "  return emoji_dict\n",
        "\n",
        "emoji_dict = load_emoji_sentiment(\"Emoji_Sentiment_Data_v1.0.csv\")"
      ],
      "execution_count": 3,
      "outputs": []
    },
    {
      "cell_type": "code",
      "source": [
        "emoji_dict[\"⚡\"]"
      ],
      "metadata": {
        "id": "zU7YlUUg6hPG",
        "outputId": "2c0b1fc4-3519-4b59-bf1d-c133d4eeac69",
        "colab": {
          "base_uri": "https://localhost:8080/"
        }
      },
      "execution_count": 10,
      "outputs": [
        {
          "output_type": "execute_result",
          "data": {
            "text/plain": [
              "{'Negative': 0.04065040650406504,\n",
              " 'Neutral': 0.7398373983739838,\n",
              " 'Occurrences': 246,\n",
              " 'Position': 0.778780762,\n",
              " 'Positive': 0.21951219512195122,\n",
              " 'Unicode block': 'Miscellaneous Symbols',\n",
              " 'Unicode codepoint': '0x26a1',\n",
              " 'Unicode name': 'HIGH VOLTAGE SIGN'}"
            ]
          },
          "metadata": {},
          "execution_count": 10
        }
      ]
    },
    {
      "cell_type": "markdown",
      "metadata": {
        "id": "bXBdB1EUvc9a"
      },
      "source": [
        "# Extracción de sentimiento"
      ]
    },
    {
      "cell_type": "markdown",
      "metadata": {
        "id": "mcH_OdWHvmLX"
      },
      "source": [
        "Hemos comentado que se puede extraer la componente de sentimiento de varias formas:\n",
        "- Con librerías externas que tienen modelos pre-entrenados (textblob)\n",
        "- Con diccionarios de sentimiento (sentiment lexicons)\n",
        "- A traves de los emojis presentes en el texto"
      ]
    },
    {
      "cell_type": "code",
      "metadata": {
        "id": "JID16OPMxhr6"
      },
      "source": [
        "frase_no_emoji = \"I love that my phone can just combine emojis. I don't like the lack of nice apps.\"\n",
        "frase_emoji = \"I love that my phone can just combine emojis 😍😺👏. I don't like the lack of nice apps.\"\n"
      ],
      "execution_count": 11,
      "outputs": []
    },
    {
      "cell_type": "markdown",
      "metadata": {
        "id": "iK4a9E8mwHVC"
      },
      "source": [
        "## TextBlob\n",
        "\n",
        "Esta librería es muy sencilla y algo similar a Spacy. A partir de un texto puedes calcular múltiples parámetros entre los que se encuentra el sentimiento. Para ello, sólo hay que importar la clase TextBlob que se aplica a nuestro texto, y después podríamos extraer el sentimiento que tiene: tanto la polaridad como la subjetividad:\n",
        "```\n",
        "testimonial = TextBlob(\"Textblob is amazingly simple to use. What great fun!\")\n",
        "testimonial.sentiment\n",
        "```\n",
        "\n"
      ]
    },
    {
      "cell_type": "code",
      "metadata": {
        "id": "mPEajkwYw6bW",
        "outputId": "617d4c78-f8f2-44e7-b639-161318e64a6f",
        "colab": {
          "base_uri": "https://localhost:8080/"
        }
      },
      "source": [
        "frase_no_emoji_blob = TextBlob(frase_no_emoji)\n",
        "frase_emoji_blob = TextBlob(frase_emoji)\n",
        "print(frase_no_emoji_blob.sentiment)\n",
        "print(frase_emoji_blob.sentiment)"
      ],
      "execution_count": 12,
      "outputs": [
        {
          "output_type": "stream",
          "name": "stdout",
          "text": [
            "Sentiment(polarity=0.55, subjectivity=0.8)\n",
            "Sentiment(polarity=0.55, subjectivity=0.8)\n"
          ]
        }
      ]
    },
    {
      "cell_type": "markdown",
      "metadata": {
        "id": "N647mI2xx_Ja"
      },
      "source": [
        "TextBlob omite el emoticono. Podríamos sustituirlo por una frase utilizando un conversor. Para eso hay que extraer el emoji y sustituirlo por su descripción:\n"
      ]
    },
    {
      "cell_type": "code",
      "metadata": {
        "id": "JPptY6g4Blbs",
        "outputId": "49ec0414-efcc-4bf6-de7a-3476f866e00b",
        "colab": {
          "base_uri": "https://localhost:8080/"
        }
      },
      "source": [
        "from emoji_extractor.extract import Extractor\n",
        "extract = Extractor()\n",
        "emojis = extract.count_emoji(frase_emoji, check_first=False)\n",
        "emojis_list = [key for key, _  in emojis.most_common()]      #Utilizamos la sintaxis \"key for key, _\" para quedarnos solo con el primer elemento de la tupla, el emoji. No la cuenta.\n",
        "emojis_list\n"
      ],
      "execution_count": 15,
      "outputs": [
        {
          "output_type": "execute_result",
          "data": {
            "text/plain": [
              "['😍', '😺', '👏']"
            ]
          },
          "metadata": {},
          "execution_count": 15
        }
      ]
    },
    {
      "cell_type": "markdown",
      "metadata": {
        "id": "yaFaLTFKCU7y"
      },
      "source": [
        "Hemos extraid emojis de un texto, ahora vamos a sustituirlos por su descripción con la librería \"emoji\":"
      ]
    },
    {
      "cell_type": "code",
      "metadata": {
        "id": "T1cykkTXCaPU",
        "outputId": "fb053c3c-caf2-4b70-ec2d-d76dc072328f",
        "colab": {
          "base_uri": "https://localhost:8080/",
          "height": 36
        }
      },
      "source": [
        "import emoji\n",
        "import string\n",
        "emojis_description = emoji.demojize(\"\".join(emojis_list))\n",
        "emojis_description"
      ],
      "execution_count": 16,
      "outputs": [
        {
          "output_type": "execute_result",
          "data": {
            "text/plain": [
              "':smiling_face_with_heart-eyes::grinning_cat::clapping_hands:'"
            ],
            "application/vnd.google.colaboratory.intrinsic+json": {
              "type": "string"
            }
          },
          "metadata": {},
          "execution_count": 16
        }
      ]
    },
    {
      "cell_type": "code",
      "source": [
        "emojis_desc_final = emojis_description.replace(\"::\", \" \")\n",
        "emojis_desc_final = emojis_desc_final.replace(\"_\", \" \")\n",
        "emojis_desc_final = emojis_desc_final.replace(\":\", \"\")"
      ],
      "metadata": {
        "id": "JiDjTpaY54oY"
      },
      "execution_count": 32,
      "outputs": []
    },
    {
      "cell_type": "code",
      "source": [
        "emojis_desc_final"
      ],
      "metadata": {
        "id": "2rPrdbaM55Ju",
        "outputId": "084dd6a7-9e6e-401a-f080-ff247836df44",
        "colab": {
          "base_uri": "https://localhost:8080/",
          "height": 36
        }
      },
      "execution_count": 33,
      "outputs": [
        {
          "output_type": "execute_result",
          "data": {
            "text/plain": [
              "'smiling face with heart-eyes grinning cat clapping hands'"
            ],
            "application/vnd.google.colaboratory.intrinsic+json": {
              "type": "string"
            }
          },
          "metadata": {},
          "execution_count": 33
        }
      ]
    },
    {
      "cell_type": "markdown",
      "metadata": {
        "id": "BchzKEzxKl2p"
      },
      "source": [
        "Lematizamos (también podemos con Text Blob!)"
      ]
    },
    {
      "cell_type": "code",
      "metadata": {
        "id": "ka8OWf7gKotU",
        "outputId": "cf89b639-5e81-45b1-ab4f-877a1780909e",
        "colab": {
          "base_uri": "https://localhost:8080/",
          "height": 36
        }
      },
      "source": [
        "from textblob import Word \n",
        "emojis_blob = emojis_desc_final.split()\n",
        "emojis_lemmas = [Word(x).lemmatize(\"v\") for x in emojis_blob]\n",
        "emojis_lemmas = \" \".join(emojis_lemmas)\n",
        "emojis_lemmas"
      ],
      "execution_count": 34,
      "outputs": [
        {
          "output_type": "execute_result",
          "data": {
            "text/plain": [
              "'smile face with heart-eyes grin cat clap hand'"
            ],
            "application/vnd.google.colaboratory.intrinsic+json": {
              "type": "string"
            }
          },
          "metadata": {},
          "execution_count": 34
        }
      ]
    },
    {
      "cell_type": "code",
      "source": [
        "frase_emoji+ \" \" +emojis_lemmas"
      ],
      "metadata": {
        "id": "hxICZdb-_9Ul",
        "outputId": "66a4d84a-2ac3-461e-99da-ebff602edc92",
        "colab": {
          "base_uri": "https://localhost:8080/",
          "height": 36
        }
      },
      "execution_count": 36,
      "outputs": [
        {
          "output_type": "execute_result",
          "data": {
            "text/plain": [
              "\"I love that my phone can just combine emojis 😍😺👏. I don't like the lack of nice apps. smile face with heart-eyes grin cat clap hand\""
            ],
            "application/vnd.google.colaboratory.intrinsic+json": {
              "type": "string"
            }
          },
          "metadata": {},
          "execution_count": 36
        }
      ]
    },
    {
      "cell_type": "code",
      "metadata": {
        "id": "U90NW2cvDI1N",
        "outputId": "2122bd84-f535-4025-e519-e0b67bc75948",
        "colab": {
          "base_uri": "https://localhost:8080/"
        }
      },
      "source": [
        "final_emoji_sentence = TextBlob(frase_emoji+ \" \" +emojis_lemmas)\n",
        "print(frase_no_emoji_blob.sentiment)\n",
        "print(final_emoji_sentence.sentiment)"
      ],
      "execution_count": 35,
      "outputs": [
        {
          "output_type": "stream",
          "name": "stdout",
          "text": [
            "Sentiment(polarity=0.55, subjectivity=0.8)\n",
            "Sentiment(polarity=0.46666666666666673, subjectivity=0.5666666666666668)\n"
          ]
        }
      ]
    },
    {
      "cell_type": "markdown",
      "metadata": {
        "id": "-LBy1xm-MoDO"
      },
      "source": [
        "El valor de la polaridad es menor, porque aunque el token \"smile tiene una polaridad positiva\" el resto de token introducidos no tienen sentimiento, por lo que el promedio baja."
      ]
    },
    {
      "cell_type": "markdown",
      "metadata": {
        "id": "cPOJn0GJ9-EF"
      },
      "source": [
        "También se pueden utilizar la librería NLTK para algo similar con la función 'nltk.sentiment.util.demo_liu_hu_lexicon(frase_emoji)', que devuelve un valor de \"positivo\",\"negativo\" o \"neutro\"."
      ]
    },
    {
      "cell_type": "code",
      "metadata": {
        "id": "ew0nkkA397MO",
        "outputId": "29e497dd-57a2-4225-a3cb-813880946462",
        "colab": {
          "base_uri": "https://localhost:8080/"
        }
      },
      "source": [
        "from nltk.sentiment.vader import SentiText,SentimentIntensityAnalyzer #https://github.com/cjhutto/vaderSentiment\n",
        "sentsss = SentimentIntensityAnalyzer()\n",
        "sentsss"
      ],
      "execution_count": 39,
      "outputs": [
        {
          "output_type": "execute_result",
          "data": {
            "text/plain": [
              "<nltk.sentiment.vader.SentimentIntensityAnalyzer at 0x7fe8a2558e50>"
            ]
          },
          "metadata": {},
          "execution_count": 39
        }
      ]
    },
    {
      "cell_type": "code",
      "metadata": {
        "id": "1M0W2ogqfqrN",
        "outputId": "8c430cbc-7f15-416e-cf2d-49b93ca57620",
        "colab": {
          "base_uri": "https://localhost:8080/"
        }
      },
      "source": [
        "print(sentsss.polarity_scores(frase_emoji))\n",
        "print(sentsss.polarity_scores(frase_no_emoji))"
      ],
      "execution_count": 40,
      "outputs": [
        {
          "output_type": "stream",
          "name": "stdout",
          "text": [
            "{'neg': 0.091, 'neu': 0.52, 'pos': 0.388, 'compound': 0.7815}\n",
            "{'neg': 0.096, 'neu': 0.498, 'pos': 0.406, 'compound': 0.7815}\n"
          ]
        }
      ]
    },
    {
      "cell_type": "code",
      "metadata": {
        "id": "t6PYffsY_yNT",
        "outputId": "1efcb3bb-0657-4fee-a435-548cde235f26",
        "colab": {
          "base_uri": "https://localhost:8080/",
          "height": 393
        }
      },
      "source": [
        "from nltk.sentiment.util import demo_liu_hu_lexicon\n",
        "demo_liu_hu_lexicon(frase_emoji, plot=True)"
      ],
      "execution_count": 41,
      "outputs": [
        {
          "output_type": "stream",
          "name": "stdout",
          "text": [
            "Positive\n"
          ]
        },
        {
          "output_type": "stream",
          "name": "stderr",
          "text": [
            "/usr/local/lib/python3.7/dist-packages/nltk/sentiment/util.py:252: MatplotlibDeprecationWarning: Adding an axes using the same arguments as a previous axes currently reuses the earlier instance.  In a future version, a new instance will always be created and returned.  Meanwhile, this warning can be suppressed, and the future behavior ensured, by passing a unique label to each axes instance.\n",
            "  axes = plt.axes()\n",
            "/usr/local/lib/python3.7/dist-packages/matplotlib/backends/backend_agg.py:214: RuntimeWarning: Glyph 128079 missing from current font.\n",
            "  font.set_text(s, 0.0, flags=flags)\n",
            "/usr/local/lib/python3.7/dist-packages/matplotlib/backends/backend_agg.py:183: RuntimeWarning: Glyph 128079 missing from current font.\n",
            "  font.set_text(s, 0, flags=flags)\n"
          ]
        },
        {
          "output_type": "display_data",
          "data": {
            "text/plain": [
              "<Figure size 432x288 with 1 Axes>"
            ],
            "image/png": "[encoded data removed]"
          },
          "metadata": {
            "needs_background": "light"
          }
        }
      ]
    },
    {
      "cell_type": "code",
      "source": [
        "print(sentsss.polarity_scores(frase_emoji+ \" \" +emojis_lemmas))\n",
        "print(sentsss.polarity_scores(frase_no_emoji))"
      ],
      "metadata": {
        "id": "XnB4yiNNCSfS",
        "outputId": "b0630c85-da6a-48fc-fd70-35342023c944",
        "colab": {
          "base_uri": "https://localhost:8080/"
        }
      },
      "execution_count": 42,
      "outputs": [
        {
          "output_type": "stream",
          "name": "stdout",
          "text": [
            "{'neg': 0.057, 'neu': 0.461, 'pos': 0.482, 'compound': 0.9398}\n",
            "{'neg': 0.096, 'neu': 0.498, 'pos': 0.406, 'compound': 0.7815}\n"
          ]
        }
      ]
    },
    {
      "cell_type": "code",
      "source": [
        "emoji_process = frase_emoji+ \" \" +emojis_lemmas\n",
        "demo_liu_hu_lexicon(emoji_process, plot=True)"
      ],
      "metadata": {
        "id": "8dYZEH6lCdpo",
        "outputId": "23eb3cda-b659-4d1f-aff5-4ea58061bb4c",
        "colab": {
          "base_uri": "https://localhost:8080/",
          "height": 404
        }
      },
      "execution_count": 46,
      "outputs": [
        {
          "output_type": "stream",
          "name": "stdout",
          "text": [
            "Positive\n"
          ]
        },
        {
          "output_type": "stream",
          "name": "stderr",
          "text": [
            "/usr/local/lib/python3.7/dist-packages/nltk/sentiment/util.py:252: MatplotlibDeprecationWarning: Adding an axes using the same arguments as a previous axes currently reuses the earlier instance.  In a future version, a new instance will always be created and returned.  Meanwhile, this warning can be suppressed, and the future behavior ensured, by passing a unique label to each axes instance.\n",
            "  axes = plt.axes()\n",
            "/usr/local/lib/python3.7/dist-packages/matplotlib/backends/backend_agg.py:214: RuntimeWarning: Glyph 128079 missing from current font.\n",
            "  font.set_text(s, 0.0, flags=flags)\n",
            "/usr/local/lib/python3.7/dist-packages/matplotlib/backends/backend_agg.py:183: RuntimeWarning: Glyph 128079 missing from current font.\n",
            "  font.set_text(s, 0, flags=flags)\n"
          ]
        },
        {
          "output_type": "display_data",
          "data": {
            "text/plain": [
              "<Figure size 432x288 with 1 Axes>"
            ],
            "image/png": "[encoded data removed]"
          },
          "metadata": {
            "needs_background": "light"
          }
        }
      ]
    }
  ]
}